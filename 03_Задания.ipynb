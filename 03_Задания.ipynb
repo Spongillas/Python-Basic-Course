{
 "cells": [
  {
   "cell_type": "markdown",
   "metadata": {},
   "source": [
    "# Python (базовый). 03. ООП\n",
    "Задания к презентации \"03_ООП.pptx\" курса Python (basic)"
   ]
  },
  {
   "cell_type": "markdown",
   "metadata": {},
   "source": [
    "## Задание 1\n"
   ]
  },
  {
   "cell_type": "markdown",
   "metadata": {},
   "source": [
    "1. Создайте класс Employee, который будет описывать сотрудника компании.\n",
    "2. В качестве начальных атрибутов класса задайте позиционные параметры «name», «surname», «position», «age», «currency» и именованный параметр «salary», по умолчанию равный 50000.\n",
    "3. Определите метод change_currency(), который меняет валюту зарплаты, по аналогии с заданием из части «Python. Функции».\n",
    "4. Определите атрибут класса AGE_LIMITS (int, значение 70) и метод класса verify_age(), который будет возвращать True или False в зависимости от того, не превышает значения AGE_LIMITS.\n",
    "5. Добавьте в инициализатор класса проверку параметра age и в случае, если возраст сотрудника выходит за пределы диапазона, 6. выведите в консоль предупреждение о том, что возраст сотрудника не удовлетворяет корпоративным стандартам.\n",
    "7. Создайте объект employee1 класса Employee с произвольными параметрами\n",
    "8. Выведите атрибуты объекта в консоль в формате «атрибут»: «значение».\n"
   ]
  },
  {
   "cell_type": "markdown",
   "metadata": {},
   "source": [
    "## Задание 2\n",
    "1. В ранее созданном классе Employee определите статический метод convert_currency(), который принимает в качестве параметров денежную сумму, текущую валюту и требуемую валюту и возвращает значение денежной суммы в требуемой валюте.\n",
    "3. Для пересчета валюты определите внутри метода convert_currency() словарь exchange_rate, где ключом будет являться валюта, а значением – коэффициент перевода. В качестве основной валюты (которая будет иметь значение коэффициента перевода = 1) выберите «rub» и определите еще несколько других валют, например {‘rub’: 1, ‘usd’: 90, ‘eur’:100}.\n",
    "4. Замените код в методе change_currency(), оставив там только проверку, что валюта изменилась. И при изменении валюты получайте новое значение зарплаты с использованием функции convert_currency(). В случае отсутствия курса валюты в словаре exchange_rate, выводите в консоль предупреждение о невозможности изменения валюты и не меняйте атрибуты объекта. В противном случае, измените зарплату и валюту объекта.\n",
    "5. Создайте еще несколько сотрудников (объектов класса Employee) и посчитайте их суммарную зарплату и средний возраст\n"
   ]
  },
  {
   "cell_type": "markdown",
   "metadata": {},
   "source": [
    "## Задание 3\n",
    "\n",
    "1. В ранее созданном классе Employee сделайте атрибуты name, surname, position, age, salary  и currency локальными (измените имена). Добавьте для этих атрибутов геттеры с использованием декоратора @property, а для атрибутов position, age, salary добавьте сеттеры.\n",
    "2. В cеттере для age добавьте проверку типа передаваемого значения (int) и то, что он больше 0 и меньше 100. В случае, если это не int или возраст не корректный, выдавайте предупреждение о некорректном возрасте и не меняйте локальную переменную. 3. Также добавьте проверку его нахождения внутри диапазона AGE_LIMITS, в случае выхода за его пределы формируйте сообщение, аналогичное сообщению из задания 1, но изменение возраста выполните.\n",
    "4. В cеттере для salary также добавьте проверку значения на корректность (по вашим критериям) и в случае, если передаваемое значение не проходит по критериям, выводите в консоль предупреждение и не меняйте локальную переменную.\n",
    "5. Сделайте метод verify_age() защищенным (измените имя).\n"
   ]
  },
  {
   "cell_type": "markdown",
   "metadata": {},
   "source": [
    "## Задание 4\n",
    "1. Перенесите проверку типов и границ передаваемых значений для атрибутов age и salary в магический метод __setattr__(). Для age проверку нахождения возраста в диапазоне AGE_LIMITS оставьте в сеттере.\n"
   ]
  },
  {
   "cell_type": "markdown",
   "metadata": {},
   "source": [
    "## Задание 5\n",
    "1. Добавьте магический метод __call__(). Пусть при обращении к объекту как к функции в консоль выводится сообщение «Сотрудник <имя сотрудника> уже бежит к вам».\n",
    "2. Добавьте магический метод __str__(). Определите формат возвращаемой информации об объекте.\n",
    "3. Добавьте магический метод __eq__(). Пусть сотрудники будут равны, если у них одинаковые имена и фамилии\n",
    "4. Добавьте магический метод __le__(). Этот метод позволяет выполнять сравнение объектов оператором <=. Придумайте, по какому атрибуту вы будете сравнивать сотрудников и реализуйте сравнение.\n"
   ]
  },
  {
   "cell_type": "code",
   "execution_count": 114,
   "metadata": {},
   "outputs": [],
   "source": [
    "class Employee:\n",
    "    AGE_LIMITS = 49\n",
    "    class_instances = []\n",
    "\n",
    "    def __new__(cls, *args, **kwargs):\n",
    "        instance = super().__new__(cls)\n",
    "        cls.class_instances.append(instance)\n",
    "        \n",
    "        return instance\n",
    "\n",
    "    def __init__(\n",
    "            self, \n",
    "            name,\n",
    "            surname,\n",
    "            position,\n",
    "            age,\n",
    "            currency,\n",
    "            salary=50_000):\n",
    "        \n",
    "        self.__name = name\n",
    "        self.__surname = surname\n",
    "        self.__position = position\n",
    "        self.__currency = currency\n",
    "        self.__salary = salary\n",
    "        \n",
    "        self._verify_age(age)\n",
    "        self.__age = age\n",
    "\n",
    "    def __setattr__(self, name: str, value: Any) -> None:\n",
    "        if name==f\"_{type(self).__name__}__age\":\n",
    "            if not (type(value)==int and 0<=value<=100):\n",
    "                print('Некорректное значение возраста')\n",
    "                return\n",
    "            \n",
    "        if name==f\"_{type(self).__name__}__salary\":    \n",
    "            if not (type(value) in [int, float] and 0<=value<=100000):\n",
    "                print('Некорректное значение зарплаты')\n",
    "                return\n",
    "            \n",
    "        return object.__setattr__(self, name, value)\n",
    "    \n",
    "    def __call__(self):\n",
    "        print(f\"Сотрудник {self.__name} уже бежит к вам\")\n",
    "\n",
    "    def __eq__(self, other):\n",
    "        return self.__name==other.name and self.__surname==other.surname\n",
    "\n",
    "\n",
    "\n",
    "    @property\n",
    "    def name(self):\n",
    "        return self.__name\n",
    "    \n",
    "    @property\n",
    "    def surname(self):\n",
    "        return self.__surname\n",
    "    \n",
    "    @property\n",
    "    def position(self):\n",
    "        return self.__position\n",
    "    \n",
    "    @position.setter\n",
    "    def position(self, value):\n",
    "        self.__position = value\n",
    "    \n",
    "    @property\n",
    "    def currency(self):\n",
    "        return self.__currency\n",
    "    \n",
    "    @property\n",
    "    def salary(self):\n",
    "        return self.__salary\n",
    "    \n",
    "    @salary.setter\n",
    "    def salary(self, value):\n",
    "        self.__salary = value\n",
    "\n",
    "    @property\n",
    "    def age(self):\n",
    "        return self.__age\n",
    "    \n",
    "    @age.setter\n",
    "    def age(self, value):\n",
    "        self.__age = value\n",
    "        self._verify_age(self.__age)\n",
    "    \n",
    "    def change_currency(self, currency_new):\n",
    "        if self.currency != currency_new:\n",
    "            try:\n",
    "                self.salary = self.convert_currency(\n",
    "                    self.salary,\n",
    "                    self.currency,\n",
    "                    currency_new\n",
    "                )\n",
    "                self.__currency = currency_new\n",
    "                \n",
    "            except KeyError:\n",
    "                print('Недопустимое имя валют(ы)')\n",
    "    \n",
    "    @classmethod   \n",
    "    def _verify_age(cls, age):\n",
    "        res = age <= cls.AGE_LIMITS\n",
    "\n",
    "        if not res:\n",
    "            print(\"Возраст сотрудника не удовлетворяет корп.стандартам\")\n",
    "            \n",
    "        return res\n",
    "    \n",
    "    @staticmethod\n",
    "    def convert_currency(value,\n",
    "                         cur_currency, \n",
    "                         req_currency):\n",
    "        \n",
    "        exchange_rate = {\n",
    "            'rub': 1,\n",
    "            'usd': 90,\n",
    "            'eur': 100\n",
    "        }\n",
    "\n",
    "        rate = (exchange_rate[cur_currency] /\n",
    "                exchange_rate[req_currency])\n",
    "        \n",
    "        result = value * rate\n",
    "\n",
    "        return result"
   ]
  },
  {
   "cell_type": "code",
   "execution_count": 115,
   "metadata": {},
   "outputs": [],
   "source": [
    "employee1 = Employee(\n",
    "    'Василий', 'Иванов', \n",
    "    'Инженер', 35, 'rub'\n",
    "    )"
   ]
  },
  {
   "cell_type": "code",
   "execution_count": 120,
   "metadata": {},
   "outputs": [
    {
     "name": "stdout",
     "output_type": "stream",
     "text": [
      "Сотрудник Василий уже бежит к вам\n"
     ]
    }
   ],
   "source": [
    "employee1()"
   ]
  },
  {
   "cell_type": "code",
   "execution_count": 123,
   "metadata": {},
   "outputs": [],
   "source": [
    "employee2 = Employee(\n",
    "    'Василий', 'Иванов', \n",
    "    'Инженер', 35, 'rub'\n",
    "    )"
   ]
  },
  {
   "cell_type": "code",
   "execution_count": null,
   "metadata": {},
   "outputs": [],
   "source": [
    "employee1 == employee2"
   ]
  },
  {
   "cell_type": "code",
   "execution_count": 126,
   "metadata": {},
   "outputs": [
    {
     "ename": "TypeError",
     "evalue": "'>' not supported between instances of 'Employee' and 'Employee'",
     "output_type": "error",
     "traceback": [
      "\u001b[1;31m---------------------------------------------------------------------------\u001b[0m",
      "\u001b[1;31mTypeError\u001b[0m                                 Traceback (most recent call last)",
      "Cell \u001b[1;32mIn[126], line 1\u001b[0m\n\u001b[1;32m----> 1\u001b[0m employee1 \u001b[39m>\u001b[39;49m employee2\n",
      "\u001b[1;31mTypeError\u001b[0m: '>' not supported between instances of 'Employee' and 'Employee'"
     ]
    }
   ],
   "source": [
    "employee1 > employee2"
   ]
  },
  {
   "cell_type": "code",
   "execution_count": 116,
   "metadata": {},
   "outputs": [
    {
     "data": {
      "text/plain": [
       "40"
      ]
     },
     "execution_count": 116,
     "metadata": {},
     "output_type": "execute_result"
    }
   ],
   "source": [
    "employee1.age = 40\n",
    "employee1.age"
   ]
  },
  {
   "cell_type": "code",
   "execution_count": 117,
   "metadata": {},
   "outputs": [
    {
     "data": {
      "text/plain": [
       "'Василий'"
      ]
     },
     "execution_count": 117,
     "metadata": {},
     "output_type": "execute_result"
    }
   ],
   "source": [
    "employee1._Employee__name"
   ]
  },
  {
   "cell_type": "code",
   "execution_count": 119,
   "metadata": {},
   "outputs": [
    {
     "data": {
      "text/plain": [
       "'Василий'"
      ]
     },
     "execution_count": 119,
     "metadata": {},
     "output_type": "execute_result"
    }
   ],
   "source": [
    "employee1.name"
   ]
  },
  {
   "cell_type": "code",
   "execution_count": 37,
   "metadata": {},
   "outputs": [
    {
     "name": "stdout",
     "output_type": "stream",
     "text": [
      "_Employee__name: Василий\n",
      "_Employee__surname: Иванов\n",
      "_Employee__position: Инженер\n",
      "_Employee__currency: rub\n",
      "_Employee__salary: 50000\n",
      "_Employee__age: 66\n"
     ]
    }
   ],
   "source": [
    "for key, value in employee1.__dict__.items():\n",
    "    print(f\"{key}: {value}\")"
   ]
  },
  {
   "cell_type": "code",
   "execution_count": 38,
   "metadata": {},
   "outputs": [
    {
     "name": "stdout",
     "output_type": "stream",
     "text": [
      "Возраст сотрудника не удовлетворяет корп.стандартам\n"
     ]
    }
   ],
   "source": [
    "employee2 = Employee(\n",
    "    'Василий', 'Иванов', \n",
    "    'Инженер', 85, 'rub'\n",
    "    )"
   ]
  },
  {
   "cell_type": "code",
   "execution_count": 39,
   "metadata": {},
   "outputs": [
    {
     "data": {
      "text/plain": [
       "{'_Employee__name': 'Василий',\n",
       " '_Employee__surname': 'Иванов',\n",
       " '_Employee__position': 'Инженер',\n",
       " '_Employee__currency': 'rub',\n",
       " '_Employee__salary': 50000,\n",
       " '_Employee__age': 85}"
      ]
     },
     "execution_count": 39,
     "metadata": {},
     "output_type": "execute_result"
    }
   ],
   "source": [
    "employee2.__dict__"
   ]
  },
  {
   "cell_type": "code",
   "execution_count": 48,
   "metadata": {},
   "outputs": [
    {
     "data": {
      "text/plain": [
       "{'_Employee__name': 'Василий',\n",
       " '_Employee__surname': 'Иванов',\n",
       " '_Employee__position': 'Инженер',\n",
       " '_Employee__currency': 'rub',\n",
       " '_Employee__salary': 50000,\n",
       " '_Employee__age': 35}"
      ]
     },
     "execution_count": 48,
     "metadata": {},
     "output_type": "execute_result"
    }
   ],
   "source": [
    "employee1.__dict__"
   ]
  },
  {
   "cell_type": "code",
   "execution_count": 53,
   "metadata": {},
   "outputs": [
    {
     "name": "stdout",
     "output_type": "stream",
     "text": [
      "50000 rub\n"
     ]
    },
    {
     "data": {
      "text/plain": [
       "(500.0, 'eur')"
      ]
     },
     "execution_count": 53,
     "metadata": {},
     "output_type": "execute_result"
    }
   ],
   "source": [
    "print(employee1.salary, employee1.currency)\n",
    "employee1.change_currency('eur')\n",
    "\n",
    "employee1.salary, employee1.currency"
   ]
  },
  {
   "cell_type": "code",
   "execution_count": 71,
   "metadata": {},
   "outputs": [
    {
     "name": "stdout",
     "output_type": "stream",
     "text": [
      "Возраст сотрудника не удовлетворяет корп.стандартам\n",
      "Возраст сотрудника не удовлетворяет корп.стандартам\n",
      "Возраст сотрудника не удовлетворяет корп.стандартам\n",
      "Возраст сотрудника не удовлетворяет корп.стандартам\n"
     ]
    }
   ],
   "source": [
    "employee1 = Employee('Василий', 'Иванов','Инженер', 85, 'rub')\n",
    "employee2 = Employee('Василий', 'Иванов','Инженер', 85, 'rub')\n",
    "employee3= Employee('Василий', 'Иванов','Инженер', 85, 'rub')\n",
    "employee4 = Employee('Василий', 'Иванов','Инженер', 85, 'rub')"
   ]
  },
  {
   "cell_type": "code",
   "execution_count": 72,
   "metadata": {},
   "outputs": [
    {
     "name": "stdout",
     "output_type": "stream",
     "text": [
      "200000\n"
     ]
    }
   ],
   "source": [
    "sum_salary = 0\n",
    "\n",
    "\n",
    "for employee in [employee1, employee2, employee3, employee4]:\n",
    "    sum_salary += employee.salary\n",
    "\n",
    "print(sum_salary)"
   ]
  },
  {
   "cell_type": "code",
   "execution_count": 74,
   "metadata": {},
   "outputs": [
    {
     "data": {
      "text/plain": [
       "85.0"
      ]
     },
     "execution_count": 74,
     "metadata": {},
     "output_type": "execute_result"
    }
   ],
   "source": [
    "ages = [obj.age for obj in [employee1, employee2, employee3, employee4]]\n",
    "mean_age = sum(ages) / len(ages)\n",
    "mean_age"
   ]
  },
  {
   "cell_type": "code",
   "execution_count": 83,
   "metadata": {},
   "outputs": [
    {
     "name": "stdout",
     "output_type": "stream",
     "text": [
      "Возраст сотрудника не удовлетворяет корп.стандартам\n",
      "Возраст сотрудника не удовлетворяет корп.стандартам\n",
      "Возраст сотрудника не удовлетворяет корп.стандартам\n",
      "Возраст сотрудника не удовлетворяет корп.стандартам\n"
     ]
    }
   ],
   "source": [
    "emp_list = [\n",
    "    Employee('Василий1', 'Иванов','Инженер', 85, 'rub'),\n",
    "    Employee('Василий2', 'Иванов','Инженер', 85, 'rub'),\n",
    "    Employee('Василий3', 'Иванов','Инженер', 85, 'rub'),\n",
    "    Employee('Василий4', 'Иванов','Инженер', 85, 'rub')\n",
    "]"
   ]
  },
  {
   "cell_type": "code",
   "execution_count": 86,
   "metadata": {},
   "outputs": [
    {
     "data": {
      "text/plain": [
       "[<__main__.Employee at 0x24cd9b72ef0>,\n",
       " <__main__.Employee at 0x24cd9b72920>,\n",
       " <__main__.Employee at 0x24cd9b72140>,\n",
       " <__main__.Employee at 0x24cd9b719c0>]"
      ]
     },
     "execution_count": 86,
     "metadata": {},
     "output_type": "execute_result"
    }
   ],
   "source": [
    "emp_list"
   ]
  },
  {
   "cell_type": "code",
   "execution_count": 79,
   "metadata": {},
   "outputs": [
    {
     "data": {
      "text/plain": [
       "{'name': 'Василий1',\n",
       " 'surname': 'Иванов',\n",
       " 'position': 'Инженер',\n",
       " 'currency': 'rub',\n",
       " 'salary': 50000,\n",
       " 'age': 85}"
      ]
     },
     "execution_count": 79,
     "metadata": {},
     "output_type": "execute_result"
    }
   ],
   "source": [
    "emp_list[0].__dict__"
   ]
  },
  {
   "cell_type": "code",
   "execution_count": 87,
   "metadata": {},
   "outputs": [],
   "source": [
    "lst1 = Employee.class_instances"
   ]
  },
  {
   "cell_type": "code",
   "execution_count": 90,
   "metadata": {},
   "outputs": [
    {
     "data": {
      "text/plain": [
       "200000"
      ]
     },
     "execution_count": 90,
     "metadata": {},
     "output_type": "execute_result"
    }
   ],
   "source": [
    "sum([obj.salary for obj in lst1])"
   ]
  },
  {
   "cell_type": "markdown",
   "metadata": {},
   "source": [
    "## Задание 6\n",
    "\n",
    "1. Создайте на основе встроенного класса dict новый класс superdict, в котором определите метод get_. Этот метод будет дублировать функции метода get базового класса, но дополнительно будет выводить в консоль предупреждение, что ключ отсутствует.\n"
   ]
  },
  {
   "cell_type": "code",
   "execution_count": 161,
   "metadata": {},
   "outputs": [],
   "source": [
    "class SuperDict(dict):\n",
    "\n",
    "    def get_(self, __key, __default=None):\n",
    "        if __key not in self.keys():\n",
    "            print(f\"Ключ {__key} отсутствует в словаре\")\n",
    "\n",
    "        return self.get(__key, __default)\n",
    "        "
   ]
  },
  {
   "cell_type": "code",
   "execution_count": 165,
   "metadata": {},
   "outputs": [
    {
     "name": "stdout",
     "output_type": "stream",
     "text": [
      "Ключ khjhjkjhk отсутствует в словаре\n"
     ]
    }
   ],
   "source": [
    "dict1 = SuperDict()\n",
    "dict1 = SuperDict({'k1': 1, 'k2': 2})\n",
    "dict1['k1'] = 10\n",
    "dict1['k2'] = 20\n",
    "dict1.get_('khjhjkjhk')"
   ]
  },
  {
   "cell_type": "markdown",
   "metadata": {},
   "source": [
    "## Задание 7\n",
    "\n",
    "1. Создайте классы Engineer и Manager, унаследованные от класса Employee.\n",
    "2. В классе Engineer переопределите атрибут базового класса AGE_LIMITS на 50.\n",
    "3. В классе Manager переопределите значение по умолчанию параметра salary \n",
    "4. В классе Engineer определите метод change_salary(), добавив проверку на процент увеличения зарплаты. Если зарплата увеличилась более чем на 50%, нужно выводить в консоль предупреждение о подозрении на коррупционные схемы.\n",
    "5. Добавьте в класс Engineer атрибут manager – ссылка на объект класса Manager.\n",
    "6. Добавьте в класс Manager атрибут engineers – список объектов класса Engineer.\n",
    "7. Добавьте в класс Manager метод add_engineer(), который будет принимать на вход ссылку на объект Engineer и добавлять ее в список engineers, если данного объекта еще нет в списке. Кроме того, при добавлении ссылки на объект Engineer необходимо в этом объекте присвоить значению manager ссылку на объект класса Manager, в чей список попал инженер.\n",
    "8. Создайте 5 объектов класса Engineer и 2 объекта класса Manager и распределите инженеров по менеджерам. Выведите в консоль атрибут engineers объектов класса Manager.\n"
   ]
  },
  {
   "cell_type": "code",
   "execution_count": 54,
   "metadata": {},
   "outputs": [],
   "source": [
    "\n",
    "class Employee:\n",
    "    AGE_LIMITS = 49\n",
    "    class_instances = []\n",
    "\n",
    "    def __new__(cls, *args, **kwargs):\n",
    "        instance = super().__new__(cls)\n",
    "        cls.class_instances.append(instance)\n",
    "        \n",
    "        return instance\n",
    "\n",
    "    def __init__(\n",
    "            self, \n",
    "            name,\n",
    "            surname,\n",
    "            position,\n",
    "            age,\n",
    "            currency='rub',\n",
    "            salary=50_000):\n",
    "        \n",
    "        self.__name = name\n",
    "        self.__surname = surname\n",
    "        self.__position = position\n",
    "        self.__currency = currency\n",
    "        self.__salary = salary\n",
    "        \n",
    "        self._verify_age(age)\n",
    "        self.__age = age\n",
    "\n",
    "    def __setattr__(self, name: str, value: any) -> None:\n",
    "        if name==f\"_{type(self).__name__}__age\":\n",
    "            if not (type(value)==int and 0<=value<=100):\n",
    "                print('Некорректное значение возраста')\n",
    "                return\n",
    "            \n",
    "        if name==f\"_{type(self).__name__}__salary\":    \n",
    "            if not (type(value) in [int, float] and 0<=value<=100000):\n",
    "                print('Некорректное значение зарплаты')\n",
    "                return\n",
    "            \n",
    "        return object.__setattr__(self, name, value)\n",
    "    \n",
    "    def __call__(self):\n",
    "        print(f\"Сотрудник {self.__name} уже бежит к вам\")\n",
    "\n",
    "    def __eq__(self, other):\n",
    "        return self.__name==other.name and self.__surname==other.surname\n",
    "\n",
    "    def __str__(self):\n",
    "        return f\"{self.name} {self.surname}\"\n",
    "\n",
    "\n",
    "\n",
    "    @property\n",
    "    def name(self):\n",
    "        return self.__name\n",
    "    \n",
    "    @property\n",
    "    def surname(self):\n",
    "        return self.__surname\n",
    "    \n",
    "    @property\n",
    "    def position(self):\n",
    "        return self.__position\n",
    "    \n",
    "    @position.setter\n",
    "    def position(self, value):\n",
    "        self.__position = value\n",
    "    \n",
    "    @property\n",
    "    def currency(self):\n",
    "        return self.__currency\n",
    "    \n",
    "    @currency.setter\n",
    "    def currency(self, value):\n",
    "        self.__currency = value\n",
    "    \n",
    "    @property\n",
    "    def salary(self):\n",
    "        return self.__salary\n",
    "    \n",
    "    @salary.setter\n",
    "    def salary(self, value):\n",
    "        self.__salary = value\n",
    "\n",
    "    @property\n",
    "    def age(self):\n",
    "        return self.__age\n",
    "    \n",
    "    @age.setter\n",
    "    def age(self, value):\n",
    "        self.__age = value\n",
    "        self._verify_age(self.__age)\n",
    "    \n",
    "    def change_currency(self, currency_new):\n",
    "        if self.currency != currency_new:\n",
    "            try:\n",
    "                self.salary = self.convert_currency(\n",
    "                    self.salary,\n",
    "                    self.currency,\n",
    "                    currency_new\n",
    "                )\n",
    "                self.__currency = currency_new\n",
    "                \n",
    "            except KeyError:\n",
    "                print('Недопустимое имя валют(ы)')\n",
    "    \n",
    "    @classmethod   \n",
    "    def _verify_age(cls, age):\n",
    "        res = age <= cls.AGE_LIMITS\n",
    "\n",
    "        if not res:\n",
    "            print(\"Возраст сотрудника не удовлетворяет корп.стандартам\")\n",
    "            \n",
    "        return res\n",
    "    \n",
    "    @staticmethod\n",
    "    def convert_currency(value,\n",
    "                         cur_currency, \n",
    "                         req_currency):\n",
    "        \n",
    "        exchange_rate = {\n",
    "            'rub': 1,\n",
    "            'usd': 90,\n",
    "            'eur': 100\n",
    "        }\n",
    "\n",
    "        rate = (exchange_rate[cur_currency] /\n",
    "                exchange_rate[req_currency])\n",
    "        \n",
    "        result = value * rate\n",
    "\n",
    "        return result\n",
    "\n",
    "\n",
    "class Engineer(Employee):\n",
    "    AGE_LIMITS = 50\n",
    "\n",
    "    def __init__(self, *args, **kwargs):\n",
    "        super().__init__(*args, **kwargs)\n",
    "        self.manager = None\n",
    "\n",
    "class Manager(Employee):\n",
    "    \n",
    "    def __init__(self, name, surname, position, age, currency, salary=60000):\n",
    "        super().__init__(name, surname, position, age, currency, salary)\n",
    "        self.engineers = list()\n",
    "\n",
    "    def add_engineer(self, engineer):\n",
    "        if engineer not in  self.engineers:\n",
    "            self.engineers.append(engineer)\n",
    "            engineer.manager = self\n",
    "\n",
    "\n",
    "    def change_salary(self, new_salary, currency=None):\n",
    "        old_salary = self.salary\n",
    "        self.salary = new_salary\n",
    "\n",
    "        if currency is not None and currency != self.currency:\n",
    "            old_salary = self.convert_currency(old_salary, self.currency, currency)\n",
    "            self.currency = currency\n",
    "        \n",
    "        if (new_salary - old_salary) / old_salary > 0.5:\n",
    "            print(\"Подозрение на коррупционные схемы!\")\n"
   ]
  },
  {
   "cell_type": "code",
   "execution_count": 55,
   "metadata": {},
   "outputs": [],
   "source": [
    "manager1 = Manager('Alex', 'Ivanov', 'manager', 33, 'rub')"
   ]
  },
  {
   "cell_type": "code",
   "execution_count": 56,
   "metadata": {},
   "outputs": [
    {
     "data": {
      "text/plain": [
       "{'_Employee__name': 'Alex',\n",
       " '_Employee__surname': 'Ivanov',\n",
       " '_Employee__position': 'manager',\n",
       " '_Employee__currency': 'rub',\n",
       " '_Employee__salary': 60000,\n",
       " '_Employee__age': 33,\n",
       " 'engineers': []}"
      ]
     },
     "execution_count": 56,
     "metadata": {},
     "output_type": "execute_result"
    }
   ],
   "source": [
    "manager1.__dict__"
   ]
  },
  {
   "cell_type": "code",
   "execution_count": 57,
   "metadata": {},
   "outputs": [
    {
     "data": {
      "text/plain": [
       "{'_Employee__name': 'Ivan',\n",
       " '_Employee__surname': 'Toropov',\n",
       " '_Employee__position': 'engineer',\n",
       " '_Employee__currency': 'rub',\n",
       " '_Employee__salary': 50000,\n",
       " '_Employee__age': 33,\n",
       " 'manager': None}"
      ]
     },
     "execution_count": 57,
     "metadata": {},
     "output_type": "execute_result"
    }
   ],
   "source": [
    "engineer1 = Engineer('Ivan', 'Toropov', 'engineer', 33)\n",
    "engineer1.__dict__"
   ]
  },
  {
   "cell_type": "code",
   "execution_count": 58,
   "metadata": {},
   "outputs": [
    {
     "name": "stdout",
     "output_type": "stream",
     "text": [
      "[]\n",
      "['Ivan Toropov']\n",
      "Alex Ivanov\n"
     ]
    }
   ],
   "source": [
    "print(manager1.engineers)\n",
    "manager1.add_engineer(engineer1)\n",
    "\n",
    "print([str(engineer) for engineer in manager1.engineers])\n",
    "print(engineer1.manager)"
   ]
  },
  {
   "cell_type": "code",
   "execution_count": 59,
   "metadata": {},
   "outputs": [
    {
     "name": "stdout",
     "output_type": "stream",
     "text": [
      "['Ivan Toropov', 'Petr Petrov']\n",
      "Alex Ivanov\n"
     ]
    }
   ],
   "source": [
    "manager1.add_engineer(Engineer('Petr', 'Petrov', 'engineer', 40))\n",
    "print([str(engineer) for engineer in manager1.engineers])\n",
    "print(manager1.engineers[1].manager)"
   ]
  },
  {
   "cell_type": "markdown",
   "metadata": {},
   "source": [
    "## Задание 8\n",
    "\n",
    "1. В классе Employee добавьте абстрактный метод give_premium(). \n",
    "2. Определите метод give_premium() в классах Engineer и Manager. Метод должен выводить в консоль сообщение типа <position> <name> <surname> получил премию в размере <размер премии>. Размер премии для объекта класса Engineer должен равняться 10% от его зарплаты, а для объекта класса Manager – 15% от суммы всех зарплат инженеров, находящихся в его подчинении.\n",
    "3. Пересоздайте объекты классов Engineer и Manager и в цикле дайте каждому из них премию.\n"
   ]
  },
  {
   "cell_type": "code",
   "execution_count": 67,
   "metadata": {},
   "outputs": [],
   "source": [
    "from abc import ABC, abstractmethod\n",
    "\n",
    "class Employee(ABC):\n",
    "    AGE_LIMITS = 49\n",
    "    class_instances = []\n",
    "\n",
    "    def __new__(cls, *args, **kwargs):\n",
    "        instance = super().__new__(cls)\n",
    "        cls.class_instances.append(instance)\n",
    "        \n",
    "        return instance\n",
    "\n",
    "    def __init__(\n",
    "            self, \n",
    "            name,\n",
    "            surname,\n",
    "            position,\n",
    "            age,\n",
    "            currency='rub',\n",
    "            salary=50_000):\n",
    "        \n",
    "        self.__name = name\n",
    "        self.__surname = surname\n",
    "        self.__position = position\n",
    "        self.__currency = currency\n",
    "        self.__salary = salary\n",
    "        \n",
    "        self._verify_age(age)\n",
    "        self.__age = age\n",
    "\n",
    "    def __setattr__(self, name: str, value: any) -> None:\n",
    "        if name==f\"_{type(self).__name__}__age\":\n",
    "            if not (type(value)==int and 0<=value<=100):\n",
    "                print('Некорректное значение возраста')\n",
    "                return\n",
    "            \n",
    "        if name==f\"_{type(self).__name__}__salary\":    \n",
    "            if not (type(value) in [int, float] and 0<=value<=100000):\n",
    "                print('Некорректное значение зарплаты')\n",
    "                return\n",
    "            \n",
    "        return object.__setattr__(self, name, value)\n",
    "    \n",
    "    def __call__(self):\n",
    "        print(f\"Сотрудник {self.__name} уже бежит к вам\")\n",
    "\n",
    "    def __eq__(self, other):\n",
    "        return self.__name==other.name and self.__surname==other.surname\n",
    "\n",
    "    def __str__(self):\n",
    "        return f\"{self.name} {self.surname}\"\n",
    "\n",
    "\n",
    "\n",
    "    @property\n",
    "    def name(self):\n",
    "        return self.__name\n",
    "    \n",
    "    @property\n",
    "    def surname(self):\n",
    "        return self.__surname\n",
    "    \n",
    "    @property\n",
    "    def position(self):\n",
    "        return self.__position\n",
    "    \n",
    "    @position.setter\n",
    "    def position(self, value):\n",
    "        self.__position = value\n",
    "    \n",
    "    @property\n",
    "    def currency(self):\n",
    "        return self.__currency\n",
    "    \n",
    "    @currency.setter\n",
    "    def currency(self, value):\n",
    "        self.__currency = value\n",
    "    \n",
    "    @property\n",
    "    def salary(self):\n",
    "        return self.__salary\n",
    "    \n",
    "    @salary.setter\n",
    "    def salary(self, value):\n",
    "        self.__salary = value\n",
    "\n",
    "    @property\n",
    "    def age(self):\n",
    "        return self.__age\n",
    "    \n",
    "    @age.setter\n",
    "    def age(self, value):\n",
    "        self.__age = value\n",
    "        self._verify_age(self.__age)\n",
    "\n",
    "    @abstractmethod\n",
    "    def give_premium(self):\n",
    "        pass\n",
    "\n",
    "    \n",
    "    def change_currency(self, currency_new):\n",
    "        if self.currency != currency_new:\n",
    "            try:\n",
    "                self.salary = self.convert_currency(\n",
    "                    self.salary,\n",
    "                    self.currency,\n",
    "                    currency_new\n",
    "                )\n",
    "                self.__currency = currency_new\n",
    "                \n",
    "            except KeyError:\n",
    "                print('Недопустимое имя валют(ы)')\n",
    "    \n",
    "    @classmethod   \n",
    "    def _verify_age(cls, age):\n",
    "        res = age <= cls.AGE_LIMITS\n",
    "\n",
    "        if not res:\n",
    "            print(\"Возраст сотрудника не удовлетворяет корп.стандартам\")\n",
    "            \n",
    "        return res\n",
    "    \n",
    "    @staticmethod\n",
    "    def convert_currency(value,\n",
    "                         cur_currency, \n",
    "                         req_currency):\n",
    "        \n",
    "        exchange_rate = {\n",
    "            'rub': 1,\n",
    "            'usd': 90,\n",
    "            'eur': 100\n",
    "        }\n",
    "\n",
    "        rate = (exchange_rate[cur_currency] /\n",
    "                exchange_rate[req_currency])\n",
    "        \n",
    "        result = value * rate\n",
    "\n",
    "        return result\n",
    "\n",
    "\n",
    "class Engineer(Employee):\n",
    "    AGE_LIMITS = 50\n",
    "\n",
    "    def __init__(self, *args, **kwargs):\n",
    "        super().__init__(*args, **kwargs)\n",
    "        self.manager = None\n",
    "\n",
    "    def give_premium(self):\n",
    "        return self.salary * 0.1\n",
    "\n",
    "class Manager(Employee):\n",
    "    \n",
    "    def __init__(self, name, surname, position, age, currency, salary=60000):\n",
    "        super().__init__(name, surname, position, age, currency, salary)\n",
    "        self.engineers = list()\n",
    "\n",
    "    def add_engineer(self, engineer):\n",
    "        if engineer not in  self.engineers:\n",
    "            self.engineers.append(engineer)\n",
    "            engineer.manager = self\n",
    "\n",
    "    def give_premium(self):\n",
    "        return sum([engineer.salary for engineer in self.engineers]) * 0.15\n",
    "\n",
    "\n",
    "    def change_salary(self, new_salary, currency=None):\n",
    "        old_salary = self.salary\n",
    "        self.salary = new_salary\n",
    "\n",
    "        if currency is not None and currency != self.currency:\n",
    "            old_salary = self.convert_currency(old_salary, self.currency, currency)\n",
    "            self.currency = currency\n",
    "        \n",
    "        if (new_salary - old_salary) / old_salary > 0.5:\n",
    "            print(\"Подозрение на коррупционные схемы!\")\n"
   ]
  },
  {
   "cell_type": "code",
   "execution_count": 68,
   "metadata": {},
   "outputs": [
    {
     "name": "stdout",
     "output_type": "stream",
     "text": [
      "Alex Ivanov получил премию в размере 15000.0\n",
      "Ivan Toropov получил премию в размере 5000.0\n"
     ]
    }
   ],
   "source": [
    "manager1 = Manager('Alex', 'Ivanov', 'manager', 33, 'rub')\n",
    "engineer1 = Engineer('Ivan', 'Toropov', 'engineer', 33)\n",
    "manager1.add_engineer(engineer1)\n",
    "manager1.add_engineer(Engineer('Petr', 'Petrov', 'engineer', 40))\n",
    "\n",
    "\n",
    "print(f\"{manager1} получил премию в размере {manager1.give_premium()}\")\n",
    "print(f\"{engineer1} получил премию в размере {engineer1.give_premium()}\")"
   ]
  },
  {
   "cell_type": "markdown",
   "metadata": {},
   "source": [
    "## Задание 9\n",
    "\n",
    "1. Объявите класс Person, от которого будет наследоваться класс Employee.\n",
    "2. Переместите в Person все атрибуты и методы, рассматривающие сотрудника как человека: возраст, имя и фамилия.\n",
    "3. Пересоздайте объекты классов Engineer и Manager и убедитесь в корректной работе всех функций.\n"
   ]
  },
  {
   "cell_type": "code",
   "execution_count": 25,
   "metadata": {},
   "outputs": [],
   "source": [
    "from abc import ABC, abstractmethod\n",
    "\n",
    "class Person:\n",
    "\n",
    "    def __new__(cls, *args, **kwargs):\n",
    "\n",
    "        age = kwargs.get('age', None)\n",
    "\n",
    "        if age is not None and not 0<age<=100:\n",
    "            print('Укажите корректный возраст, объект не создан')\n",
    "            return\n",
    "\n",
    "        instance = super().__new__(cls)\n",
    "        \n",
    "        return instance\n",
    "\n",
    "    def __init__(self, name, surname, age):\n",
    "        self.__name = name\n",
    "        self.__surname = surname\n",
    "        \n",
    "        self.__age = age\n",
    "\n",
    "    @property\n",
    "    def name(self):\n",
    "        return self.__name\n",
    "    \n",
    "    @property\n",
    "    def surname(self):\n",
    "        return self.__surname\n",
    "\n",
    "    @property\n",
    "    def age(self):\n",
    "        return self.__age\n",
    "\n",
    "    @age.setter\n",
    "    def age(self, value):\n",
    "        if 0 < value <=100:\n",
    "            self.__age = value\n",
    "\n",
    "    def __str__(self):\n",
    "        return f\"{self.name} {self.surname}\"\n",
    "\n",
    "    def __setattr__(self, name: str, value: any) -> None:\n",
    "        if name==f\"_{type(self).__name__}__age\":\n",
    "            if not (type(value)==int and 0<=value<=100):\n",
    "                print('Некорректное значение возраста')\n",
    "                return \n",
    "            \n",
    "        return object.__setattr__(self, name, value)\n",
    "\n",
    "\n",
    "class Employee(Person, ABC):\n",
    "    AGE_LIMITS = 49\n",
    "    class_instances = []\n",
    "\n",
    "    def __new__(cls, *args, **kwargs):\n",
    "        instance = super().__new__(cls, age=args[3])\n",
    "        cls.class_instances.append(instance)\n",
    "        \n",
    "        return instance\n",
    "\n",
    "    def __init__(\n",
    "            self, \n",
    "            name,\n",
    "            surname,\n",
    "            position,\n",
    "            age,\n",
    "            currency='rub',\n",
    "            salary=50_000):\n",
    "\n",
    "        super().__init__(name, surname, age)\n",
    "        \n",
    "        self.__position = position\n",
    "        self.__currency = currency\n",
    "        self.__salary = salary\n",
    "        self._verify_age(self.age)\n",
    "\n",
    "    def __setattr__(self, name: str, value: any) -> None:\n",
    "            \n",
    "        if name==f\"_{type(self).__name__}__salary\":    \n",
    "            if not (type(value) in [int, float] and 0<=value<=100000):\n",
    "                print('Некорректное значение зарплаты')\n",
    "                return\n",
    "            \n",
    "        return object.__setattr__(self, name, value)\n",
    "    \n",
    "    def __call__(self):\n",
    "        print(f\"Сотрудник {self.__name} уже бежит к вам\")\n",
    "\n",
    "    def __eq__(self, other):\n",
    "        return self.name==other.name and self.surname==other.surname\n",
    "    \n",
    "    @property\n",
    "    def position(self):\n",
    "        return self.__position\n",
    "    \n",
    "    @position.setter\n",
    "    def position(self, value):\n",
    "        self.__position = value\n",
    "    \n",
    "    @property\n",
    "    def currency(self):\n",
    "        return self.__currency\n",
    "    \n",
    "    @currency.setter\n",
    "    def currency(self, value):\n",
    "        self.__currency = value\n",
    "    \n",
    "    @property\n",
    "    def salary(self):\n",
    "        return self.__salary\n",
    "    \n",
    "    @salary.setter\n",
    "    def salary(self, value):\n",
    "        self.__salary = value\n",
    "\n",
    "    @abstractmethod\n",
    "    def give_premium(self):\n",
    "        pass\n",
    "\n",
    "    \n",
    "    def change_currency(self, currency_new):\n",
    "        if self.currency != currency_new:\n",
    "            try:\n",
    "                self.salary = self.convert_currency(\n",
    "                    self.salary,\n",
    "                    self.currency,\n",
    "                    currency_new\n",
    "                )\n",
    "                self.__currency = currency_new\n",
    "                \n",
    "            except KeyError:\n",
    "                print('Недопустимое имя валют(ы)')\n",
    "    \n",
    "    @classmethod   \n",
    "    def _verify_age(cls, age):\n",
    "        res = age <= cls.AGE_LIMITS\n",
    "\n",
    "        if not res:\n",
    "            print(\"Возраст сотрудника не удовлетворяет корп.стандартам\")\n",
    "            \n",
    "        return res\n",
    "    \n",
    "    @staticmethod\n",
    "    def convert_currency(value,\n",
    "                         cur_currency, \n",
    "                         req_currency):\n",
    "        \n",
    "        exchange_rate = {\n",
    "            'rub': 1,\n",
    "            'usd': 90,\n",
    "            'eur': 100\n",
    "        }\n",
    "\n",
    "        rate = (exchange_rate[cur_currency] /\n",
    "                exchange_rate[req_currency])\n",
    "        \n",
    "        result = value * rate\n",
    "\n",
    "        return result\n",
    "\n",
    "\n",
    "class Engineer(Employee):\n",
    "    AGE_LIMITS = 50\n",
    "\n",
    "    def __init__(self, *args, **kwargs):\n",
    "        super().__init__(*args, **kwargs)\n",
    "        self.manager = None\n",
    "\n",
    "    def give_premium(self):\n",
    "        return self.salary * 0.1\n",
    "\n",
    "class Manager(Employee):\n",
    "    \n",
    "    def __init__(self, name, surname, position, age, currency, salary=60000):\n",
    "        super().__init__(name, surname, position, age, currency, salary)\n",
    "        self.engineers = list()\n",
    "\n",
    "    def add_engineer(self, engineer):\n",
    "        if engineer not in  self.engineers:\n",
    "            self.engineers.append(engineer)\n",
    "            engineer.manager = self\n",
    "\n",
    "    def give_premium(self):\n",
    "        return sum([engineer.salary for engineer in self.engineers]) * 0.15\n",
    "\n",
    "\n",
    "    def change_salary(self, new_salary, currency=None):\n",
    "        old_salary = self.salary\n",
    "        self.salary = new_salary\n",
    "\n",
    "        if currency is not None and currency != self.currency:\n",
    "            old_salary = self.convert_currency(old_salary, self.currency, currency)\n",
    "            self.currency = currency\n",
    "        \n",
    "        if (new_salary - old_salary) / old_salary > 0.5:\n",
    "            print(\"Подозрение на коррупционные схемы!\")"
   ]
  },
  {
   "cell_type": "code",
   "execution_count": 26,
   "metadata": {},
   "outputs": [
    {
     "name": "stdout",
     "output_type": "stream",
     "text": [
      "Alex Ivanov получил премию в размере 15000.0\n",
      "Ivan Toropov получил премию в размере 5000.0\n"
     ]
    }
   ],
   "source": [
    "manager1 = Manager('Alex', 'Ivanov', 'manager', 33, 'rub')\n",
    "engineer1 = Engineer('Ivan', 'Toropov', 'engineer', 33)\n",
    "manager1.add_engineer(engineer1)\n",
    "manager1.add_engineer(Engineer('Petr', 'Petrov', 'engineer', 40))\n",
    "\n",
    "\n",
    "print(f\"{manager1} получил премию в размере {manager1.give_premium()}\")\n",
    "print(f\"{engineer1} получил премию в размере {engineer1.give_premium()}\")"
   ]
  },
  {
   "cell_type": "code",
   "execution_count": 1,
   "metadata": {},
   "outputs": [
    {
     "ename": "NameError",
     "evalue": "name 'Manager' is not defined",
     "output_type": "error",
     "traceback": [
      "\u001b[1;31m---------------------------------------------------------------------------\u001b[0m",
      "\u001b[1;31mNameError\u001b[0m                                 Traceback (most recent call last)",
      "\u001b[1;32mC:\\Users\\ASKORO~1\\AppData\\Local\\Temp/ipykernel_6788/2113453085.py\u001b[0m in \u001b[0;36m<module>\u001b[1;34m\u001b[0m\n\u001b[1;32m----> 1\u001b[1;33m \u001b[0mmanager2\u001b[0m \u001b[1;33m=\u001b[0m \u001b[0mManager\u001b[0m\u001b[1;33m(\u001b[0m\u001b[1;34m'Alex'\u001b[0m\u001b[1;33m,\u001b[0m \u001b[1;34m'Ivanov'\u001b[0m\u001b[1;33m,\u001b[0m \u001b[1;34m'manager'\u001b[0m\u001b[1;33m,\u001b[0m \u001b[1;36m133\u001b[0m\u001b[1;33m,\u001b[0m \u001b[1;34m'rub'\u001b[0m\u001b[1;33m)\u001b[0m\u001b[1;33m\u001b[0m\u001b[1;33m\u001b[0m\u001b[0m\n\u001b[0m",
      "\u001b[1;31mNameError\u001b[0m: name 'Manager' is not defined"
     ]
    }
   ],
   "source": [
    "manager2 = Manager('Alex', 'Ivanov', 'manager', 133, 'rub')"
   ]
  },
  {
   "cell_type": "code",
   "execution_count": 29,
   "metadata": {},
   "outputs": [],
   "source": [
    "give_premium"
   ]
  },
  {
   "cell_type": "code",
   "execution_count": null,
   "metadata": {},
   "outputs": [],
   "source": []
  }
 ],
 "metadata": {
  "kernelspec": {
   "display_name": "Python 3 (ipykernel)",
   "language": "python",
   "name": "python3"
  },
  "language_info": {
   "codemirror_mode": {
    "name": "ipython",
    "version": 3
   },
   "file_extension": ".py",
   "mimetype": "text/x-python",
   "name": "python",
   "nbconvert_exporter": "python",
   "pygments_lexer": "ipython3",
   "version": "3.9.7"
  }
 },
 "nbformat": 4,
 "nbformat_minor": 4
}
