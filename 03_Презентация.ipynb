{
 "cells": [
  {
   "cell_type": "markdown",
   "metadata": {},
   "source": [
    "# Python (базовый). 03. ООП\n",
    "\n",
    "Ноутбук к презентации \"03_ООП.pptx\" курса Python (basic)"
   ]
  },
  {
   "cell_type": "markdown",
   "metadata": {},
   "source": [
    "## 03.01. Пример класса"
   ]
  },
  {
   "cell_type": "code",
   "execution_count": 18,
   "metadata": {},
   "outputs": [],
   "source": [
    "class Country:\n",
    "    NAME = 'class_Country'\n",
    "    \n",
    "    def __init__(self, name, population, continent):\n",
    "        self.name = name\n",
    "        self.population = population\n",
    "        self.continent = continent\n",
    "\n",
    "    def increase_population(self, value):\n",
    "        self.population += value\n"
   ]
  },
  {
   "cell_type": "code",
   "execution_count": 22,
   "metadata": {},
   "outputs": [
    {
     "name": "stdout",
     "output_type": "stream",
     "text": [
      "<class '__main__.Country'>\n",
      "<__main__.Country object at 0x00000149CE5658B0>\n",
      "Население:  150000000\n",
      "Население:  150099999\n"
     ]
    }
   ],
   "source": [
    "russia = Country('Russia', 150_000_000, ['Asia', 'Europe'])\n",
    "print(Country)\n",
    "print(russia)\n",
    "print(\"Население: \", russia.population)\n",
    "russia.increase_population(99999)\n",
    "print(\"Население: \", russia.population)"
   ]
  },
  {
   "cell_type": "code",
   "execution_count": 23,
   "metadata": {},
   "outputs": [
    {
     "name": "stdout",
     "output_type": "stream",
     "text": [
      "russia: {'name': 'Russia', 'population': 150099999, 'continent': ['Asia', 'Europe']}\n"
     ]
    },
    {
     "data": {
      "text/plain": [
       "mappingproxy({'__module__': '__main__',\n",
       "              'NAME': 'class_Country',\n",
       "              '__init__': <function __main__.Country.__init__(self, name, population, continent)>,\n",
       "              'increase_population': <function __main__.Country.increase_population(self, value)>,\n",
       "              '__dict__': <attribute '__dict__' of 'Country' objects>,\n",
       "              '__weakref__': <attribute '__weakref__' of 'Country' objects>,\n",
       "              '__doc__': None})"
      ]
     },
     "execution_count": 23,
     "metadata": {},
     "output_type": "execute_result"
    }
   ],
   "source": [
    "print(\"russia:\", russia.__dict__)\n",
    "Country.__dict__"
   ]
  },
  {
   "cell_type": "code",
   "execution_count": 24,
   "metadata": {},
   "outputs": [
    {
     "name": "stdout",
     "output_type": "stream",
     "text": [
      "class_Country\n",
      "class_Country\n"
     ]
    }
   ],
   "source": [
    "print(Country.NAME)\n",
    "print(russia.NAME)"
   ]
  },
  {
   "cell_type": "code",
   "execution_count": 26,
   "metadata": {},
   "outputs": [
    {
     "data": {
      "text/plain": [
       "{'name': 'Russia',\n",
       " 'population': 150099999,\n",
       " 'continent': ['Asia', 'Europe'],\n",
       " 'NAME': 'Russia'}"
      ]
     },
     "execution_count": 26,
     "metadata": {},
     "output_type": "execute_result"
    }
   ],
   "source": [
    "russia.NAME = 'Russia'\n",
    "russia.__dict__\n"
   ]
  },
  {
   "cell_type": "code",
   "execution_count": 27,
   "metadata": {},
   "outputs": [
    {
     "name": "stdout",
     "output_type": "stream",
     "text": [
      "class_Country\n",
      "Russia\n"
     ]
    }
   ],
   "source": [
    "print(Country.NAME)\n",
    "print(russia.NAME)"
   ]
  },
  {
   "cell_type": "markdown",
   "metadata": {},
   "source": [
    "## 03.02. Методы класса и статические методы"
   ]
  },
  {
   "cell_type": "code",
   "execution_count": 43,
   "metadata": {},
   "outputs": [],
   "source": [
    "class Country:\n",
    "    favorite_country = 'Russia'    \n",
    "    \n",
    "    def __init__(self, name, population, continent):\n",
    "        self.name = name\n",
    "        self.population = population\n",
    "        self.continent = continent\n",
    "        self.__private_attribute = 'пример локального атрибута'\n",
    "        self._protected_attribute = 'пример защищенного атрибута'\n",
    "\n",
    "    def increase_population(self, value):\n",
    "        self.population += value\n",
    "\n",
    "    @classmethod\n",
    "    def is_favorite(cls, country_name):\n",
    "        return country_name in cls.favorite_country\n",
    "\n",
    "    @staticmethod\n",
    "    def calc_millions(population):\n",
    "        return population / 1000000\n",
    "\n",
    "russia = Country('Russia', 150_000_000, ['Asia', 'Europe'])"
   ]
  },
  {
   "cell_type": "code",
   "execution_count": 44,
   "metadata": {},
   "outputs": [
    {
     "name": "stdout",
     "output_type": "stream",
     "text": [
      "True\n",
      "5.9\n"
     ]
    }
   ],
   "source": [
    "print(russia.is_favorite('Russia'))\n",
    "print(russia.calc_millions(5900000))"
   ]
  },
  {
   "cell_type": "code",
   "execution_count": 47,
   "metadata": {},
   "outputs": [],
   "source": [
    "russia._protected_attribute = russia._protected_attribute + ' да пофиг'"
   ]
  },
  {
   "cell_type": "code",
   "execution_count": 48,
   "metadata": {},
   "outputs": [
    {
     "data": {
      "text/plain": [
       "{'name': 'Russia',\n",
       " 'population': 150000000,\n",
       " 'continent': ['Asia', 'Europe'],\n",
       " '_Country__private_attribute': 'пример локального атрибута',\n",
       " '_protected_attribute': 'пример защищенного атрибута да пофиг'}"
      ]
     },
     "execution_count": 48,
     "metadata": {},
     "output_type": "execute_result"
    }
   ],
   "source": [
    "russia.__dict__"
   ]
  },
  {
   "cell_type": "markdown",
   "metadata": {},
   "source": [
    "## 03.03. Магические методы, сеттеры и геттеры"
   ]
  },
  {
   "cell_type": "code",
   "execution_count": 80,
   "metadata": {},
   "outputs": [],
   "source": [
    "class Country:\n",
    "    favorite_country = 'Russia'    \n",
    "\n",
    "    def __eq__(self, other):\n",
    "        return self.name == other.name\n",
    "\n",
    "    def __call__(self, *args, **kwargs):\n",
    "        print(f'{self.name} нуждается в вас!')\n",
    "\n",
    "    def __str__(self):\n",
    "        return f\"Страна {self.name} с населением {self.population}\"\n",
    "\n",
    "    def __setattr__(self, key, value):\n",
    "        if key=='id':\n",
    "            if value != 'id':\n",
    "                return\n",
    "        \n",
    "        return object.__setattr__(self, key, value)\n",
    "    \n",
    "    def __init__(self, name, population, continent):\n",
    "        self.id = 'id'\n",
    "        self.name = name\n",
    "        self.population = population\n",
    "        self.continent = continent\n",
    "        self.__private_attribute = 'пример локального атрибута'\n",
    "        self._protected_attribute = 'пример защищенного атрибута'\n",
    "\n",
    "    @property\n",
    "    def private_attribute(self):\n",
    "        return self.__private_attribute\n",
    "\n",
    "    @private_attribute.setter\n",
    "    def private_attribute(self, value):\n",
    "        self.__private_attribute = value\n",
    "\n",
    "    def increase_population(self, value):\n",
    "        self.population += value\n",
    "\n",
    "    @classmethod\n",
    "    def is_favorite(cls, country_name):\n",
    "        return country_name in cls.favorite_country\n",
    "\n",
    "    @staticmethod\n",
    "    def calc_millions(population):\n",
    "        return population / 1000000\n",
    "\n",
    "russia = Country('Russia', 150_000_000, ['Asia', 'Europe'])"
   ]
  },
  {
   "cell_type": "code",
   "execution_count": 81,
   "metadata": {},
   "outputs": [
    {
     "data": {
      "text/plain": [
       "True"
      ]
     },
     "execution_count": 81,
     "metadata": {},
     "output_type": "execute_result"
    }
   ],
   "source": [
    "russia == Country('Russia', 150, ['Asiaaa', 'Europe'])"
   ]
  },
  {
   "cell_type": "code",
   "execution_count": 77,
   "metadata": {},
   "outputs": [
    {
     "name": "stdout",
     "output_type": "stream",
     "text": [
      "Страна Russia с населением 150000000\n",
      "Russia нуждается в вас!\n"
     ]
    }
   ],
   "source": [
    "print(russia)\n",
    "russia()"
   ]
  },
  {
   "cell_type": "code",
   "execution_count": 69,
   "metadata": {},
   "outputs": [
    {
     "name": "stdout",
     "output_type": "stream",
     "text": [
      "пример локального атрибута\n"
     ]
    },
    {
     "data": {
      "text/plain": [
       "'его можно менять'"
      ]
     },
     "execution_count": 69,
     "metadata": {},
     "output_type": "execute_result"
    }
   ],
   "source": [
    "print(russia.private_attribute)\n",
    "russia.private_attribute = \"его можно менять\"\n",
    "russia.private_attribute"
   ]
  },
  {
   "cell_type": "code",
   "execution_count": 66,
   "metadata": {},
   "outputs": [
    {
     "data": {
      "text/plain": [
       "'id'"
      ]
     },
     "execution_count": 66,
     "metadata": {},
     "output_type": "execute_result"
    }
   ],
   "source": [
    "russia.id = 'idd'\n",
    "russia.id"
   ]
  },
  {
   "cell_type": "markdown",
   "metadata": {},
   "source": [
    "## 03.04. Наследование, абстрактные методы"
   ]
  },
  {
   "cell_type": "code",
   "execution_count": 86,
   "metadata": {},
   "outputs": [
    {
     "name": "stdout",
     "output_type": "stream",
     "text": [
      "True\n",
      "True\n",
      "True\n"
     ]
    },
    {
     "ename": "TypeError",
     "evalue": "issubclass() arg 1 must be a class",
     "output_type": "error",
     "traceback": [
      "\u001b[1;31m---------------------------------------------------------------------------\u001b[0m",
      "\u001b[1;31mTypeError\u001b[0m                                 Traceback (most recent call last)",
      "\u001b[1;32mC:\\Users\\ASKORO~1\\AppData\\Local\\Temp/ipykernel_60552/980248771.py\u001b[0m in \u001b[0;36m<module>\u001b[1;34m\u001b[0m\n\u001b[0;32m      2\u001b[0m \u001b[0mprint\u001b[0m\u001b[1;33m(\u001b[0m\u001b[0misinstance\u001b[0m\u001b[1;33m(\u001b[0m\u001b[0mrussia\u001b[0m\u001b[1;33m,\u001b[0m \u001b[0mCountry\u001b[0m\u001b[1;33m)\u001b[0m\u001b[1;33m)\u001b[0m\u001b[1;33m\u001b[0m\u001b[1;33m\u001b[0m\u001b[0m\n\u001b[0;32m      3\u001b[0m \u001b[0mprint\u001b[0m\u001b[1;33m(\u001b[0m\u001b[0missubclass\u001b[0m\u001b[1;33m(\u001b[0m\u001b[0mCountry\u001b[0m\u001b[1;33m,\u001b[0m \u001b[0mobject\u001b[0m\u001b[1;33m)\u001b[0m\u001b[1;33m)\u001b[0m\u001b[1;33m\u001b[0m\u001b[1;33m\u001b[0m\u001b[0m\n\u001b[1;32m----> 4\u001b[1;33m \u001b[0mprint\u001b[0m\u001b[1;33m(\u001b[0m\u001b[0missubclass\u001b[0m\u001b[1;33m(\u001b[0m\u001b[0mrussia\u001b[0m\u001b[1;33m,\u001b[0m \u001b[0mobject\u001b[0m\u001b[1;33m)\u001b[0m\u001b[1;33m)\u001b[0m\u001b[1;33m\u001b[0m\u001b[1;33m\u001b[0m\u001b[0m\n\u001b[0m",
      "\u001b[1;31mTypeError\u001b[0m: issubclass() arg 1 must be a class"
     ]
    }
   ],
   "source": [
    "print(isinstance(russia, object))\n",
    "print(isinstance(russia, Country))\n",
    "print(issubclass(Country, object))\n",
    "print(issubclass(russia, object))"
   ]
  },
  {
   "cell_type": "code",
   "execution_count": 99,
   "metadata": {},
   "outputs": [],
   "source": [
    "from abc import ABC, abstractmethod\n",
    "\n",
    "class A(ABC):\n",
    "\n",
    "    def __init__(self, x, y):\n",
    "        self.x = x\n",
    "        self.y = y\n",
    "\n",
    "    @abstractmethod\n",
    "    def do_something(self):\n",
    "        pass\n",
    "\n",
    "class B(A):\n",
    "\n",
    "    def __init__(self, x, y, z):\n",
    "        super().__init__(x, y)\n",
    "\n",
    "        self.z = z\n",
    "    def do_something(self):\n",
    "        print('okay')\n"
   ]
  },
  {
   "cell_type": "code",
   "execution_count": 101,
   "metadata": {},
   "outputs": [
    {
     "name": "stdout",
     "output_type": "stream",
     "text": [
      "okay\n"
     ]
    }
   ],
   "source": [
    "b = B(1, 2, 3)\n",
    "b.do_something()"
   ]
  },
  {
   "cell_type": "code",
   "execution_count": 106,
   "metadata": {},
   "outputs": [],
   "source": [
    "class Base:\n",
    "\n",
    "    def __init__(self):\n",
    "        pass\n",
    "\n",
    "class A(Base):\n",
    "\n",
    "    def __init__(self, x, y):\n",
    "        super().__init__(x, y)\n",
    "        self.x = x\n",
    "        self.y = y\n",
    "\n",
    "class B(Base):\n",
    "\n",
    "    def __init__(self, x, y, z):\n",
    "        super().__init__(x, y)\n",
    "        self.z = z\n",
    "\n",
    "class C(B, A):\n",
    "\n",
    "    def __init__(self, x, y, z, w):\n",
    "        super().__init__(self, x, y, z)\n",
    "        self.w = w"
   ]
  },
  {
   "cell_type": "code",
   "execution_count": 107,
   "metadata": {},
   "outputs": [
    {
     "data": {
      "text/plain": [
       "(__main__.C, __main__.B, __main__.A, __main__.Base, object)"
      ]
     },
     "execution_count": 107,
     "metadata": {},
     "output_type": "execute_result"
    }
   ],
   "source": [
    "C.__mro__"
   ]
  },
  {
   "cell_type": "code",
   "execution_count": null,
   "metadata": {},
   "outputs": [],
   "source": []
  }
 ],
 "metadata": {
  "kernelspec": {
   "display_name": "Python 3 (ipykernel)",
   "language": "python",
   "name": "python3"
  },
  "language_info": {
   "codemirror_mode": {
    "name": "ipython",
    "version": 3
   },
   "file_extension": ".py",
   "mimetype": "text/x-python",
   "name": "python",
   "nbconvert_exporter": "python",
   "pygments_lexer": "ipython3",
   "version": "3.9.7"
  }
 },
 "nbformat": 4,
 "nbformat_minor": 4
}
