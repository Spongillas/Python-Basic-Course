{
 "cells": [
  {
   "cell_type": "markdown",
   "metadata": {},
   "source": [
    "# Python (базовый). 02. Функции\n",
    "\n",
    "Ноутбук к презентации \"02_Функции.pptx\" курса Python (basic)"
   ]
  },
  {
   "cell_type": "markdown",
   "metadata": {},
   "source": [
    "## 02.01\n",
    "Пример кода без использования функций"
   ]
  },
  {
   "cell_type": "code",
   "execution_count": 1,
   "metadata": {},
   "outputs": [
    {
     "name": "stdout",
     "output_type": "stream",
     "text": [
      "Сумма НДС: 200.0\n",
      "Сумма НДС: 36.0\n",
      "Сумма НДС: 699.6\n"
     ]
    }
   ],
   "source": [
    "price = 1000\n",
    "vat_rate = 20\n",
    "\n",
    "if price < 0 or vat_rate < 0:\n",
    "    print(\"Некорректные входные данные.\")\n",
    "\n",
    "vat = (price * vat_rate) / 100\n",
    "print(\"Сумма НДС:\", vat)\n",
    "\n",
    "price = 200\n",
    "vat_rate = 18\n",
    "\n",
    "if price < 0 or vat_rate < 0:\n",
    "    print(\"Некорректные входные данные.\")\n",
    "\n",
    "vat = (price * vat_rate) / 100\n",
    "print(\"Сумма НДС:\", vat)\n",
    "\n",
    "price = 2120\n",
    "vat_rate = 33\n",
    "\n",
    "if price < 0 or vat_rate < 0:\n",
    "    print(\"Некорректные входные данные.\")\n",
    "\n",
    "vat = (price * vat_rate) / 100\n",
    "print(\"Сумма НДС:\", vat)"
   ]
  },
  {
   "cell_type": "markdown",
   "metadata": {},
   "source": [
    "Пример кода с использованием функций"
   ]
  },
  {
   "cell_type": "code",
   "execution_count": 2,
   "metadata": {},
   "outputs": [
    {
     "name": "stdout",
     "output_type": "stream",
     "text": [
      "Сумма НДС: 200.0\n",
      "Сумма НДС: 36.0\n",
      "Сумма НДС: 699.6\n"
     ]
    }
   ],
   "source": [
    "def calculate_vat(price, vat_rate):\n",
    "    if price < 0 or vat_rate < 0:\n",
    "        print(\"Некорректные входные данные.\")\n",
    "        return None\n",
    "    \n",
    "    vat = (price * vat_rate) / 100\n",
    "    print(\"Сумма НДС:\", vat)\n",
    "\n",
    "    return vat\n",
    "\n",
    "vat_rate = 20\n",
    "\n",
    "vat_amount = calculate_vat(price=1000, vat_rate=20)\n",
    "vat_amount = calculate_vat(price=200, vat_rate=18)\n",
    "vat_amount = calculate_vat(price=2120, vat_rate=33)"
   ]
  },
  {
   "cell_type": "markdown",
   "metadata": {},
   "source": [
    "## 02.02. Встроенные функции"
   ]
  },
  {
   "cell_type": "code",
   "execution_count": 3,
   "metadata": {},
   "outputs": [
    {
     "name": "stdout",
     "output_type": "stream",
     "text": [
      "Hello world\n",
      "len(s): 11\n",
      "abs(-11): 11\n",
      "any[list]: True\n",
      "max[list]: 10\n",
      "sorted[list]: [1, 2.5, 8, 10]\n",
      "Help on built-in function dir in module builtins:\n",
      "\n",
      "dir(...)\n",
      "    dir([object]) -> list of strings\n",
      "    \n",
      "    If called without an argument, return the names in the current scope.\n",
      "    Else, return an alphabetized list of names comprising (some of) the attributes\n",
      "    of the given object, and of attributes reachable from it.\n",
      "    If the object supplies a method named __dir__, it will be used; otherwise\n",
      "    the default dir() logic is used and returns:\n",
      "      for a module object: the module's attributes.\n",
      "      for a class object:  its attributes, and recursively the attributes\n",
      "        of its bases.\n",
      "      for any other object: its attributes, its class's attributes, and\n",
      "        recursively the attributes of its class's base classes.\n",
      "\n"
     ]
    }
   ],
   "source": [
    "s = 'Hello world'\n",
    "print(s)\n",
    "print(f\"len(s): {len(s)}\")\n",
    "print(f\"abs(-11): {abs(-11)}\")\n",
    "print(f'any[list]: {any([True, False, False, False])}')\n",
    "print(f'max[list]: {max([1, 10, 2.5, 8])}')\n",
    "print(f'sorted[list]: {sorted([1, 10, 2.5, 8])}')\n",
    "help(dir)"
   ]
  },
  {
   "cell_type": "code",
   "execution_count": 4,
   "metadata": {},
   "outputs": [
    {
     "data": {
      "text/plain": [
       "['__add__',\n",
       " '__class__',\n",
       " '__contains__',\n",
       " '__delattr__',\n",
       " '__dir__',\n",
       " '__doc__',\n",
       " '__eq__',\n",
       " '__format__',\n",
       " '__ge__',\n",
       " '__getattribute__',\n",
       " '__getitem__',\n",
       " '__getnewargs__',\n",
       " '__gt__',\n",
       " '__hash__',\n",
       " '__init__',\n",
       " '__init_subclass__',\n",
       " '__iter__',\n",
       " '__le__',\n",
       " '__len__',\n",
       " '__lt__',\n",
       " '__mod__',\n",
       " '__mul__',\n",
       " '__ne__',\n",
       " '__new__',\n",
       " '__reduce__',\n",
       " '__reduce_ex__',\n",
       " '__repr__',\n",
       " '__rmod__',\n",
       " '__rmul__',\n",
       " '__setattr__',\n",
       " '__sizeof__',\n",
       " '__str__',\n",
       " '__subclasshook__',\n",
       " 'capitalize',\n",
       " 'casefold',\n",
       " 'center',\n",
       " 'count',\n",
       " 'encode',\n",
       " 'endswith',\n",
       " 'expandtabs',\n",
       " 'find',\n",
       " 'format',\n",
       " 'format_map',\n",
       " 'index',\n",
       " 'isalnum',\n",
       " 'isalpha',\n",
       " 'isascii',\n",
       " 'isdecimal',\n",
       " 'isdigit',\n",
       " 'isidentifier',\n",
       " 'islower',\n",
       " 'isnumeric',\n",
       " 'isprintable',\n",
       " 'isspace',\n",
       " 'istitle',\n",
       " 'isupper',\n",
       " 'join',\n",
       " 'ljust',\n",
       " 'lower',\n",
       " 'lstrip',\n",
       " 'maketrans',\n",
       " 'partition',\n",
       " 'removeprefix',\n",
       " 'removesuffix',\n",
       " 'replace',\n",
       " 'rfind',\n",
       " 'rindex',\n",
       " 'rjust',\n",
       " 'rpartition',\n",
       " 'rsplit',\n",
       " 'rstrip',\n",
       " 'split',\n",
       " 'splitlines',\n",
       " 'startswith',\n",
       " 'strip',\n",
       " 'swapcase',\n",
       " 'title',\n",
       " 'translate',\n",
       " 'upper',\n",
       " 'zfill']"
      ]
     },
     "execution_count": 4,
     "metadata": {},
     "output_type": "execute_result"
    }
   ],
   "source": [
    "dir(s)"
   ]
  },
  {
   "cell_type": "markdown",
   "metadata": {},
   "source": [
    "## 02.03. Пользовательские функции"
   ]
  },
  {
   "cell_type": "code",
   "execution_count": 5,
   "metadata": {},
   "outputs": [
    {
     "name": "stdout",
     "output_type": "stream",
     "text": [
      "Вызов функции simple_fun с аргументами 10 21\n"
     ]
    },
    {
     "data": {
      "text/plain": [
       "31"
      ]
     },
     "execution_count": 5,
     "metadata": {},
     "output_type": "execute_result"
    }
   ],
   "source": [
    "# объявление функции\n",
    "def simple_fun(a: any, b: any) -> any:\n",
    "    \"\"\"Пример простой функции, возвращающей сумму\n",
    "\n",
    "    Args:\n",
    "        a (any): аргумент 1\n",
    "        b (any): аргумент 2\n",
    "\n",
    "    Returns:\n",
    "        any: сумма\n",
    "    \"\"\"\n",
    "\n",
    "    print('Вызов функции simple_fun с аргументами', a, b)\n",
    "    \n",
    "    return a + b\n",
    "\n",
    "# вызов функции\n",
    "simple_fun(10, 21)"
   ]
  },
  {
   "cell_type": "code",
   "execution_count": 6,
   "metadata": {},
   "outputs": [
    {
     "name": "stdout",
     "output_type": "stream",
     "text": [
      "Help on function simple_fun in module __main__:\n",
      "\n",
      "simple_fun(a: <built-in function any>, b: <built-in function any>) -> <built-in function any>\n",
      "    Пример простой функции, возвращающей сумму\n",
      "    \n",
      "    Args:\n",
      "        a (any): аргумент 1\n",
      "        b (any): аргумент 2\n",
      "    \n",
      "    Returns:\n",
      "        any: сумма\n",
      "\n"
     ]
    }
   ],
   "source": [
    "help(simple_fun)"
   ]
  },
  {
   "cell_type": "markdown",
   "metadata": {},
   "source": [
    "### 02.04. Аргументы функции"
   ]
  },
  {
   "cell_type": "code",
   "execution_count": 7,
   "metadata": {},
   "outputs": [
    {
     "name": "stdout",
     "output_type": "stream",
     "text": [
      "Сумма НДС: 200.0\n",
      "Сумма НДС: 36.0\n",
      "Сумма НДС: 699.6\n",
      "Некорректные входные данные.\n"
     ]
    }
   ],
   "source": [
    "def calculate_vat(price, vat_rate=20):\n",
    "    if price < 0 or vat_rate < 0:\n",
    "        print(\"Некорректные входные данные.\")\n",
    "        return None\n",
    "    \n",
    "    vat = (price * vat_rate) / 100\n",
    "    print(\"Сумма НДС:\", vat)\n",
    "\n",
    "    return vat\n",
    "\n",
    "vat_rate = 20\n",
    "\n",
    "vat_amount = calculate_vat(price=1000)\n",
    "vat_amount = calculate_vat(price=200, vat_rate=18)\n",
    "vat_amount = calculate_vat(price=2120, vat_rate=33)\n",
    "vat_amount = calculate_vat(price=-2120, vat_rate=33)\n"
   ]
  },
  {
   "cell_type": "code",
   "execution_count": 8,
   "metadata": {},
   "outputs": [
    {
     "name": "stdout",
     "output_type": "stream",
     "text": [
      "Сумма НДС: 200.0\n",
      "(200.0, 1000) <class 'tuple'>\n",
      "Сумма НДС: 200.0\n",
      "200.0 1000\n"
     ]
    }
   ],
   "source": [
    "def calculate_vat(price, vat_rate=20):\n",
    "    if price < 0 or vat_rate < 0:\n",
    "        print(\"Некорректные входные данные.\")\n",
    "        return None\n",
    "    \n",
    "    vat = (price * vat_rate) / 100\n",
    "    print(\"Сумма НДС:\", vat)\n",
    "\n",
    "    return vat, price\n",
    "\n",
    "result = calculate_vat(price=1000)\n",
    "print(result, type(result))\n",
    "vat_amount, price = calculate_vat(price=1000)\n",
    "print(vat_amount, price)"
   ]
  },
  {
   "cell_type": "code",
   "execution_count": 9,
   "metadata": {},
   "outputs": [],
   "source": [
    "def calculate_vat(price, discount=10, vat=20):\n",
    "    ...\n",
    "\n",
    "calculate_vat(1234)\n",
    "calculate_vat(1234, discount=20)\n",
    "calculate_vat(1234, vat=30)\n",
    "calculate_vat(1234, vat=30, discount=20)"
   ]
  },
  {
   "cell_type": "code",
   "execution_count": 10,
   "metadata": {},
   "outputs": [
    {
     "name": "stdout",
     "output_type": "stream",
     "text": [
      "*args: ['1', 1234]\n",
      "**kwargs: {}\n",
      "*args: ['2', 1234]\n",
      "**kwargs: {'discount': 20}\n",
      "*args: ['3', 1234]\n",
      "**kwargs: {'vat': 30}\n",
      "*args: ['4', 1234]\n",
      "**kwargs: {'vat': 30, 'discount': 20}\n"
     ]
    }
   ],
   "source": [
    "def calculate_vat(*args, **kwargs):\n",
    "    print('*args:', [arg for arg in args])\n",
    "    print('**kwargs:', {key: value for key, value in kwargs.items()})\n",
    "\n",
    "calculate_vat('1', 1234)\n",
    "calculate_vat('2', 1234, discount=20)\n",
    "calculate_vat('3', 1234, vat=30)\n",
    "calculate_vat('4', 1234, vat=30, discount=20)"
   ]
  },
  {
   "cell_type": "code",
   "execution_count": 11,
   "metadata": {},
   "outputs": [
    {
     "name": "stdout",
     "output_type": "stream",
     "text": [
      "a b c d\n",
      "a b c d\n"
     ]
    }
   ],
   "source": [
    "lst = ['a', 'b', 'c', 'd']\n",
    "print(lst[0], lst[1], lst[2], lst[3])\n",
    "print(*lst)"
   ]
  },
  {
   "cell_type": "markdown",
   "metadata": {},
   "source": [
    "### 02.05. ОБласть видимости"
   ]
  },
  {
   "cell_type": "markdown",
   "metadata": {},
   "source": [
    "#### 02.05.01. Неизменяемые аргументы"
   ]
  },
  {
   "cell_type": "code",
   "execution_count": 12,
   "metadata": {},
   "outputs": [
    {
     "name": "stdout",
     "output_type": "stream",
     "text": [
      "Возвращаемое значение:  value_1=value_1=\n",
      "Исходное значение:  value_1=\n"
     ]
    }
   ],
   "source": [
    "var1 = 'value_1='\n",
    "\n",
    "def modify_value(value):\n",
    "    return value*2\n",
    "\n",
    "print('Возвращаемое значение: ', modify_value(var1))\n",
    "print('Исходное значение: ', var1)"
   ]
  },
  {
   "cell_type": "code",
   "execution_count": 13,
   "metadata": {},
   "outputs": [
    {
     "name": "stdout",
     "output_type": "stream",
     "text": [
      "Возвращаемое значение:  value_1=value_1=\n",
      "Исходное значение:  value_1=\n"
     ]
    }
   ],
   "source": [
    "var1 = 'value_1='\n",
    "\n",
    "def modify_value(value):\n",
    "    var1 = value*2\n",
    "    return var1\n",
    "\n",
    "print('Возвращаемое значение: ', modify_value(var1))\n",
    "print('Исходное значение: ', var1)"
   ]
  },
  {
   "cell_type": "code",
   "execution_count": 14,
   "metadata": {},
   "outputs": [
    {
     "name": "stdout",
     "output_type": "stream",
     "text": [
      "Возвращаемое значение:  value_1=value_1=\n",
      "Исходное значение:  value_1=value_1=\n"
     ]
    }
   ],
   "source": [
    "var1 = 'value_1='\n",
    "\n",
    "def modify_value(value):\n",
    "    global var1\n",
    "    var1 = value*2\n",
    "    return var1\n",
    "\n",
    "print('Возвращаемое значение: ', modify_value(var1))\n",
    "print('Исходное значение: ', var1)"
   ]
  },
  {
   "cell_type": "code",
   "execution_count": 15,
   "metadata": {},
   "outputs": [
    {
     "name": "stdout",
     "output_type": "stream",
     "text": [
      "Возвращаемое значение:  value_1=value_1=\n",
      "Исходное значение:  value_1=\n"
     ]
    }
   ],
   "source": [
    "var1 = 'value_1='\n",
    "\n",
    "def modify_value(value):\n",
    "    \n",
    "    var1 = value*2\n",
    "    return var1\n",
    "\n",
    "print('Возвращаемое значение: ', modify_value(var1))\n",
    "print('Исходное значение: ', var1)"
   ]
  },
  {
   "cell_type": "markdown",
   "metadata": {},
   "source": [
    "#### 02.05.02. Изменяемые аргументы"
   ]
  },
  {
   "cell_type": "code",
   "execution_count": 16,
   "metadata": {},
   "outputs": [
    {
     "name": "stdout",
     "output_type": "stream",
     "text": [
      "Возвращаемое значение:  ['a', 'b', 'c', 'new']\n",
      "Исходное значение:  ['a', 'b', 'c', 'new']\n",
      "Возвращаемое значение:  ['a', 'b', 'c', 'new']\n",
      "Исходное значение:  ['a', 'b', 'c']\n"
     ]
    }
   ],
   "source": [
    "lst = ['a', 'b', 'c']\n",
    "\n",
    "def modify_list(lst):\n",
    "    lst1 = lst\n",
    "    lst1.append('new')\n",
    "    return lst1\n",
    "\n",
    "print('Возвращаемое значение: ', modify_list(lst))\n",
    "print('Исходное значение: ', lst)\n",
    "\n",
    "lst = ['a', 'b', 'c']\n",
    "\n",
    "def create_modify_list(lst):\n",
    "    lst1 = lst[:]\n",
    "    lst1.append('new')\n",
    "    return lst1\n",
    "\n",
    "print('Возвращаемое значение: ', create_modify_list(lst))\n",
    "print('Исходное значение: ', lst)"
   ]
  },
  {
   "cell_type": "markdown",
   "metadata": {},
   "source": [
    "## 02.06. Рекурсивные функции"
   ]
  },
  {
   "cell_type": "code",
   "execution_count": 17,
   "metadata": {},
   "outputs": [
    {
     "data": {
      "text/plain": [
       "3628800"
      ]
     },
     "execution_count": 17,
     "metadata": {},
     "output_type": "execute_result"
    }
   ],
   "source": [
    "def factorial(n):\n",
    "    #print(\"Вычисление факториала, n = \", n)\n",
    "    if n == 1:\n",
    "        return n\n",
    "    else:\n",
    "        return n*factorial(n-1)\n",
    "\n",
    "factorial(10)"
   ]
  },
  {
   "cell_type": "code",
   "execution_count": 18,
   "metadata": {},
   "outputs": [
    {
     "data": {
      "text/plain": [
       "3628800"
      ]
     },
     "execution_count": 18,
     "metadata": {},
     "output_type": "execute_result"
    }
   ],
   "source": [
    "def factorial_iterative(n):\n",
    "    factorial = 1\n",
    "\n",
    "    for i in range (1, n + 1):\n",
    "        factorial = factorial*i\n",
    "\n",
    "    return factorial\n",
    "\n",
    "factorial_iterative(10)"
   ]
  },
  {
   "cell_type": "markdown",
   "metadata": {},
   "source": [
    "## 02.07. Функции высшего порядка map, reduce, filter"
   ]
  },
  {
   "cell_type": "code",
   "execution_count": 19,
   "metadata": {},
   "outputs": [
    {
     "name": "stdout",
     "output_type": "stream",
     "text": [
      "[11, 14, 19, 26]\n"
     ]
    }
   ],
   "source": [
    "def some_func(n):\n",
    "    return n**2 + 10\n",
    " \n",
    "numbers = (1, 2, 3, 4)\n",
    "result = map(some_func, numbers)\n",
    "print(list(result))"
   ]
  },
  {
   "cell_type": "code",
   "execution_count": 20,
   "metadata": {},
   "outputs": [
    {
     "name": "stdout",
     "output_type": "stream",
     "text": [
      "[4, 5, 6, 7, 8]\n"
     ]
    }
   ],
   "source": [
    "def some_condition(value):\n",
    "    if value > 3:\n",
    "        return True\n",
    "    \n",
    "    return False\n",
    " \n",
    "numbers = (1, 2, 3, 4, 5, 6, 7, 8)\n",
    "result = filter(some_condition, numbers)\n",
    "print(list(result))"
   ]
  },
  {
   "cell_type": "code",
   "execution_count": 21,
   "metadata": {},
   "outputs": [
    {
     "name": "stdout",
     "output_type": "stream",
     "text": [
      "720\n"
     ]
    }
   ],
   "source": [
    "from functools import reduce \n",
    "\n",
    "def some_func(x, y):\n",
    "    return x * y\n",
    " \n",
    "numbers = (1, 2, 3, 4, 5, 6)\n",
    "result = reduce(some_func, numbers)\n",
    "print(result)"
   ]
  },
  {
   "cell_type": "markdown",
   "metadata": {},
   "source": [
    "## 02.08. Лямбда функции"
   ]
  },
  {
   "cell_type": "code",
   "execution_count": 22,
   "metadata": {},
   "outputs": [
    {
     "name": "stdout",
     "output_type": "stream",
     "text": [
      "20 0x18ba88f7310 <class 'function'>\n",
      "20 0x18baa5b73a0 <class 'function'>\n"
     ]
    }
   ],
   "source": [
    "def double(x):\n",
    "    return x*2\n",
    "\n",
    "print(double(10), hex(id(double)), type(double))\n",
    "\n",
    "double_lambda = lambda x: x*2\n",
    "\n",
    "print(double_lambda(10), hex(id(double_lambda)), type(double_lambda))"
   ]
  },
  {
   "cell_type": "code",
   "execution_count": 23,
   "metadata": {},
   "outputs": [
    {
     "name": "stdout",
     "output_type": "stream",
     "text": [
      "[11, 14, 19, 26]\n"
     ]
    }
   ],
   "source": [
    "numbers = (1, 2, 3, 4)\n",
    "result = map(lambda x: x**2+10, numbers)\n",
    "print(list(result))"
   ]
  },
  {
   "cell_type": "code",
   "execution_count": 24,
   "metadata": {},
   "outputs": [
    {
     "name": "stdout",
     "output_type": "stream",
     "text": [
      "[4, 5, 6, 7, 8]\n"
     ]
    }
   ],
   "source": [
    "numbers = (1, 2, 3, 4, 5, 6, 7, 8)\n",
    "result = filter(lambda x: x > 3, numbers)\n",
    "print(list(result))"
   ]
  },
  {
   "cell_type": "code",
   "execution_count": 25,
   "metadata": {},
   "outputs": [
    {
     "data": {
      "text/plain": [
       "[((1, 2), {'parameter1': 40, 'parameter2': 0, 'parameter3': 30}),\n",
       " ((1, 1), {'parameter1': 30, 'parameter2': 2, 'parameter3': 30}),\n",
       " ((2, 1), {'parameter1': 50, 'parameter2': 10, 'parameter3': 30}),\n",
       " ((0, 0), {'parameter1': 10, 'parameter2': 21, 'parameter3': 30}),\n",
       " ((0, 1), {'parameter1': 20, 'parameter2': 23, 'parameter3': 30})]"
      ]
     },
     "execution_count": 25,
     "metadata": {},
     "output_type": "execute_result"
    }
   ],
   "source": [
    "dict1 = {\n",
    "    (0, 0): {'parameter1': 10, 'parameter2': 21, 'parameter3': 30},\n",
    "    (0, 1): {'parameter1': 20, 'parameter2': 23, 'parameter3': 30},\n",
    "    (1, 1): {'parameter1': 30, 'parameter2': 2, 'parameter3': 30},\n",
    "    (1, 2): {'parameter1': 40, 'parameter2': 0, 'parameter3': 30},\n",
    "    (2, 1): {'parameter1': 50, 'parameter2': 10, 'parameter3': 30},\n",
    "}\n",
    "\n",
    "\n",
    "sorted(list(dict1.items()), key=lambda x: x[1]['parameter2'])"
   ]
  },
  {
   "cell_type": "markdown",
   "metadata": {},
   "source": [
    "## 02.09. Замыкания функции"
   ]
  },
  {
   "cell_type": "code",
   "execution_count": 26,
   "metadata": {},
   "outputs": [
    {
     "name": "stdout",
     "output_type": "stream",
     "text": [
      "Вызов функции print_some_text\n",
      "Ниже будет напечатан какой-то текст:\n",
      "Текст основной функции\n"
     ]
    }
   ],
   "source": [
    "def print_some_text(text):\n",
    "    print(\"Вызов функции print_some_text\")\n",
    "\n",
    "    def add_important_information():\n",
    "        print(\"Ниже будет напечатан какой-то текст:\")\n",
    "        print(text)\n",
    "\n",
    "    add_important_information()\n",
    "\n",
    "\n",
    "print_some_text('Текст основной функции')"
   ]
  },
  {
   "cell_type": "code",
   "execution_count": 27,
   "metadata": {},
   "outputs": [
    {
     "name": "stdout",
     "output_type": "stream",
     "text": [
      "Вызов функции print_some_text\n",
      "<function print_some_text.<locals>.add_important_information at 0x0000018BAA5B7280>\n",
      "Ниже будет напечатан какой-то текст:\n",
      "Текст основной функции\n"
     ]
    }
   ],
   "source": [
    "def print_some_text(text):\n",
    "    print(\"Вызов функции print_some_text\")\n",
    "\n",
    "    def add_important_information():\n",
    "        print(\"Ниже будет напечатан какой-то текст:\")\n",
    "        print(text)\n",
    "\n",
    "\n",
    "    return add_important_information\n",
    "\n",
    "f = print_some_text('Текст основной функции')\n",
    "print(f)\n",
    "f()\n"
   ]
  },
  {
   "cell_type": "code",
   "execution_count": 28,
   "metadata": {},
   "outputs": [
    {
     "name": "stdout",
     "output_type": "stream",
     "text": [
      "20\n",
      "30\n"
     ]
    }
   ],
   "source": [
    "def create_multiplier(factor):\n",
    "    # Внешняя функция, которая принимает фактор\n",
    "    def multiplier(x):\n",
    "        # Внутренняя функция, которая умножает x на фактор\n",
    "        return x * factor\n",
    "    return multiplier  # Возвращаем внутреннюю функцию\n",
    "\n",
    "# Создаем две функции для умножения на разные факторы\n",
    "double = create_multiplier(2)\n",
    "triple = create_multiplier(3)\n",
    "\n",
    "# Используем созданные функции\n",
    "result1 = double(10)\n",
    "result2 = triple(10) \n",
    "\n",
    "print(result1)\n",
    "print(result2)"
   ]
  },
  {
   "cell_type": "markdown",
   "metadata": {},
   "source": [
    "## 02.09. Декораторы"
   ]
  },
  {
   "cell_type": "code",
   "execution_count": 29,
   "metadata": {},
   "outputs": [
    {
     "name": "stdout",
     "output_type": "stream",
     "text": [
      "Executing Имя функции, arg = Аргумент\n",
      "time: 5.004098415374756 s\n"
     ]
    },
    {
     "data": {
      "text/plain": [
       "'Результат работы функции func'"
      ]
     },
     "execution_count": 29,
     "metadata": {},
     "output_type": "execute_result"
    }
   ],
   "source": [
    "import time\n",
    "\n",
    "def some_decorator(func):\n",
    "    def wrapper(*args, **kwargs):\n",
    "        start_time = time.time()\n",
    "        result = func(*args, **kwargs)\n",
    "        print(f\"time: {time.time() - start_time} s\")\n",
    "        \n",
    "        return result\n",
    "    \n",
    "    return wrapper\n",
    "\n",
    "@some_decorator\n",
    "def some_function(arg, name):\n",
    "    print(f\"Executing {name}, arg = {arg}\")\n",
    "    time.sleep(5)\n",
    "\n",
    "    return 'Результат работы функции func'\n",
    "\n",
    "#some_function = some_decorator(some_function) -> @some_decorator\n",
    "\n",
    "result = some_function('Аргумент', name='Имя функции')\n",
    "result"
   ]
  },
  {
   "cell_type": "markdown",
   "metadata": {},
   "source": [
    "## 02.10. Генераторы"
   ]
  },
  {
   "cell_type": "code",
   "execution_count": 30,
   "metadata": {},
   "outputs": [
    {
     "name": "stdout",
     "output_type": "stream",
     "text": [
      "Генератор возвращает значение только при выполнении метода next()\n",
      "=== Вызов функции generator_example ===\n",
      "Обработка итерации i = 1, count = 1\n",
      "Вычисленное значение:  2\n",
      "Обработка итерации i = 2, count = 2\n",
      "Вычисленное значение:  6\n",
      "Обработка итерации i = 3, count = 3\n",
      "Вычисленное значение:  12\n",
      "Обработка итерации i = 4, count = 4\n",
      "Вычисленное значение:  20\n",
      "Обработка итерации i = 5, count = 5\n",
      "Вычисленное значение:  30\n",
      "Обработка итерации i = 6, count = 6\n",
      "Вычисленное значение:  42\n",
      "Обработка итерации i = 7, count = 7\n",
      "Вычисленное значение:  56\n"
     ]
    }
   ],
   "source": [
    "def generator_example(m):\n",
    "    count = 1\n",
    "    print('=== Вызов функции generator_example ===')\n",
    "\n",
    "    for i in range(1, m):\n",
    "        print(f'Обработка итерации i = {i}, count = {count}')\n",
    "        yield i**2 + count\n",
    "        count += 1\n",
    "\n",
    "a = generator_example(8)\n",
    "\n",
    "print(\"Генератор возвращает значение только при выполнении метода next()\")\n",
    "for i in a:\n",
    "    print(\"Вычисленное значение: \", i)"
   ]
  },
  {
   "cell_type": "code",
   "execution_count": 31,
   "metadata": {},
   "outputs": [
    {
     "name": "stdout",
     "output_type": "stream",
     "text": [
      "=== Вызов функции generator_example ===\n",
      "Обработка итерации i = 1, count = 1\n",
      "Обработка итерации i = 2, count = 2\n",
      "Обработка итерации i = 3, count = 3\n"
     ]
    },
    {
     "ename": "StopIteration",
     "evalue": "",
     "output_type": "error",
     "traceback": [
      "\u001b[1;31m---------------------------------------------------------------------------\u001b[0m",
      "\u001b[1;31mStopIteration\u001b[0m                             Traceback (most recent call last)",
      "\u001b[1;32mC:\\Users\\ASKORO~1\\AppData\\Local\\Temp/ipykernel_35056/631106250.py\u001b[0m in \u001b[0;36m<module>\u001b[1;34m\u001b[0m\n\u001b[0;32m      3\u001b[0m \u001b[0mnext\u001b[0m\u001b[1;33m(\u001b[0m\u001b[0ma\u001b[0m\u001b[1;33m)\u001b[0m\u001b[1;33m\u001b[0m\u001b[1;33m\u001b[0m\u001b[0m\n\u001b[0;32m      4\u001b[0m \u001b[0mnext\u001b[0m\u001b[1;33m(\u001b[0m\u001b[0ma\u001b[0m\u001b[1;33m)\u001b[0m\u001b[1;33m\u001b[0m\u001b[1;33m\u001b[0m\u001b[0m\n\u001b[1;32m----> 5\u001b[1;33m \u001b[0mnext\u001b[0m\u001b[1;33m(\u001b[0m\u001b[0ma\u001b[0m\u001b[1;33m)\u001b[0m\u001b[1;33m\u001b[0m\u001b[1;33m\u001b[0m\u001b[0m\n\u001b[0m",
      "\u001b[1;31mStopIteration\u001b[0m: "
     ]
    }
   ],
   "source": [
    "a = generator_example(4)\n",
    "next(a)\n",
    "next(a)\n",
    "next(a)\n",
    "next(a)"
   ]
  },
  {
   "cell_type": "code",
   "execution_count": 32,
   "metadata": {},
   "outputs": [
    {
     "data": {
      "text/plain": [
       "<generator object generator_example at 0x0000018BAA65D120>"
      ]
     },
     "execution_count": 32,
     "metadata": {},
     "output_type": "execute_result"
    }
   ],
   "source": [
    "generator = generator_example(4)\n",
    "generator"
   ]
  },
  {
   "cell_type": "code",
   "execution_count": 33,
   "metadata": {},
   "outputs": [
    {
     "name": "stdout",
     "output_type": "stream",
     "text": [
      "1\n",
      "1\n",
      "2\n",
      "3\n",
      "5\n",
      "8\n",
      "13\n",
      "21\n",
      "34\n",
      "55\n"
     ]
    }
   ],
   "source": [
    "def fibonacci_gen():\n",
    "    a, b = 1, 1\n",
    "    while True:\n",
    "        yield a\n",
    "        a, b = b, a + b\n",
    "\n",
    "# Пример использования:\n",
    "fibonacci_generator = fibonacci_gen()\n",
    "\n",
    "for _ in range(10):  # Вывести первые 10 чисел Фибоначчи\n",
    "    print(next(fibonacci_generator))"
   ]
  },
  {
   "cell_type": "code",
   "execution_count": null,
   "metadata": {},
   "outputs": [],
   "source": []
  },
  {
   "cell_type": "code",
   "execution_count": null,
   "metadata": {},
   "outputs": [],
   "source": []
  }
 ],
 "metadata": {
  "kernelspec": {
   "display_name": "Python 3 (ipykernel)",
   "language": "python",
   "name": "python3"
  },
  "language_info": {
   "codemirror_mode": {
    "name": "ipython",
    "version": 3
   },
   "file_extension": ".py",
   "mimetype": "text/x-python",
   "name": "python",
   "nbconvert_exporter": "python",
   "pygments_lexer": "ipython3",
   "version": "3.9.7"
  }
 },
 "nbformat": 4,
 "nbformat_minor": 4
}
