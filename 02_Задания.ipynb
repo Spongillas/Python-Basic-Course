{
 "cells": [
  {
   "cell_type": "markdown",
   "metadata": {},
   "source": [
    "# Python (базовый). 02. Функции\n",
    "\n",
    "Задания к презентации по теме \"02_Функции.pptx\" курса Python (basic)"
   ]
  },
  {
   "cell_type": "markdown",
   "metadata": {},
   "source": [
    "## Задание 1\n",
    "\n",
    "1. Создайте функцию calculate_bmi(), которая рассчитывает индекс массы тела (ИМТ, bmi). На вход функция будет принимать вес (weight: float) в килограммах и рост (height: float) в метрах.\n",
    "2. Предусмотрите проверку отрицательных, нулевых и нечисловых значений для аргументов функции. В случае некорректных входных аргументов необходимо вывести на экран, например «Вес и/или рост имеют некорректные значения!», и остановить выполнение функции.\n",
    "3. ИМТ – отношение массы человека к квадрату его роста. Функция должна возвращать значение ИМТ и выводить его на экран.\n"
   ]
  },
  {
   "cell_type": "code",
   "execution_count": 1,
   "metadata": {},
   "outputs": [],
   "source": [
    "def calculate_bmi(weight, height):\n",
    "    if type(weight) in [int, float] and type(height) in [int, float] and \\\n",
    "        weight > 0 and height > 0:\n",
    "        \n",
    "        return weight / height**2\n",
    "\n",
    "    else:\n",
    "        print(\"Вес и/или рост имеют некорректные значения!\")\n",
    "        return\n"
   ]
  },
  {
   "cell_type": "code",
   "execution_count": 2,
   "metadata": {},
   "outputs": [
    {
     "data": {
      "text/plain": [
       "12.5"
      ]
     },
     "execution_count": 2,
     "metadata": {},
     "output_type": "execute_result"
    }
   ],
   "source": [
    "calculate_bmi(50, 2)"
   ]
  },
  {
   "cell_type": "markdown",
   "metadata": {},
   "source": [
    "## Задание 2\n",
    "\n",
    "1. Создайте функцию group_types(), которая будет принимать на вход любое количество позиционных аргументов и группировать их по типу. Аргументы могут быть типов str, int, float, другие типы игнорируются.\n",
    "2. Функция должна возвращать словарь, в котором ключи – это типы данных, а значения –  отсортированные по убыванию значения соответствующих типов."
   ]
  },
  {
   "cell_type": "code",
   "execution_count": 15,
   "metadata": {},
   "outputs": [],
   "source": [
    "def group_types(*args):\n",
    "    result = {'int': [], 'float': [], 'str': []}\n",
    "\n",
    "    for arg in args:\n",
    "        if type(arg)==int:\n",
    "            result['int'].append(arg)\n",
    "        elif type(arg)==float:\n",
    "            result['float'].append(arg)\n",
    "        elif type(arg)==str:\n",
    "            result['str'].append(arg)\n",
    "\n",
    "    for key in result:\n",
    "        result[key] = sorted(result[key], reverse=True)\n",
    "\n",
    "    return result"
   ]
  },
  {
   "cell_type": "code",
   "execution_count": 82,
   "metadata": {},
   "outputs": [
    {
     "data": {
      "text/plain": [
       "{'int': [4, 3, 2], 'float': [99.2, 6.5, 5.0], 'str': ['dog', 'cat', 'bee']}"
      ]
     },
     "execution_count": 82,
     "metadata": {},
     "output_type": "execute_result"
    }
   ],
   "source": [
    "group_types(4, 2, 3, 5.0, 6.5, 99.2, 'cat', 'dog', 'bee')"
   ]
  },
  {
   "cell_type": "markdown",
   "metadata": {},
   "source": [
    "### Задание 3\n",
    "\n",
    "1. Создайте функцию print_shopping_list(), которая будет принимать на вход имя (name: str) человека и список товаров (shopping_list: dict{<название товара>: <количество>}), а также любое количество именованных аргументов.\n",
    "2. В случае если среди именованных аргументов существует аргумент «hour» (час дня), а среди покупок попалось «пиво», нужно проверить значение аргумента «hour». Если оно больше либо равно 23, необходимо вывести на экран сообщение о том, что данная покупка не может быть совершена, после чего прекратить выполнение функции.\n",
    "3. В противном случае нужно вывести на экран сообщение «<Имя человека>, купи: <список товаров>», где <список товаров> – список товаров, в котором каждый товар находится на новой строчке, каждая строчка должна быть пронумерована.\n"
   ]
  },
  {
   "cell_type": "code",
   "execution_count": 83,
   "metadata": {},
   "outputs": [],
   "source": [
    "def print_shopping_list(name, lst, **kwargs):\n",
    "    if kwargs.get('hour', 0) >= 23 and 'пиво' in lst.keys():\n",
    "        print('Слишком поздно для пива')\n",
    "        return\n",
    "\n",
    "    print(name, \", купи:\")\n",
    "    for i, items in enumerate(lst.items()):\n",
    "        k, v = items\n",
    "        print(f\"{i+1}. {k}: {v}\")"
   ]
  },
  {
   "cell_type": "code",
   "execution_count": 84,
   "metadata": {},
   "outputs": [
    {
     "name": "stdout",
     "output_type": "stream",
     "text": [
      "Андрей , купи:\n",
      "1. яйца: 10\n",
      "2. хлеб: 1\n",
      "3. молоко: 2\n"
     ]
    }
   ],
   "source": [
    "print_shopping_list('Андрей', {'яйца': 10, 'хлеб': 1, 'молоко': 2})"
   ]
  },
  {
   "cell_type": "code",
   "execution_count": 85,
   "metadata": {},
   "outputs": [
    {
     "name": "stdout",
     "output_type": "stream",
     "text": [
      "Слишком поздно для пива\n"
     ]
    }
   ],
   "source": [
    "print_shopping_list('Андрей', {'яйца': 10, 'хлеб': 1, 'пиво': 2}, hour=23)"
   ]
  },
  {
   "cell_type": "markdown",
   "metadata": {},
   "source": [
    "## Задание 4\n",
    "1. Для словаря employees из предыдущей части напишите функцию change_currency(), которая будет переводить зарплату работников в доллары. \n",
    "2. В качестве параметров функции нужно передать валюту (“currency”) и обменный курс (“exchange_rate”), новое значение зарплаты будет вычисляться как текущее значение salary, умноженное на exchange_rate.\n",
    "3. Для того, чтобы понимать в какой валюте работник получает зарплату, нужно добавить в словарь каждого сотрудника ключ “currency”, изначально равный “rub”. При смене валюты значение ключа меняется на соответствующую валюту (например, “usd”).\n",
    "4. Также напишите функцию show_salary(), которая будет принимать на вход элемент словаря employees и выводить на экран сообщение формата: {должность} {фамилия} получает {зарплата} {валюта}.\n"
   ]
  },
  {
   "cell_type": "code",
   "execution_count": 16,
   "metadata": {},
   "outputs": [
    {
     "data": {
      "text/plain": [
       "{('иван', 'иванов'): {'age': 35, 'position': 'сотрудник', 'salary': 59984},\n",
       " ('иван1', 'иванов1'): {'age': 36, 'position': 'сотрудник', 'salary': 79110},\n",
       " ('иван2', 'иванов2'): {'age': 37, 'position': 'сотрудник', 'salary': 73764},\n",
       " ('иван3', 'иванов3'): {'age': 38, 'position': 'сотрудник', 'salary': 66740},\n",
       " ('Алексей', 'Петров'): {'age': 40, 'position': 'сотрудник1', 'salary': 90029}}"
      ]
     },
     "execution_count": 16,
     "metadata": {},
     "output_type": "execute_result"
    }
   ],
   "source": [
    "employees = {('иван', 'иванов'): {'age': 35, 'position': 'сотрудник', 'salary': 59984},\n",
    " ('иван1', 'иванов1'): {'age': 36, 'position': 'сотрудник', 'salary': 79110},\n",
    " ('иван2', 'иванов2'): {'age': 37, 'position': 'сотрудник', 'salary': 73764},\n",
    " ('иван3', 'иванов3'): {'age': 38, 'position': 'сотрудник', 'salary': 66740},\n",
    " ('Алексей', 'Петров'): {'age': 40, 'position': 'сотрудник1', 'salary': 90029}}\n",
    "\n",
    "employees"
   ]
  },
  {
   "cell_type": "code",
   "execution_count": 21,
   "metadata": {},
   "outputs": [],
   "source": [
    "def change_currency(employee, currency, exchange_rate):\n",
    "\n",
    "    if employee.setdefault('currency', 'rub') != currency:\n",
    "        employee['currency'] = currency\n",
    "        employee['salary'] *= exchange_rate\n",
    "\n",
    "    return employee\n",
    "\n",
    "def show_salary(employee, info):\n",
    "    print(f\"{info['position']} {employee[1]} получает {info['salary']} {info['currency']}\")"
   ]
  },
  {
   "cell_type": "code",
   "execution_count": 22,
   "metadata": {},
   "outputs": [
    {
     "name": "stdout",
     "output_type": "stream",
     "text": [
      "сотрудник иванов получает 599.84 usd\n",
      "сотрудник иванов1 получает 791.1 usd\n",
      "сотрудник иванов2 получает 737.64 usd\n",
      "сотрудник иванов3 получает 667.4 usd\n",
      "сотрудник1 Петров получает 900.29 usd\n"
     ]
    }
   ],
   "source": [
    "for key, value in employees.items():\n",
    "    employees[key] = change_currency(value, 'usd', 0.01)\n",
    "    show_salary(key, employees[key])"
   ]
  },
  {
   "cell_type": "markdown",
   "metadata": {},
   "source": [
    "## Задание 5\n",
    "1. Для словаря employees из задания 4 напишите функцию add_employee(), которая будет добавлять сотрудников в исходный словарь. \n",
    "2. В качестве обязательных параметров в функцию нужно передать исходный словарь (employees: dict), имя (name: str), фамилию (surname: str), должность (position: str), возраст (age: int), в качестве необязательных параметров – зарплату (salary: float, по умолчанию 50000) и валюту (currency: str, по умолчанию “rub”), в которой выплачивается зарплата.\n",
    "3. Функция должна добавлять сотрудника в исходный словарь в принятом для словаря формате. Если добавляемый сотрудник уже существует в исходном словаре, следует вывести на экран предупреждение и прекратить выполнение функции.\n",
    "4. Также напишите функцию fire_employee(), которая будет удалять сотрудника по его имени и фамилии. Если указанный сотрудник отсутствует, следует вывести на экран предупреждение и прекратить выполнение функции.\n"
   ]
  },
  {
   "cell_type": "code",
   "execution_count": 24,
   "metadata": {},
   "outputs": [],
   "source": [
    "def add_employee(employees, name, surname, position, age, salary=50000, currency='rub'):\n",
    "    \n",
    "    if (name, surname) in employees.keys():\n",
    "        print(\"Сотрудник уже есть!\")\n",
    "        return\n",
    "    \n",
    "    employees[(name, surname)] = {\n",
    "        'age': age, \n",
    "        'position': position, \n",
    "        'salary': salary,\n",
    "        'currency': currency\n",
    "        }\n",
    "\n",
    "def fire_employee(employees, key):\n",
    "    if key not in employees.keys():\n",
    "        print('Такого сотрудника нет')\n",
    "        return\n",
    "        \n",
    "    employees.pop(key)"
   ]
  },
  {
   "cell_type": "code",
   "execution_count": 25,
   "metadata": {},
   "outputs": [
    {
     "data": {
      "text/plain": [
       "{('иван', 'иванов'): {'age': 35,\n",
       "  'position': 'сотрудник',\n",
       "  'salary': 599.84,\n",
       "  'currency': 'usd'},\n",
       " ('иван1', 'иванов1'): {'age': 36,\n",
       "  'position': 'сотрудник',\n",
       "  'salary': 791.1,\n",
       "  'currency': 'usd'},\n",
       " ('иван2', 'иванов2'): {'age': 37,\n",
       "  'position': 'сотрудник',\n",
       "  'salary': 737.64,\n",
       "  'currency': 'usd'},\n",
       " ('иван3', 'иванов3'): {'age': 38,\n",
       "  'position': 'сотрудник',\n",
       "  'salary': 667.4,\n",
       "  'currency': 'usd'},\n",
       " ('Алексей', 'Петров'): {'age': 40,\n",
       "  'position': 'сотрудник1',\n",
       "  'salary': 900.29,\n",
       "  'currency': 'usd'}}"
      ]
     },
     "execution_count": 25,
     "metadata": {},
     "output_type": "execute_result"
    }
   ],
   "source": [
    "employees"
   ]
  },
  {
   "cell_type": "code",
   "execution_count": 28,
   "metadata": {},
   "outputs": [
    {
     "name": "stdout",
     "output_type": "stream",
     "text": [
      "Сотрудник уже есть!\n"
     ]
    },
    {
     "data": {
      "text/plain": [
       "{('иван', 'иванов'): {'age': 35,\n",
       "  'position': 'сотрудник',\n",
       "  'salary': 599.84,\n",
       "  'currency': 'usd'},\n",
       " ('иван1', 'иванов1'): {'age': 36,\n",
       "  'position': 'сотрудник',\n",
       "  'salary': 791.1,\n",
       "  'currency': 'usd'},\n",
       " ('иван2', 'иванов2'): {'age': 37,\n",
       "  'position': 'сотрудник',\n",
       "  'salary': 737.64,\n",
       "  'currency': 'usd'},\n",
       " ('иван3', 'иванов3'): {'age': 38,\n",
       "  'position': 'сотрудник',\n",
       "  'salary': 667.4,\n",
       "  'currency': 'usd'},\n",
       " ('Алексей', 'Петров'): {'age': 40,\n",
       "  'position': 'сотрудник1',\n",
       "  'salary': 900.29,\n",
       "  'currency': 'usd'},\n",
       " ('ivan', 'ivanov'): {'age': 22,\n",
       "  'position': 'engineer',\n",
       "  'salary': 50000,\n",
       "  'currency': 'rub'}}"
      ]
     },
     "execution_count": 28,
     "metadata": {},
     "output_type": "execute_result"
    }
   ],
   "source": [
    "add_employee(employees, 'ivan', 'ivanov', 'engineer', 22, )\n",
    "employees"
   ]
  },
  {
   "cell_type": "code",
   "execution_count": 30,
   "metadata": {},
   "outputs": [
    {
     "name": "stdout",
     "output_type": "stream",
     "text": [
      "Такого сотрудника нет\n"
     ]
    },
    {
     "data": {
      "text/plain": [
       "{('иван', 'иванов'): {'age': 35,\n",
       "  'position': 'сотрудник',\n",
       "  'salary': 599.84,\n",
       "  'currency': 'usd'},\n",
       " ('иван1', 'иванов1'): {'age': 36,\n",
       "  'position': 'сотрудник',\n",
       "  'salary': 791.1,\n",
       "  'currency': 'usd'},\n",
       " ('иван2', 'иванов2'): {'age': 37,\n",
       "  'position': 'сотрудник',\n",
       "  'salary': 737.64,\n",
       "  'currency': 'usd'},\n",
       " ('иван3', 'иванов3'): {'age': 38,\n",
       "  'position': 'сотрудник',\n",
       "  'salary': 667.4,\n",
       "  'currency': 'usd'},\n",
       " ('Алексей', 'Петров'): {'age': 40,\n",
       "  'position': 'сотрудник1',\n",
       "  'salary': 900.29,\n",
       "  'currency': 'usd'}}"
      ]
     },
     "execution_count": 30,
     "metadata": {},
     "output_type": "execute_result"
    }
   ],
   "source": [
    "fire_employee(employees, ('ivan', 'ivanov'))\n",
    "employees"
   ]
  },
  {
   "cell_type": "markdown",
   "metadata": {},
   "source": [
    "## Задание 6 "
   ]
  },
  {
   "cell_type": "markdown",
   "metadata": {},
   "source": [
    "1. Напишите рекурсивную функцию fibonacci(), которая возвращает число Фибоначчи для соответствующего порядкового номера. Числа Фибоначчи – это ряд чисел, в котором каждое следующее число равно сумме двух предыдущих: 1, 1, 2, 3, 5, 8, 13… Каждое число из ряда Фибоначчи, разделенное на предыдущее, имеет значение, стремящееся к уникальному показателю, которое составляет 1,618. Первые числа ряда Фибоначчи не дают настолько точное значение, однако по мере нарастания, соотношение постепенно выравнивается и становится все более точным.\n",
    "2. В качестве параметров функция принимает порядковый номер числа Фибоначчи (n: int).\n",
    "3. Функция возвращает число Фибоначчи.\n"
   ]
  },
  {
   "cell_type": "code",
   "execution_count": 91,
   "metadata": {},
   "outputs": [
    {
     "data": {
      "text/plain": [
       "13"
      ]
     },
     "execution_count": 91,
     "metadata": {},
     "output_type": "execute_result"
    }
   ],
   "source": [
    "def fibonacci(n):\n",
    "\n",
    "    if n <= 1:\n",
    "        return 1\n",
    "    \n",
    "    else:\n",
    "        return fibonacci(n-1) + fibonacci(n-2)\n",
    "\n",
    "fibonacci(6)"
   ]
  },
  {
   "cell_type": "markdown",
   "metadata": {},
   "source": [
    "## Задание 7"
   ]
  },
  {
   "cell_type": "markdown",
   "metadata": {},
   "source": [
    "1. Напишите рекурсивную функцию geometric_progression_sum() для вычисления суммы n первых членов бесконечно убывающей геометрической прогрессии.\n",
    "2. В качестве параметра функция принимает количество членов прогрессии (n: int).\n",
    "3. Функция возвращает сумму первых членов прогрессии.\n",
    "\n",
    "\n",
    "$$\n",
    "\\sum_{n=0}^{\\infty}\\frac{1}{2^n} = 1 + \\frac{1}{2} + \\frac{1}{4} + \\frac{1}{8} + \\frac{1}{16} + ...\n",
    "$$"
   ]
  },
  {
   "cell_type": "code",
   "execution_count": 115,
   "metadata": {},
   "outputs": [],
   "source": [
    "def geometric_progression_sum(n):\n",
    "\n",
    "    if n < 0:\n",
    "        return 0\n",
    "\n",
    "    return geometric_progression_sum(n-1) + 1 / 2**n"
   ]
  },
  {
   "cell_type": "code",
   "execution_count": 118,
   "metadata": {},
   "outputs": [
    {
     "data": {
      "text/plain": [
       "2.0"
      ]
     },
     "execution_count": 118,
     "metadata": {},
     "output_type": "execute_result"
    }
   ],
   "source": [
    "geometric_progression_sum(1000)"
   ]
  },
  {
   "cell_type": "markdown",
   "metadata": {},
   "source": [
    "## Задание 8\n",
    "\n",
    "1. При помощи конструкции List Comprehension и модуля random создайте список lst из 1 миллиона случайных целочисленных значений. \n",
    "2. При помощи функции map() и лямбда-выражений сгенерируйте список lst1, в котором каждый элемент будет равен квадратному корню соответствующего значения списка lst.\n",
    "3. Выполните пункт 2, используя цикл for\n",
    "4. Выполните пункт 2, используя List Comprehension \n",
    "5. Сравните время выполнения формирования списка lst1, для этого можно использовать модуль datetime (datetime.datetime.now() – получение текущего времени в формате datetime, времена можно вычитать), выведите на экран время выполнения для каждого варианта.\n",
    "6. При помощи функции filter() и лямбда-выражений сгенерируйте список lst2, в котором будут только те элементы списка lst, которые больше среднего значения списка lst.\n"
   ]
  },
  {
   "cell_type": "code",
   "execution_count": 176,
   "metadata": {},
   "outputs": [
    {
     "name": "stdout",
     "output_type": "stream",
     "text": [
      "776.158 ms\n",
      "635.456 ms\n",
      "517.931 ms\n"
     ]
    }
   ],
   "source": [
    "import random\n",
    "import datetime\n",
    "\n",
    "lst = [random.randint(1, 1000) for i in range(1_000_000)]\n",
    "\n",
    "start_time = datetime.datetime.now()\n",
    "\n",
    "lst1 = []\n",
    "\n",
    "for element in lst:\n",
    "    lst1.append(element**0.5)\n",
    "\n",
    "print((datetime.datetime.now() - start_time).microseconds / 1000, \"ms\")\n",
    "\n",
    "start_time = datetime.datetime.now()\n",
    "\n",
    "lst1 = list(map(lambda x: x**0.5, lst))\n",
    "print((datetime.datetime.now() - start_time).microseconds / 1000, \"ms\")\n",
    "\n",
    "start_time = datetime.datetime.now()\n",
    "lst1 = [x**0.5 for x in lst]\n",
    "print((datetime.datetime.now() - start_time).microseconds / 1000, \"ms\")"
   ]
  },
  {
   "cell_type": "code",
   "execution_count": 180,
   "metadata": {},
   "outputs": [
    {
     "data": {
      "text/plain": [
       "499406"
      ]
     },
     "execution_count": 180,
     "metadata": {},
     "output_type": "execute_result"
    }
   ],
   "source": [
    "lst_mean = sum(lst) / len(lst)\n",
    "\n",
    "lst2 = list(filter(lambda x: x>lst_mean, lst))\n",
    "len(lst2)"
   ]
  },
  {
   "cell_type": "markdown",
   "metadata": {},
   "source": [
    "## Задание 9\n",
    "Выведите на экран список, состоящий из сотрудников, находящихся в словаре employees из предыдущих заданий, отсортированный по размеру зарплаты. Элемент списка – кортеж (ключ, значение), соответствующий конкретному сотруднику.\n"
   ]
  },
  {
   "cell_type": "code",
   "execution_count": 31,
   "metadata": {},
   "outputs": [
    {
     "data": {
      "text/plain": [
       "[(('иван', 'иванов'),\n",
       "  {'age': 35, 'position': 'сотрудник', 'salary': 599.84, 'currency': 'usd'}),\n",
       " (('иван3', 'иванов3'),\n",
       "  {'age': 38, 'position': 'сотрудник', 'salary': 667.4, 'currency': 'usd'}),\n",
       " (('иван2', 'иванов2'),\n",
       "  {'age': 37, 'position': 'сотрудник', 'salary': 737.64, 'currency': 'usd'}),\n",
       " (('иван1', 'иванов1'),\n",
       "  {'age': 36, 'position': 'сотрудник', 'salary': 791.1, 'currency': 'usd'}),\n",
       " (('Алексей', 'Петров'),\n",
       "  {'age': 40, 'position': 'сотрудник1', 'salary': 900.29, 'currency': 'usd'})]"
      ]
     },
     "execution_count": 31,
     "metadata": {},
     "output_type": "execute_result"
    }
   ],
   "source": [
    "dict1 = {\n",
    "    (0, 0): {'parameter1': 10, 'parameter2': 21, 'parameter3': 30},\n",
    "    (0, 1): {'parameter1': 20, 'parameter2': 23, 'parameter3': 30},\n",
    "    (1, 1): {'parameter1': 30, 'parameter2': 2, 'parameter3': 30},\n",
    "    (1, 2): {'parameter1': 40, 'parameter2': 0, 'parameter3': 30},\n",
    "    (2, 1): {'parameter1': 50, 'parameter2': 10, 'parameter3': 30},\n",
    "}\n",
    "\n",
    "\n",
    "sorted(employees.items(), key=lambda x: x[1]['salary'])"
   ]
  },
  {
   "cell_type": "markdown",
   "metadata": {},
   "source": [
    "## Задание 10\n",
    "1. Создайте функцию create_multiplier(factor), которая принимает на вход число, которое будет являться множителем.\n",
    "2. Внутри функции create_multiplier() создайте функцию multiplier(x), которая принимает на вход число, которое нужно умножить на множитель.\n",
    "3. Используя концепцию замыкания функций объявите два объекта double и triple, которые будут ссылаться на функцию create_multiplier, но передавать в нее  разные аргументы: 2 и 3 соответственно.\n",
    "5. Присвойте значения функций double и triple переменным result1 и result2 соответственно. В функции double и triple в качестве аргумента передайте одинаковое число, например, 10.\n"
   ]
  },
  {
   "cell_type": "code",
   "execution_count": 221,
   "metadata": {},
   "outputs": [
    {
     "name": "stdout",
     "output_type": "stream",
     "text": [
      "20\n",
      "30\n"
     ]
    }
   ],
   "source": [
    "def create_multiplier(factor):\n",
    "    # Внешняя функция, которая принимает фактор\n",
    "    def multiplier(x):\n",
    "        # Внутренняя функция, которая умножает x на фактор\n",
    "        return x * factor\n",
    "    return multiplier  # Возвращаем внутреннюю функцию\n",
    "\n",
    "# Создаем две функции для умножения на разные факторы\n",
    "double = create_multiplier(2)\n",
    "triple = create_multiplier(3)\n",
    "\n",
    "# Используем созданные функции\n",
    "result1 = double(10)\n",
    "result2 = triple(10) \n",
    "\n",
    "print(result1)\n",
    "print(result2)"
   ]
  },
  {
   "cell_type": "markdown",
   "metadata": {},
   "source": [
    "## Задание 11\n",
    "\n",
    "1. Реализуйте вывод на экран последовательности Фибоначчи при помощи генератора fibonacci_gen().\n",
    "2. Для вывода на экран воспользуйтесь циклом for или while, количество выводимых цифр будет определяться количеством итераций в цикле.\n",
    "3. Напоминалка: последовательность Фибонначи состоит из таких чисел, где каждое последующее число равняется сумме двух предыдущих. Первое и второе число равняется единице: 1, 1, 2, 3, 5, 8, 13\n"
   ]
  },
  {
   "cell_type": "code",
   "execution_count": 217,
   "metadata": {},
   "outputs": [
    {
     "name": "stdout",
     "output_type": "stream",
     "text": [
      "1\n",
      "1\n",
      "2\n",
      "3\n",
      "5\n",
      "8\n",
      "13\n",
      "21\n",
      "34\n",
      "55\n"
     ]
    }
   ],
   "source": [
    "def fibonacci_gen():\n",
    "    a, b = 1, 1\n",
    "    while True:\n",
    "        yield a\n",
    "        a, b = b, a + b\n",
    "\n",
    "# Пример использования:\n",
    "fibonacci_generator = fibonacci_gen()\n",
    "\n",
    "for _ in range(10):  # Вывести первые 10 чисел Фибоначчи\n",
    "    print(next(fibonacci_generator))"
   ]
  },
  {
   "cell_type": "code",
   "execution_count": null,
   "metadata": {},
   "outputs": [],
   "source": []
  }
 ],
 "metadata": {
  "kernelspec": {
   "display_name": "Python 3 (ipykernel)",
   "language": "python",
   "name": "python3"
  },
  "language_info": {
   "codemirror_mode": {
    "name": "ipython",
    "version": 3
   },
   "file_extension": ".py",
   "mimetype": "text/x-python",
   "name": "python",
   "nbconvert_exporter": "python",
   "pygments_lexer": "ipython3",
   "version": "3.9.7"
  }
 },
 "nbformat": 4,
 "nbformat_minor": 4
}
