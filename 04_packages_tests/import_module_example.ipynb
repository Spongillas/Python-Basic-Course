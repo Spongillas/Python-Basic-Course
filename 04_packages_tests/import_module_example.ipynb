{
 "cells": [
  {
   "cell_type": "code",
   "execution_count": 6,
   "metadata": {},
   "outputs": [
    {
     "name": "stdout",
     "output_type": "stream",
     "text": [
      "2023-09-05 22:21:00.855918\n"
     ]
    }
   ],
   "source": [
    "import datetime\n",
    "\n",
    "print(datetime.datetime.now())"
   ]
  },
  {
   "cell_type": "code",
   "execution_count": 7,
   "metadata": {},
   "outputs": [
    {
     "name": "stdout",
     "output_type": "stream",
     "text": [
      "2023-09-05 22:21:19.637830\n"
     ]
    }
   ],
   "source": [
    "import datetime as dt\n",
    "\n",
    "print(dt.datetime.now())"
   ]
  },
  {
   "cell_type": "code",
   "execution_count": 9,
   "metadata": {},
   "outputs": [
    {
     "name": "stdout",
     "output_type": "stream",
     "text": [
      "2023-09-05 22:28:47.714270\n",
      "<member 'days' of 'datetime.timedelta' objects>\n"
     ]
    }
   ],
   "source": [
    "from datetime import timedelta as tdelta, datetime\n",
    "\n",
    "print(datetime.now())\n",
    "print(tdelta.days)\n"
   ]
  },
  {
   "cell_type": "code",
   "execution_count": 12,
   "metadata": {},
   "outputs": [
    {
     "name": "stdout",
     "output_type": "stream",
     "text": [
      "2023-09-05 22:40:03.035655\n",
      "строка\n"
     ]
    },
    {
     "ename": "AttributeError",
     "evalue": "'str' object has no attribute 'datetime'",
     "output_type": "error",
     "traceback": [
      "\u001b[1;31m---------------------------------------------------------------------------\u001b[0m",
      "\u001b[1;31mAttributeError\u001b[0m                            Traceback (most recent call last)",
      "Cell \u001b[1;32mIn[12], line 6\u001b[0m\n\u001b[0;32m      3\u001b[0m dt \u001b[39m=\u001b[39m \u001b[39m'\u001b[39m\u001b[39mстрока\u001b[39m\u001b[39m'\u001b[39m\n\u001b[0;32m      4\u001b[0m \u001b[39mprint\u001b[39m(dt)\n\u001b[1;32m----> 6\u001b[0m \u001b[39mprint\u001b[39m(dt\u001b[39m.\u001b[39;49mdatetime\u001b[39m.\u001b[39mnow())\n",
      "\u001b[1;31mAttributeError\u001b[0m: 'str' object has no attribute 'datetime'"
     ]
    }
   ],
   "source": [
    "print(dt.datetime.now())\n",
    "\n",
    "dt = 'строка'\n",
    "print(dt)\n",
    "\n",
    "print(dt.datetime.now())\n"
   ]
  },
  {
   "cell_type": "code",
   "execution_count": 13,
   "metadata": {},
   "outputs": [
    {
     "name": "stdout",
     "output_type": "stream",
     "text": [
      "Название модуля: new_module\n"
     ]
    }
   ],
   "source": [
    "import new_module\n",
    "\n",
    "new_module.show_module_info()"
   ]
  },
  {
   "cell_type": "code",
   "execution_count": 14,
   "metadata": {},
   "outputs": [
    {
     "name": "stdout",
     "output_type": "stream",
     "text": [
      "Название модуля: new_module\n"
     ]
    }
   ],
   "source": [
    "from new_module import show_module_info\n",
    "\n",
    "show_module_info()"
   ]
  },
  {
   "cell_type": "code",
   "execution_count": 16,
   "metadata": {},
   "outputs": [
    {
     "data": {
      "text/plain": [
       "['c:\\\\!ML\\\\ITCloud\\\\01_PythonBasic\\\\04_Модульное_программирование',\n",
       " 'c:\\\\Users\\\\askorohodov\\\\Anaconda3\\\\envs\\\\Python311\\\\python311.zip',\n",
       " 'c:\\\\Users\\\\askorohodov\\\\Anaconda3\\\\envs\\\\Python311\\\\DLLs',\n",
       " 'c:\\\\Users\\\\askorohodov\\\\Anaconda3\\\\envs\\\\Python311\\\\Lib',\n",
       " 'c:\\\\Users\\\\askorohodov\\\\Anaconda3\\\\envs\\\\Python311',\n",
       " '',\n",
       " 'c:\\\\Users\\\\askorohodov\\\\Anaconda3\\\\envs\\\\Python311\\\\Lib\\\\site-packages',\n",
       " 'c:\\\\Users\\\\askorohodov\\\\Anaconda3\\\\envs\\\\Python311\\\\Lib\\\\site-packages\\\\win32',\n",
       " 'c:\\\\Users\\\\askorohodov\\\\Anaconda3\\\\envs\\\\Python311\\\\Lib\\\\site-packages\\\\win32\\\\lib',\n",
       " 'c:\\\\Users\\\\askorohodov\\\\Anaconda3\\\\envs\\\\Python311\\\\Lib\\\\site-packages\\\\Pythonwin']"
      ]
     },
     "execution_count": 16,
     "metadata": {},
     "output_type": "execute_result"
    }
   ],
   "source": [
    "import sys\n",
    "\n",
    "sys.path"
   ]
  },
  {
   "cell_type": "code",
   "execution_count": 26,
   "metadata": {},
   "outputs": [],
   "source": [
    "!pip freeze > requirements.txt"
   ]
  },
  {
   "cell_type": "code",
   "execution_count": 25,
   "metadata": {},
   "outputs": [
    {
     "name": "stdout",
     "output_type": "stream",
     "text": [
      "anyio==3.7.0\n",
      "argon2-cffi==21.3.0\n",
      "argon2-cffi-bindings==21.2.0\n",
      "arrow==1.2.3\n",
      "asttokens==2.2.1\n",
      "async-lru==2.0.2\n",
      "attrs==23.1.0\n",
      "Babel==2.12.1\n",
      "backcall==0.2.0\n",
      "beautifulsoup4==4.12.2\n",
      "bleach==6.0.0\n",
      "certifi==2023.5.7\n",
      "cffi==1.15.1\n",
      "charset-normalizer==3.1.0\n",
      "colorama==0.4.6\n",
      "comm==0.1.3\n",
      "contourpy==1.1.0\n",
      "cramjam==2.7.0\n",
      "cycler==0.11.0\n",
      "debugpy==1.6.7\n",
      "decorator==5.1.1\n",
      "defusedxml==0.7.1\n",
      "dict-to-digraph==0.0.3\n",
      "executing==1.2.0\n",
      "fastjsonschema==2.17.1\n",
      "fastparquet==2023.7.0\n",
      "fonttools==4.40.0\n",
      "fqdn==1.5.1\n",
      "fsspec==2023.6.0\n",
      "graphviz==0.20.1\n",
      "idna==3.4\n",
      "ipykernel==6.23.2\n",
      "ipython==8.14.0\n",
      "isoduration==20.11.0\n",
      "jedi==0.18.2\n",
      "Jinja2==3.1.2\n",
      "joblib==1.2.0\n",
      "json5==0.9.14\n",
      "jsonpointer==2.3\n",
      "jsonschema==4.17.3\n",
      "jupyter-events==0.6.3\n",
      "jupyter-lsp==2.2.0\n",
      "jupyter_client==8.2.0\n",
      "jupyter_core==5.3.1\n",
      "jupyter_server==2.6.0\n",
      "jupyter_server_terminals==0.4.4\n",
      "jupyterlab==4.0.2\n",
      "jupyterlab-pygments==0.2.2\n",
      "jupyterlab_server==2.23.0\n",
      "kiwisolver==1.4.4\n",
      "MarkupSafe==2.1.3\n",
      "matplotlib==3.7.1\n",
      "matplotlib-inline==0.1.6\n",
      "mistune==2.0.5\n",
      "nbclient==0.8.0\n",
      "nbconvert==7.5.0\n",
      "nbformat==5.9.0\n",
      "nest-asyncio==1.5.6\n",
      "notebook_shim==0.2.3\n",
      "numpy==1.24.3\n",
      "overrides==7.3.1\n",
      "packaging==23.1\n",
      "pandas==2.0.2\n",
      "pandocfilters==1.5.0\n",
      "parso==0.8.3\n",
      "pickleshare==0.7.5\n",
      "Pillow==9.5.0\n",
      "platformdirs==3.5.3\n",
      "plotly==5.16.1\n",
      "prometheus-client==0.17.0\n",
      "prompt-toolkit==3.0.38\n",
      "psutil==5.9.5\n",
      "pure-eval==0.2.2\n",
      "py-zabbix==1.1.7\n",
      "pyarrow==12.0.1\n",
      "pycparser==2.21\n",
      "pydotplus==2.0.2\n",
      "Pygments==2.15.1\n",
      "pyparsing==3.1.0\n",
      "pyrsistent==0.19.3\n",
      "python-dateutil==2.8.2\n",
      "python-json-logger==2.0.7\n",
      "pytz==2023.3\n",
      "pywin32==306\n",
      "pywinpty==2.0.10\n",
      "PyYAML==6.0\n",
      "pyzmq==25.1.0\n",
      "requests==2.31.0\n",
      "rfc3339-validator==0.1.4\n",
      "rfc3986-validator==0.1.1\n",
      "scikit-learn==1.2.2\n",
      "scipy==1.11.0\n",
      "Send2Trash==1.8.2\n",
      "six==1.16.0\n",
      "sniffio==1.3.0\n",
      "soupsieve==2.4.1\n",
      "stack-data==0.6.2\n",
      "tenacity==8.2.3\n",
      "terminado==0.17.1\n",
      "threadpoolctl==3.1.0\n",
      "tinycss2==1.2.1\n",
      "tornado==6.3.2\n",
      "tqdm==4.65.0\n",
      "traitlets==5.9.0\n",
      "typing_extensions==4.6.3\n",
      "tzdata==2023.3\n",
      "uri-template==1.2.0\n",
      "urllib3==2.0.3\n",
      "wcwidth==0.2.6\n",
      "webcolors==1.13\n",
      "webencodings==0.5.1\n",
      "websocket-client==1.5.3\n"
     ]
    }
   ],
   "source": [
    "!pip freeze"
   ]
  },
  {
   "cell_type": "code",
   "execution_count": null,
   "metadata": {},
   "outputs": [],
   "source": []
  }
 ],
 "metadata": {
  "kernelspec": {
   "display_name": "Python311",
   "language": "python",
   "name": "python3"
  },
  "language_info": {
   "codemirror_mode": {
    "name": "ipython",
    "version": 3
   },
   "file_extension": ".py",
   "mimetype": "text/x-python",
   "name": "python",
   "nbconvert_exporter": "python",
   "pygments_lexer": "ipython3",
   "version": "3.11.3"
  },
  "orig_nbformat": 4
 },
 "nbformat": 4,
 "nbformat_minor": 2
}
