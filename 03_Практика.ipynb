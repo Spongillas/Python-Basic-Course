{
 "cells": [
  {
   "cell_type": "markdown",
   "metadata": {},
   "source": [
    "# Python (базовый). 03. ООП\n",
    "Практика к презентации \"03_ООП.pptx\" курса Python (basic)"
   ]
  },
  {
   "cell_type": "markdown",
   "metadata": {},
   "source": [
    "### 01. Классы"
   ]
  },
  {
   "cell_type": "code",
   "execution_count": 2,
   "metadata": {},
   "outputs": [],
   "source": [
    "class SchoolGroup:\n",
    "    MAX_SIZE = 30\n",
    "\n",
    "    def __init__(self, name, year, teacher):\n",
    "        self.name = name\n",
    "        self.year = year\n",
    "        self.teacher = self.uppercase(teacher)\n",
    "\n",
    "    def change_size(self, new_size: int):\n",
    "        if new_size <= self.MAX_SIZE:\n",
    "            self.size = new_size\n",
    "            print(f'Размер класса изменен на {self.size}')\n",
    "        else:\n",
    "            print(f'Вместимость класса превышена ({self.MAX_SIZE})')\n",
    "\n",
    "    @classmethod\n",
    "    def change_max_size(cls, new_size):\n",
    "        cls.MAX_SIZE = new_size\n",
    "\n",
    "    @staticmethod\n",
    "    def uppercase(some_str):\n",
    "        return some_str.upper()\n",
    "\n",
    "\n",
    "\n",
    "group1 = SchoolGroup('A', '9', 'Учитель')"
   ]
  },
  {
   "cell_type": "code",
   "execution_count": 46,
   "metadata": {},
   "outputs": [],
   "source": [
    "group1.change_max_size(99)"
   ]
  },
  {
   "cell_type": "code",
   "execution_count": 7,
   "metadata": {},
   "outputs": [
    {
     "data": {
      "text/plain": [
       "'9A'"
      ]
     },
     "execution_count": 7,
     "metadata": {},
     "output_type": "execute_result"
    }
   ],
   "source": [
    "group1.year + group1.name"
   ]
  },
  {
   "cell_type": "code",
   "execution_count": 13,
   "metadata": {},
   "outputs": [
    {
     "data": {
      "text/plain": [
       "20"
      ]
     },
     "execution_count": 13,
     "metadata": {},
     "output_type": "execute_result"
    }
   ],
   "source": [
    "size = 32\n",
    "\n",
    "if size <= group1.MAX_SIZE:\n",
    "    group1.size = size\n",
    "\n",
    "group1.size"
   ]
  },
  {
   "cell_type": "code",
   "execution_count": 15,
   "metadata": {},
   "outputs": [
    {
     "data": {
      "text/plain": [
       "32"
      ]
     },
     "execution_count": 15,
     "metadata": {},
     "output_type": "execute_result"
    }
   ],
   "source": [
    "SchoolGroup.MAX_SIZE = 32\n",
    "SchoolGroup.MAX_SIZE"
   ]
  },
  {
   "cell_type": "code",
   "execution_count": 17,
   "metadata": {},
   "outputs": [
    {
     "data": {
      "text/plain": [
       "32"
      ]
     },
     "execution_count": 17,
     "metadata": {},
     "output_type": "execute_result"
    }
   ],
   "source": [
    "group2 = SchoolGroup('B', '9', 'Учитель')\n",
    "group2.MAX_SIZE"
   ]
  },
  {
   "cell_type": "code",
   "execution_count": 22,
   "metadata": {},
   "outputs": [],
   "source": [
    "group2.MAX_SIZE = 45"
   ]
  },
  {
   "cell_type": "code",
   "execution_count": 24,
   "metadata": {},
   "outputs": [
    {
     "data": {
      "text/plain": [
       "{'name': 'B', 'year': '9', 'teacher': 'Учитель', 'MAX_SIZE': 45}"
      ]
     },
     "execution_count": 24,
     "metadata": {},
     "output_type": "execute_result"
    }
   ],
   "source": [
    "group2.__dict__"
   ]
  },
  {
   "cell_type": "code",
   "execution_count": 25,
   "metadata": {},
   "outputs": [
    {
     "data": {
      "text/plain": [
       "45"
      ]
     },
     "execution_count": 25,
     "metadata": {},
     "output_type": "execute_result"
    }
   ],
   "source": [
    "group2.MAX_SIZE"
   ]
  },
  {
   "cell_type": "code",
   "execution_count": 26,
   "metadata": {},
   "outputs": [
    {
     "data": {
      "text/plain": [
       "32"
      ]
     },
     "execution_count": 26,
     "metadata": {},
     "output_type": "execute_result"
    }
   ],
   "source": [
    "group1.MAX_SIZE"
   ]
  },
  {
   "cell_type": "code",
   "execution_count": 40,
   "metadata": {},
   "outputs": [
    {
     "data": {
      "text/plain": [
       "{'name': 'A', 'year': '9', 'teacher': 'УЧИТЕЛЬ'}"
      ]
     },
     "execution_count": 40,
     "metadata": {},
     "output_type": "execute_result"
    }
   ],
   "source": [
    "group1.__dict__"
   ]
  },
  {
   "cell_type": "code",
   "execution_count": 23,
   "metadata": {},
   "outputs": [
    {
     "data": {
      "text/plain": [
       "mappingproxy({'__module__': '__main__',\n",
       "              'MAX_SIZE': 32,\n",
       "              '__init__': <function __main__.SchoolGroup.__init__(self, name, year, teacher)>,\n",
       "              '__dict__': <attribute '__dict__' of 'SchoolGroup' objects>,\n",
       "              '__weakref__': <attribute '__weakref__' of 'SchoolGroup' objects>,\n",
       "              '__doc__': None})"
      ]
     },
     "execution_count": 23,
     "metadata": {},
     "output_type": "execute_result"
    }
   ],
   "source": [
    "SchoolGroup.__dict__"
   ]
  },
  {
   "cell_type": "code",
   "execution_count": 38,
   "metadata": {},
   "outputs": [
    {
     "name": "stdout",
     "output_type": "stream",
     "text": [
      "{'name': 'A', 'year': '9', 'teacher': 'Учитель'}\n"
     ]
    },
    {
     "ename": "TypeError",
     "evalue": "SchoolGroup.change_size() takes 1 positional argument but 2 were given",
     "output_type": "error",
     "traceback": [
      "\u001b[1;31m---------------------------------------------------------------------------\u001b[0m",
      "\u001b[1;31mTypeError\u001b[0m                                 Traceback (most recent call last)",
      "Cell \u001b[1;32mIn[38], line 3\u001b[0m\n\u001b[0;32m      1\u001b[0m \u001b[39mprint\u001b[39m(group1\u001b[39m.\u001b[39m\u001b[39m__dict__\u001b[39m)\n\u001b[1;32m----> 3\u001b[0m group1\u001b[39m.\u001b[39;49mchange_size(\u001b[39m25\u001b[39;49m)\n\u001b[0;32m      5\u001b[0m \u001b[39mprint\u001b[39m(group1\u001b[39m.\u001b[39m\u001b[39m__dict__\u001b[39m)\n",
      "\u001b[1;31mTypeError\u001b[0m: SchoolGroup.change_size() takes 1 positional argument but 2 were given"
     ]
    }
   ],
   "source": [
    "print(group1.__dict__)\n",
    "\n",
    "group1.change_size(25)\n",
    "\n",
    "print(group1.__dict__)"
   ]
  },
  {
   "cell_type": "code",
   "execution_count": null,
   "metadata": {},
   "outputs": [],
   "source": []
  },
  {
   "cell_type": "markdown",
   "metadata": {},
   "source": [
    "## 02. Наследование"
   ]
  },
  {
   "cell_type": "code",
   "execution_count": 3,
   "metadata": {},
   "outputs": [
    {
     "data": {
      "text/plain": [
       "True"
      ]
     },
     "execution_count": 3,
     "metadata": {},
     "output_type": "execute_result"
    }
   ],
   "source": [
    "isinstance(group1, SchoolGroup)"
   ]
  },
  {
   "cell_type": "code",
   "execution_count": 4,
   "metadata": {},
   "outputs": [
    {
     "data": {
      "text/plain": [
       "True"
      ]
     },
     "execution_count": 4,
     "metadata": {},
     "output_type": "execute_result"
    }
   ],
   "source": [
    "issubclass(SchoolGroup, object)"
   ]
  },
  {
   "cell_type": "code",
   "execution_count": 5,
   "metadata": {},
   "outputs": [
    {
     "data": {
      "text/plain": [
       "True"
      ]
     },
     "execution_count": 5,
     "metadata": {},
     "output_type": "execute_result"
    }
   ],
   "source": [
    "issubclass(int, object)"
   ]
  },
  {
   "cell_type": "code",
   "execution_count": 6,
   "metadata": {},
   "outputs": [
    {
     "data": {
      "text/plain": [
       "True"
      ]
     },
     "execution_count": 6,
     "metadata": {},
     "output_type": "execute_result"
    }
   ],
   "source": [
    "issubclass(dict, object)"
   ]
  },
  {
   "cell_type": "code",
   "execution_count": 7,
   "metadata": {},
   "outputs": [
    {
     "data": {
      "text/plain": [
       "mappingproxy({'__new__': <function object.__new__(*args, **kwargs)>,\n",
       "              '__repr__': <slot wrapper '__repr__' of 'object' objects>,\n",
       "              '__hash__': <slot wrapper '__hash__' of 'object' objects>,\n",
       "              '__str__': <slot wrapper '__str__' of 'object' objects>,\n",
       "              '__getattribute__': <slot wrapper '__getattribute__' of 'object' objects>,\n",
       "              '__setattr__': <slot wrapper '__setattr__' of 'object' objects>,\n",
       "              '__delattr__': <slot wrapper '__delattr__' of 'object' objects>,\n",
       "              '__lt__': <slot wrapper '__lt__' of 'object' objects>,\n",
       "              '__le__': <slot wrapper '__le__' of 'object' objects>,\n",
       "              '__eq__': <slot wrapper '__eq__' of 'object' objects>,\n",
       "              '__ne__': <slot wrapper '__ne__' of 'object' objects>,\n",
       "              '__gt__': <slot wrapper '__gt__' of 'object' objects>,\n",
       "              '__ge__': <slot wrapper '__ge__' of 'object' objects>,\n",
       "              '__init__': <slot wrapper '__init__' of 'object' objects>,\n",
       "              '__reduce_ex__': <method '__reduce_ex__' of 'object' objects>,\n",
       "              '__reduce__': <method '__reduce__' of 'object' objects>,\n",
       "              '__subclasshook__': <method '__subclasshook__' of 'object' objects>,\n",
       "              '__init_subclass__': <method '__init_subclass__' of 'object' objects>,\n",
       "              '__format__': <method '__format__' of 'object' objects>,\n",
       "              '__sizeof__': <method '__sizeof__' of 'object' objects>,\n",
       "              '__dir__': <method '__dir__' of 'object' objects>,\n",
       "              '__class__': <attribute '__class__' of 'object' objects>,\n",
       "              '__doc__': 'The base class of the class hierarchy.\\n\\nWhen called, it accepts no arguments and returns a new featureless\\ninstance that has no instance attributes and cannot be given any.\\n'})"
      ]
     },
     "execution_count": 7,
     "metadata": {},
     "output_type": "execute_result"
    }
   ],
   "source": [
    "object.__dict__"
   ]
  },
  {
   "cell_type": "markdown",
   "metadata": {},
   "source": [
    "## 03. Очко"
   ]
  },
  {
   "cell_type": "code",
   "execution_count": 27,
   "metadata": {},
   "outputs": [],
   "source": [
    "import random\n",
    "\n",
    "class Person:\n",
    "\n",
    "    def __init__(self, name: str, surname: str) -> None:\n",
    "        self.name = name\n",
    "        self.surname = surname\n",
    "\n",
    "class Player(Person):\n",
    "\n",
    "    def __init__(self, name: str, surname: str) -> None:\n",
    "        super().__init__(name, surname)\n",
    "        self.score = 0\n",
    "\n",
    "        self.history = {} # время и результат игр\n",
    "\n",
    "    def __str__(self):\n",
    "        return f\"{self.name} {self.surname}\"\n",
    "\n",
    "class Card:\n",
    "    NOMINAL = {\n",
    "        '2': 2,\n",
    "        '3': 3, \n",
    "        '4': 4,\n",
    "        '5': 5,\n",
    "        '6': 6,\n",
    "        '7': 7,\n",
    "        '8': 8,\n",
    "        '9': 9,\n",
    "        '10': 10,\n",
    "        'Jack': 11,\n",
    "        'Queen': 12,\n",
    "        'King': 13,\n",
    "        'Ace': 1\n",
    "    }\n",
    "\n",
    "    def __init__(self, suit, name) -> None:\n",
    "        self.suit = suit\n",
    "        self.name = name\n",
    "        self.nominal = self.NOMINAL[name]\n",
    "\n",
    "class Deck:\n",
    "\n",
    "    def __init__(self) -> None:\n",
    "        self.collection = []\n",
    "\n",
    "        for suit in ['spades', 'diamonds', 'hearts', 'club']:\n",
    "            for name in Card.NOMINAL.keys():\n",
    "                self.collection.append(Card(suit, name))\n",
    "\n",
    "        random.shuffle(self.collection)\n",
    "\n",
    "    def __len__(self):\n",
    "            return len(self.collection)\n",
    "\n",
    "    def get_card(self):\n",
    "        card = self.collection.pop(0)\n",
    "\n",
    "        return card\n",
    "\n",
    "    \n",
    "    \n",
    "class Game:\n",
    "\n",
    "    def __init__(self) -> None:\n",
    "        pass      \n",
    "\n",
    "    def start_game(self):\n",
    "        name = input(\"Введите имя игрока: \")\n",
    "        surname = input(\"Введите фамилию игрока: \")\n",
    "        self.player1 = Player(name, surname)\n",
    "        self.player2 = Player('bot', '')\n",
    "    \n",
    "        self.deck = Deck()\n",
    "\n",
    "        print('game started...')\n",
    "\n",
    "        cnt = 1\n",
    "        choice = True\n",
    "\n",
    "        while choice and self.player1.score < 21:\n",
    "            card = self.deck.get_card()\n",
    "            self.player1.score += card.nominal\n",
    "\n",
    "            choice = not bool(input(\"Продолжаете?\"))\n",
    "\n",
    "        print(f\"{self.player1} набрал {self.player1.score}\")\n",
    "\n",
    "        while self.player2.score < 18:\n",
    "            card = self.deck.get_card()\n",
    "            self.player2.score += card.nominal\n",
    "\n",
    "        print(f\"{self.player2} набрал {self.player2.score}\")\n",
    "\n",
    "        if self.player1.score > 21 and self.player2.score > 21:\n",
    "            print(\"Ничья\")\n",
    "\n",
    "        elif self.player1.score > 21 or (self.player1.score < self.player2.score):\n",
    "            print(f\"Выиграл {self.player2}\")\n",
    "\n",
    "        elif self.player2.score > 21 or (self.player2.score < self.player1.score):\n",
    "            print(f\"Выиграл {self.player1}\")\n",
    "\n",
    "        else:\n",
    "            print(f\"Ничья\")\n",
    "\n",
    "\n",
    "\n",
    "\n"
   ]
  },
  {
   "cell_type": "code",
   "execution_count": 10,
   "metadata": {},
   "outputs": [
    {
     "data": {
      "text/plain": [
       "{'suit': 'diamonds', 'name': '4', 'nominal': 4}"
      ]
     },
     "execution_count": 10,
     "metadata": {},
     "output_type": "execute_result"
    }
   ],
   "source": [
    "game.deck.collection[0].__dict__"
   ]
  },
  {
   "cell_type": "code",
   "execution_count": 11,
   "metadata": {},
   "outputs": [
    {
     "data": {
      "text/plain": [
       "{'name': 'Alex', 'surname': 'Ivanov', 'score': 0, 'history': {}}"
      ]
     },
     "execution_count": 11,
     "metadata": {},
     "output_type": "execute_result"
    }
   ],
   "source": [
    "game.player1.__dict__"
   ]
  },
  {
   "cell_type": "code",
   "execution_count": 28,
   "metadata": {},
   "outputs": [
    {
     "name": "stdout",
     "output_type": "stream",
     "text": [
      "game started...\n",
      "ы\\яв \\ыв набрал 30\n",
      "bot  набрал 19\n",
      "Выиграл bot \n"
     ]
    }
   ],
   "source": [
    "game = Game()\n",
    "game.start_game()"
   ]
  },
  {
   "cell_type": "markdown",
   "metadata": {},
   "source": [
    "## 00. Дополнительно"
   ]
  },
  {
   "cell_type": "code",
   "execution_count": 1,
   "metadata": {},
   "outputs": [],
   "source": [
    "import sys"
   ]
  },
  {
   "cell_type": "code",
   "execution_count": 3,
   "metadata": {},
   "outputs": [
    {
     "data": {
      "text/plain": [
       "['c:\\\\Temp\\\\Python basic',\n",
       " 'C:\\\\Users\\\\prepod\\\\AppData\\\\Local\\\\Programs\\\\Python\\\\Python310\\\\python310.zip',\n",
       " 'C:\\\\Users\\\\prepod\\\\AppData\\\\Local\\\\Programs\\\\Python\\\\Python310\\\\DLLs',\n",
       " 'C:\\\\Users\\\\prepod\\\\AppData\\\\Local\\\\Programs\\\\Python\\\\Python310\\\\lib',\n",
       " 'C:\\\\Users\\\\prepod\\\\AppData\\\\Local\\\\Programs\\\\Python\\\\Python310',\n",
       " 'c:\\\\Temp\\\\Python basic\\\\python_tutor\\\\.venv',\n",
       " '',\n",
       " 'c:\\\\Temp\\\\Python basic\\\\python_tutor\\\\.venv\\\\lib\\\\site-packages',\n",
       " 'c:\\\\Temp\\\\Python basic\\\\python_tutor\\\\.venv\\\\lib\\\\site-packages\\\\win32',\n",
       " 'c:\\\\Temp\\\\Python basic\\\\python_tutor\\\\.venv\\\\lib\\\\site-packages\\\\win32\\\\lib',\n",
       " 'c:\\\\Temp\\\\Python basic\\\\python_tutor\\\\.venv\\\\lib\\\\site-packages\\\\Pythonwin']"
      ]
     },
     "execution_count": 3,
     "metadata": {},
     "output_type": "execute_result"
    }
   ],
   "source": [
    "sys.path"
   ]
  },
  {
   "cell_type": "code",
   "execution_count": 4,
   "metadata": {},
   "outputs": [
    {
     "name": "stdout",
     "output_type": "stream",
     "text": [
      "Collecting requests\n",
      "  Obtaining dependency information for requests from https://files.pythonhosted.org/packages/70/8e/0e2d847013cb52cd35b38c009bb167a1a26b2ce6cd6965bf26b47bc0bf44/requests-2.31.0-py3-none-any.whl.metadata\n",
      "  Downloading requests-2.31.0-py3-none-any.whl.metadata (4.6 kB)\n",
      "Collecting charset-normalizer<4,>=2 (from requests)\n",
      "  Obtaining dependency information for charset-normalizer<4,>=2 from https://files.pythonhosted.org/packages/5c/f2/f3faa20684729d3910af2ee142e30432c7a46a817eadeeab87366ed87bbb/charset_normalizer-3.2.0-cp310-cp310-win_amd64.whl.metadata\n",
      "  Downloading charset_normalizer-3.2.0-cp310-cp310-win_amd64.whl.metadata (31 kB)\n",
      "Collecting idna<4,>=2.5 (from requests)\n",
      "  Using cached idna-3.4-py3-none-any.whl (61 kB)\n",
      "Collecting urllib3<3,>=1.21.1 (from requests)\n",
      "  Obtaining dependency information for urllib3<3,>=1.21.1 from https://files.pythonhosted.org/packages/9b/81/62fd61001fa4b9d0df6e31d47ff49cfa9de4af03adecf339c7bc30656b37/urllib3-2.0.4-py3-none-any.whl.metadata\n",
      "  Downloading urllib3-2.0.4-py3-none-any.whl.metadata (6.6 kB)\n",
      "Collecting certifi>=2017.4.17 (from requests)\n",
      "  Obtaining dependency information for certifi>=2017.4.17 from https://files.pythonhosted.org/packages/4c/dd/2234eab22353ffc7d94e8d13177aaa050113286e93e7b40eae01fbf7c3d9/certifi-2023.7.22-py3-none-any.whl.metadata\n",
      "  Downloading certifi-2023.7.22-py3-none-any.whl.metadata (2.2 kB)\n",
      "Using cached requests-2.31.0-py3-none-any.whl (62 kB)\n",
      "Using cached certifi-2023.7.22-py3-none-any.whl (158 kB)\n",
      "Using cached charset_normalizer-3.2.0-cp310-cp310-win_amd64.whl (96 kB)\n",
      "Using cached urllib3-2.0.4-py3-none-any.whl (123 kB)\n",
      "Installing collected packages: urllib3, idna, charset-normalizer, certifi, requests\n",
      "Successfully installed certifi-2023.7.22 charset-normalizer-3.2.0 idna-3.4 requests-2.31.0 urllib3-2.0.4\n"
     ]
    }
   ],
   "source": [
    "!pip install requests"
   ]
  },
  {
   "cell_type": "code",
   "execution_count": 6,
   "metadata": {},
   "outputs": [
    {
     "name": "stdout",
     "output_type": "stream",
     "text": [
      "Collecting pandas\n",
      "  Obtaining dependency information for pandas from https://files.pythonhosted.org/packages/c5/89/ce1c7dc497f9a20644f6a7d2dd5bce6378a48321955178197fa3b55d6fe3/pandas-2.1.0-cp310-cp310-win_amd64.whl.metadata\n",
      "  Downloading pandas-2.1.0-cp310-cp310-win_amd64.whl.metadata (18 kB)\n",
      "Collecting numpy>=1.22.4 (from pandas)\n",
      "  Obtaining dependency information for numpy>=1.22.4 from https://files.pythonhosted.org/packages/b7/db/4d37359e2c9cf8bf071c08b8a6f7374648a5ab2e76e2e22e3b808f81d507/numpy-1.25.2-cp310-cp310-win_amd64.whl.metadata\n",
      "  Downloading numpy-1.25.2-cp310-cp310-win_amd64.whl.metadata (5.7 kB)\n",
      "Requirement already satisfied: python-dateutil>=2.8.2 in c:\\temp\\python basic\\python_tutor\\.venv\\lib\\site-packages (from pandas) (2.8.2)\n",
      "Collecting pytz>=2020.1 (from pandas)\n",
      "  Obtaining dependency information for pytz>=2020.1 from https://files.pythonhosted.org/packages/32/4d/aaf7eff5deb402fd9a24a1449a8119f00d74ae9c2efa79f8ef9994261fc2/pytz-2023.3.post1-py2.py3-none-any.whl.metadata\n",
      "  Downloading pytz-2023.3.post1-py2.py3-none-any.whl.metadata (22 kB)\n",
      "Collecting tzdata>=2022.1 (from pandas)\n",
      "  Downloading tzdata-2023.3-py2.py3-none-any.whl (341 kB)\n",
      "     ---------------------------------------- 0.0/341.8 kB ? eta -:--:--\n",
      "     ---- ---------------------------------- 41.0/341.8 kB 1.9 MB/s eta 0:00:01\n",
      "     --------------- ---------------------- 143.4/341.8 kB 1.7 MB/s eta 0:00:01\n",
      "     -------------------------------------  337.9/341.8 kB 2.6 MB/s eta 0:00:01\n",
      "     -------------------------------------- 341.8/341.8 kB 2.4 MB/s eta 0:00:00\n",
      "Requirement already satisfied: six>=1.5 in c:\\temp\\python basic\\python_tutor\\.venv\\lib\\site-packages (from python-dateutil>=2.8.2->pandas) (1.16.0)\n",
      "Downloading pandas-2.1.0-cp310-cp310-win_amd64.whl (11.1 MB)\n",
      "   ---------------------------------------- 0.0/11.1 MB ? eta -:--:--\n",
      "   - -------------------------------------- 0.5/11.1 MB 11.3 MB/s eta 0:00:01\n",
      "   ----- ---------------------------------- 1.4/11.1 MB 15.1 MB/s eta 0:00:01\n",
      "   ---------- ----------------------------- 2.9/11.1 MB 20.5 MB/s eta 0:00:01\n",
      "   ---------- ----------------------------- 3.0/11.1 MB 16.0 MB/s eta 0:00:01\n",
      "   --------------- ------------------------ 4.2/11.1 MB 17.9 MB/s eta 0:00:01\n",
      "   ------------------- -------------------- 5.4/11.1 MB 20.1 MB/s eta 0:00:01\n",
      "   ----------------------- ---------------- 6.6/11.1 MB 21.1 MB/s eta 0:00:01\n",
      "   ----------------------------- ---------- 8.1/11.1 MB 22.4 MB/s eta 0:00:01\n",
      "   --------------------------------- ------ 9.2/11.1 MB 22.5 MB/s eta 0:00:01\n",
      "   ------------------------------------- -- 10.3/11.1 MB 22.5 MB/s eta 0:00:01\n",
      "   ---------------------------------------  11.1/11.1 MB 24.2 MB/s eta 0:00:01\n",
      "   ---------------------------------------  11.1/11.1 MB 24.2 MB/s eta 0:00:01\n",
      "   ---------------------------------------  11.1/11.1 MB 24.2 MB/s eta 0:00:01\n",
      "   ---------------------------------------- 11.1/11.1 MB 18.2 MB/s eta 0:00:00\n",
      "Downloading numpy-1.25.2-cp310-cp310-win_amd64.whl (15.6 MB)\n",
      "   ---------------------------------------- 0.0/15.6 MB ? eta -:--:--\n",
      "    --------------------------------------- 0.2/15.6 MB 4.8 MB/s eta 0:00:04\n",
      "   --- ------------------------------------ 1.4/15.6 MB 15.1 MB/s eta 0:00:01\n",
      "   ------ --------------------------------- 2.7/15.6 MB 21.6 MB/s eta 0:00:01\n",
      "   --------- ------------------------------ 3.8/15.6 MB 22.1 MB/s eta 0:00:01\n",
      "   ------------ --------------------------- 4.8/15.6 MB 21.9 MB/s eta 0:00:01\n",
      "   --------------- ------------------------ 5.9/15.6 MB 22.0 MB/s eta 0:00:01\n",
      "   ----------------- ---------------------- 6.7/15.6 MB 21.5 MB/s eta 0:00:01\n",
      "   ------------------- -------------------- 7.7/15.6 MB 21.3 MB/s eta 0:00:01\n",
      "   --------------------- ------------------ 8.5/15.6 MB 21.0 MB/s eta 0:00:01\n",
      "   ------------------------- -------------- 9.9/15.6 MB 21.9 MB/s eta 0:00:01\n",
      "   --------------------------- ------------ 10.6/15.6 MB 23.4 MB/s eta 0:00:01\n",
      "   ----------------------------- ---------- 11.5/15.6 MB 22.6 MB/s eta 0:00:01\n",
      "   ------------------------------ --------- 11.8/15.6 MB 21.1 MB/s eta 0:00:01\n",
      "   --------------------------------- ------ 13.2/15.6 MB 21.1 MB/s eta 0:00:01\n",
      "   ------------------------------------ --- 14.1/15.6 MB 21.1 MB/s eta 0:00:01\n",
      "   ---------------------------------------  15.2/15.6 MB 21.1 MB/s eta 0:00:01\n",
      "   ---------------------------------------  15.6/15.6 MB 20.5 MB/s eta 0:00:01\n",
      "   ---------------------------------------  15.6/15.6 MB 20.5 MB/s eta 0:00:01\n",
      "   ---------------------------------------  15.6/15.6 MB 20.5 MB/s eta 0:00:01\n",
      "   ---------------------------------------  15.6/15.6 MB 20.5 MB/s eta 0:00:01\n",
      "   ---------------------------------------- 15.6/15.6 MB 15.2 MB/s eta 0:00:00\n",
      "Downloading pytz-2023.3.post1-py2.py3-none-any.whl (502 kB)\n",
      "   ---------------------------------------- 0.0/502.5 kB ? eta -:--:--\n",
      "   ---------------------------------------  501.8/502.5 kB ? eta -:--:--\n",
      "   --------------------------------------- 502.5/502.5 kB 10.5 MB/s eta 0:00:00\n",
      "Installing collected packages: pytz, tzdata, numpy, pandas\n",
      "Successfully installed numpy-1.25.2 pandas-2.1.0 pytz-2023.3.post1 tzdata-2023.3\n"
     ]
    }
   ],
   "source": [
    "!pip install pandas"
   ]
  },
  {
   "cell_type": "code",
   "execution_count": null,
   "metadata": {},
   "outputs": [],
   "source": []
  },
  {
   "cell_type": "code",
   "execution_count": 26,
   "metadata": {},
   "outputs": [],
   "source": [
    "import pandas as pd"
   ]
  },
  {
   "cell_type": "code",
   "execution_count": 27,
   "metadata": {},
   "outputs": [],
   "source": [
    "df = pd.read_html(\"https://goodmeteo.ru/pogoda-ekaterinburg/\", \n",
    "                  encoding='UTF-8',\n",
    "                  header=0,\n",
    "                  index_col=0)[0]"
   ]
  },
  {
   "cell_type": "code",
   "execution_count": 28,
   "metadata": {},
   "outputs": [
    {
     "data": {
      "text/html": [
       "<div>\n",
       "<style scoped>\n",
       "    .dataframe tbody tr th:only-of-type {\n",
       "        vertical-align: middle;\n",
       "    }\n",
       "\n",
       "    .dataframe tbody tr th {\n",
       "        vertical-align: top;\n",
       "    }\n",
       "\n",
       "    .dataframe thead th {\n",
       "        text-align: right;\n",
       "    }\n",
       "</style>\n",
       "<table border=\"1\" class=\"dataframe\">\n",
       "  <thead>\n",
       "    <tr style=\"text-align: right;\">\n",
       "      <th></th>\n",
       "      <th>Температура</th>\n",
       "      <th>Осадки</th>\n",
       "      <th>Ветер</th>\n",
       "      <th>Влажность</th>\n",
       "      <th>Облачность</th>\n",
       "      <th>Давление</th>\n",
       "    </tr>\n",
       "  </thead>\n",
       "  <tbody>\n",
       "    <tr>\n",
       "      <th>00:00</th>\n",
       "      <td>+10,6°</td>\n",
       "      <td>легкий дождь</td>\n",
       "      <td>2,2 м/с, Юго-Восток</td>\n",
       "      <td>93%</td>\n",
       "      <td>59%</td>\n",
       "      <td>756 мм рт. ст.</td>\n",
       "    </tr>\n",
       "    <tr>\n",
       "      <th>01:00</th>\n",
       "      <td>+10,8°</td>\n",
       "      <td>легкий дождь</td>\n",
       "      <td>2,5 м/с, Юго-Восток</td>\n",
       "      <td>93%</td>\n",
       "      <td>69%</td>\n",
       "      <td>756 мм рт. ст.</td>\n",
       "    </tr>\n",
       "    <tr>\n",
       "      <th>02:00</th>\n",
       "      <td>+11,0°</td>\n",
       "      <td>легкий дождь</td>\n",
       "      <td>2,7 м/с, Юго-Восток</td>\n",
       "      <td>93%</td>\n",
       "      <td>79%</td>\n",
       "      <td>756 мм рт. ст.</td>\n",
       "    </tr>\n",
       "    <tr>\n",
       "      <th>03:00</th>\n",
       "      <td>+11,4°</td>\n",
       "      <td>легкий дождь</td>\n",
       "      <td>3,2 м/с, Юго-Восток</td>\n",
       "      <td>93%</td>\n",
       "      <td>100%</td>\n",
       "      <td>756 мм рт. ст.</td>\n",
       "    </tr>\n",
       "    <tr>\n",
       "      <th>04:00</th>\n",
       "      <td>+12,2°</td>\n",
       "      <td>легкий дождь</td>\n",
       "      <td>3,6 м/с, Юго-Восток</td>\n",
       "      <td>90%</td>\n",
       "      <td>75%</td>\n",
       "      <td>756 мм рт. ст.</td>\n",
       "    </tr>\n",
       "    <tr>\n",
       "      <th>05:00</th>\n",
       "      <td>+13,1°</td>\n",
       "      <td>легкий дождь</td>\n",
       "      <td>4,1 м/с, Юго-Восток</td>\n",
       "      <td>87%</td>\n",
       "      <td>50%</td>\n",
       "      <td>756 мм рт. ст.</td>\n",
       "    </tr>\n",
       "    <tr>\n",
       "      <th>06:00</th>\n",
       "      <td>+14,8°</td>\n",
       "      <td>ясно</td>\n",
       "      <td>5,0 м/с, Юго-Восток</td>\n",
       "      <td>82%</td>\n",
       "      <td>0%</td>\n",
       "      <td>756 мм рт. ст.</td>\n",
       "    </tr>\n",
       "    <tr>\n",
       "      <th>07:00</th>\n",
       "      <td>+15,1°</td>\n",
       "      <td>ясно</td>\n",
       "      <td>5,2 м/с, Юго-Восток</td>\n",
       "      <td>80%</td>\n",
       "      <td>8%</td>\n",
       "      <td>756 мм рт. ст.</td>\n",
       "    </tr>\n",
       "    <tr>\n",
       "      <th>08:00</th>\n",
       "      <td>+15,3°</td>\n",
       "      <td>ясно</td>\n",
       "      <td>5,3 м/с, Юго-Восток</td>\n",
       "      <td>78%</td>\n",
       "      <td>16%</td>\n",
       "      <td>756 мм рт. ст.</td>\n",
       "    </tr>\n",
       "    <tr>\n",
       "      <th>09:00</th>\n",
       "      <td>+15,8°</td>\n",
       "      <td>облачно</td>\n",
       "      <td>5,6 м/с, Юго-Восток</td>\n",
       "      <td>74%</td>\n",
       "      <td>33%</td>\n",
       "      <td>756 мм рт. ст.</td>\n",
       "    </tr>\n",
       "    <tr>\n",
       "      <th>10:00</th>\n",
       "      <td>+15,7°</td>\n",
       "      <td>облачно</td>\n",
       "      <td>5,2 м/с, Юго-Восток</td>\n",
       "      <td>73%</td>\n",
       "      <td>41%</td>\n",
       "      <td>757 мм рт. ст.</td>\n",
       "    </tr>\n",
       "    <tr>\n",
       "      <th>11:00</th>\n",
       "      <td>+15,7°</td>\n",
       "      <td>облачно</td>\n",
       "      <td>4,9 м/с, Юго-Восток</td>\n",
       "      <td>72%</td>\n",
       "      <td>50%</td>\n",
       "      <td>757 мм рт. ст.</td>\n",
       "    </tr>\n",
       "    <tr>\n",
       "      <th>12:00</th>\n",
       "      <td>+15,6°</td>\n",
       "      <td>пасмурно</td>\n",
       "      <td>4,3 м/с, Юго-Восток</td>\n",
       "      <td>70%</td>\n",
       "      <td>67%</td>\n",
       "      <td>757 мм рт. ст.</td>\n",
       "    </tr>\n",
       "    <tr>\n",
       "      <th>13:00</th>\n",
       "      <td>+15,1°</td>\n",
       "      <td>пасмурно</td>\n",
       "      <td>3,9 м/с, Юго-Восток</td>\n",
       "      <td>70%</td>\n",
       "      <td>75%</td>\n",
       "      <td>757 мм рт. ст.</td>\n",
       "    </tr>\n",
       "    <tr>\n",
       "      <th>14:00</th>\n",
       "      <td>+14,7°</td>\n",
       "      <td>пасмурно</td>\n",
       "      <td>3,6 м/с, Восток</td>\n",
       "      <td>70%</td>\n",
       "      <td>83%</td>\n",
       "      <td>758 мм рт. ст.</td>\n",
       "    </tr>\n",
       "    <tr>\n",
       "      <th>15:00</th>\n",
       "      <td>+13,8°</td>\n",
       "      <td>сильная облачность</td>\n",
       "      <td>2,8 м/с, Восток</td>\n",
       "      <td>70%</td>\n",
       "      <td>100%</td>\n",
       "      <td>759 мм рт. ст.</td>\n",
       "    </tr>\n",
       "    <tr>\n",
       "      <th>16:00</th>\n",
       "      <td>+13,5°</td>\n",
       "      <td>сильная облачность</td>\n",
       "      <td>2,9 м/с, Восток</td>\n",
       "      <td>70%</td>\n",
       "      <td>100%</td>\n",
       "      <td>759 мм рт. ст.</td>\n",
       "    </tr>\n",
       "    <tr>\n",
       "      <th>17:00</th>\n",
       "      <td>+13,2°</td>\n",
       "      <td>сильная облачность</td>\n",
       "      <td>2,9 м/с, Восток</td>\n",
       "      <td>71%</td>\n",
       "      <td>100%</td>\n",
       "      <td>759 мм рт. ст.</td>\n",
       "    </tr>\n",
       "    <tr>\n",
       "      <th>18:00</th>\n",
       "      <td>+12,6°</td>\n",
       "      <td>сильная облачность</td>\n",
       "      <td>3,1 м/с, Восток</td>\n",
       "      <td>73%</td>\n",
       "      <td>100%</td>\n",
       "      <td>759 мм рт. ст.</td>\n",
       "    </tr>\n",
       "    <tr>\n",
       "      <th>19:00</th>\n",
       "      <td>+12,3°</td>\n",
       "      <td>сильная облачность</td>\n",
       "      <td>3,1 м/с, Восток</td>\n",
       "      <td>73%</td>\n",
       "      <td>99%</td>\n",
       "      <td>759 мм рт. ст.</td>\n",
       "    </tr>\n",
       "    <tr>\n",
       "      <th>20:00</th>\n",
       "      <td>+11,9°</td>\n",
       "      <td>сильная облачность</td>\n",
       "      <td>3,1 м/с, Восток</td>\n",
       "      <td>74%</td>\n",
       "      <td>99%</td>\n",
       "      <td>759 мм рт. ст.</td>\n",
       "    </tr>\n",
       "    <tr>\n",
       "      <th>21:00</th>\n",
       "      <td>+11,1°</td>\n",
       "      <td>сильная облачность</td>\n",
       "      <td>3,1 м/с, Восток</td>\n",
       "      <td>75%</td>\n",
       "      <td>98%</td>\n",
       "      <td>759 мм рт. ст.</td>\n",
       "    </tr>\n",
       "    <tr>\n",
       "      <th>22:00</th>\n",
       "      <td>+10,6°</td>\n",
       "      <td>сильная облачность</td>\n",
       "      <td>3,1 м/с, Восток</td>\n",
       "      <td>77%</td>\n",
       "      <td>96%</td>\n",
       "      <td>759 мм рт. ст.</td>\n",
       "    </tr>\n",
       "    <tr>\n",
       "      <th>23:00</th>\n",
       "      <td>+10,0°</td>\n",
       "      <td>сильная облачность</td>\n",
       "      <td>3,0 м/с, Восток</td>\n",
       "      <td>79%</td>\n",
       "      <td>95%</td>\n",
       "      <td>759 мм рт. ст.</td>\n",
       "    </tr>\n",
       "  </tbody>\n",
       "</table>\n",
       "</div>"
      ],
      "text/plain": [
       "      Температура              Осадки                Ветер Влажность  \\\n",
       "00:00      +10,6°        легкий дождь  2,2 м/с, Юго-Восток       93%   \n",
       "01:00      +10,8°        легкий дождь  2,5 м/с, Юго-Восток       93%   \n",
       "02:00      +11,0°        легкий дождь  2,7 м/с, Юго-Восток       93%   \n",
       "03:00      +11,4°        легкий дождь  3,2 м/с, Юго-Восток       93%   \n",
       "04:00      +12,2°        легкий дождь  3,6 м/с, Юго-Восток       90%   \n",
       "05:00      +13,1°        легкий дождь  4,1 м/с, Юго-Восток       87%   \n",
       "06:00      +14,8°                ясно  5,0 м/с, Юго-Восток       82%   \n",
       "07:00      +15,1°                ясно  5,2 м/с, Юго-Восток       80%   \n",
       "08:00      +15,3°                ясно  5,3 м/с, Юго-Восток       78%   \n",
       "09:00      +15,8°             облачно  5,6 м/с, Юго-Восток       74%   \n",
       "10:00      +15,7°             облачно  5,2 м/с, Юго-Восток       73%   \n",
       "11:00      +15,7°             облачно  4,9 м/с, Юго-Восток       72%   \n",
       "12:00      +15,6°            пасмурно  4,3 м/с, Юго-Восток       70%   \n",
       "13:00      +15,1°            пасмурно  3,9 м/с, Юго-Восток       70%   \n",
       "14:00      +14,7°            пасмурно      3,6 м/с, Восток       70%   \n",
       "15:00      +13,8°  сильная облачность      2,8 м/с, Восток       70%   \n",
       "16:00      +13,5°  сильная облачность      2,9 м/с, Восток       70%   \n",
       "17:00      +13,2°  сильная облачность      2,9 м/с, Восток       71%   \n",
       "18:00      +12,6°  сильная облачность      3,1 м/с, Восток       73%   \n",
       "19:00      +12,3°  сильная облачность      3,1 м/с, Восток       73%   \n",
       "20:00      +11,9°  сильная облачность      3,1 м/с, Восток       74%   \n",
       "21:00      +11,1°  сильная облачность      3,1 м/с, Восток       75%   \n",
       "22:00      +10,6°  сильная облачность      3,1 м/с, Восток       77%   \n",
       "23:00      +10,0°  сильная облачность      3,0 м/с, Восток       79%   \n",
       "\n",
       "      Облачность        Давление  \n",
       "00:00        59%  756 мм рт. ст.  \n",
       "01:00        69%  756 мм рт. ст.  \n",
       "02:00        79%  756 мм рт. ст.  \n",
       "03:00       100%  756 мм рт. ст.  \n",
       "04:00        75%  756 мм рт. ст.  \n",
       "05:00        50%  756 мм рт. ст.  \n",
       "06:00         0%  756 мм рт. ст.  \n",
       "07:00         8%  756 мм рт. ст.  \n",
       "08:00        16%  756 мм рт. ст.  \n",
       "09:00        33%  756 мм рт. ст.  \n",
       "10:00        41%  757 мм рт. ст.  \n",
       "11:00        50%  757 мм рт. ст.  \n",
       "12:00        67%  757 мм рт. ст.  \n",
       "13:00        75%  757 мм рт. ст.  \n",
       "14:00        83%  758 мм рт. ст.  \n",
       "15:00       100%  759 мм рт. ст.  \n",
       "16:00       100%  759 мм рт. ст.  \n",
       "17:00       100%  759 мм рт. ст.  \n",
       "18:00       100%  759 мм рт. ст.  \n",
       "19:00        99%  759 мм рт. ст.  \n",
       "20:00        99%  759 мм рт. ст.  \n",
       "21:00        98%  759 мм рт. ст.  \n",
       "22:00        96%  759 мм рт. ст.  \n",
       "23:00        95%  759 мм рт. ст.  "
      ]
     },
     "execution_count": 28,
     "metadata": {},
     "output_type": "execute_result"
    }
   ],
   "source": [
    "df"
   ]
  },
  {
   "cell_type": "code",
   "execution_count": 31,
   "metadata": {},
   "outputs": [
    {
     "data": {
      "text/plain": [
       "<Axes: >"
      ]
     },
     "execution_count": 31,
     "metadata": {},
     "output_type": "execute_result"
    },
    {
     "data": {
      "image/png": "[encoded data removed]",
      "text/plain": [
       "<Figure size 640x480 with 1 Axes>"
      ]
     },
     "metadata": {},
     "output_type": "display_data"
    }
   ],
   "source": [
    "df['temp'] = df['Температура'].apply(lambda x: float(x[1:-1].replace(',', '.')))\n",
    "df['temp'].plot()"
   ]
  },
  {
   "cell_type": "code",
   "execution_count": 25,
   "metadata": {},
   "outputs": [
    {
     "name": "stdout",
     "output_type": "stream",
     "text": [
      "Collecting matplotlib\n",
      "  Obtaining dependency information for matplotlib from https://files.pythonhosted.org/packages/ff/1f/2b83c7acf453318a80dc619e99fc30a663b2c1fb18be3d358a96addfecd9/matplotlib-3.7.2-cp310-cp310-win_amd64.whl.metadata\n",
      "  Downloading matplotlib-3.7.2-cp310-cp310-win_amd64.whl.metadata (5.8 kB)\n",
      "Collecting contourpy>=1.0.1 (from matplotlib)\n",
      "  Obtaining dependency information for contourpy>=1.0.1 from https://files.pythonhosted.org/packages/94/0a/5eb57dd395fade977786b2d2c98c2bee8234358794be44422fe58a719d42/contourpy-1.1.0-cp310-cp310-win_amd64.whl.metadata\n",
      "  Downloading contourpy-1.1.0-cp310-cp310-win_amd64.whl.metadata (5.7 kB)\n",
      "Collecting cycler>=0.10 (from matplotlib)\n",
      "  Using cached cycler-0.11.0-py3-none-any.whl (6.4 kB)\n",
      "Collecting fonttools>=4.22.0 (from matplotlib)\n",
      "  Obtaining dependency information for fonttools>=4.22.0 from https://files.pythonhosted.org/packages/1c/c6/408ee90eae2fd7ef85c5baaedfc8d533805f4c54fc6670dbde9539f1277b/fonttools-4.42.1-cp310-cp310-win_amd64.whl.metadata\n",
      "  Downloading fonttools-4.42.1-cp310-cp310-win_amd64.whl.metadata (154 kB)\n",
      "     ---------------------------------------- 0.0/154.1 kB ? eta -:--:--\n",
      "     ------- ----------------------------- 30.7/154.1 kB 660.6 kB/s eta 0:00:01\n",
      "     ----------------- ------------------- 71.7/154.1 kB 653.6 kB/s eta 0:00:01\n",
      "     -------------------------- --------- 112.6/154.1 kB 726.2 kB/s eta 0:00:01\n",
      "     ------------------------------------ 154.1/154.1 kB 836.2 kB/s eta 0:00:00\n",
      "Collecting kiwisolver>=1.0.1 (from matplotlib)\n",
      "  Obtaining dependency information for kiwisolver>=1.0.1 from https://files.pythonhosted.org/packages/4a/a1/8a9c9be45c642fa12954855d8b3a02d9fd8551165a558835a19508fec2e6/kiwisolver-1.4.5-cp310-cp310-win_amd64.whl.metadata\n",
      "  Downloading kiwisolver-1.4.5-cp310-cp310-win_amd64.whl.metadata (6.5 kB)\n",
      "Requirement already satisfied: numpy>=1.20 in c:\\temp\\python basic\\python_tutor\\.venv\\lib\\site-packages (from matplotlib) (1.25.2)\n",
      "Requirement already satisfied: packaging>=20.0 in c:\\temp\\python basic\\python_tutor\\.venv\\lib\\site-packages (from matplotlib) (23.1)\n",
      "Collecting pillow>=6.2.0 (from matplotlib)\n",
      "  Obtaining dependency information for pillow>=6.2.0 from https://files.pythonhosted.org/packages/d0/4f/faebe1180e5e6ad6330c539dda7f6081182157393ba6816a438f759a0e59/Pillow-10.0.0-cp310-cp310-win_amd64.whl.metadata\n",
      "  Downloading Pillow-10.0.0-cp310-cp310-win_amd64.whl.metadata (9.6 kB)\n",
      "Collecting pyparsing<3.1,>=2.3.1 (from matplotlib)\n",
      "  Using cached pyparsing-3.0.9-py3-none-any.whl (98 kB)\n",
      "Requirement already satisfied: python-dateutil>=2.7 in c:\\temp\\python basic\\python_tutor\\.venv\\lib\\site-packages (from matplotlib) (2.8.2)\n",
      "Requirement already satisfied: six>=1.5 in c:\\temp\\python basic\\python_tutor\\.venv\\lib\\site-packages (from python-dateutil>=2.7->matplotlib) (1.16.0)\n",
      "Downloading matplotlib-3.7.2-cp310-cp310-win_amd64.whl (7.5 MB)\n",
      "   ---------------------------------------- 0.0/7.5 MB ? eta -:--:--\n",
      "    --------------------------------------- 0.2/7.5 MB 10.9 MB/s eta 0:00:01\n",
      "   -- ------------------------------------- 0.4/7.5 MB 5.1 MB/s eta 0:00:02\n",
      "   --- ------------------------------------ 0.6/7.5 MB 4.9 MB/s eta 0:00:02\n",
      "   ------ --------------------------------- 1.3/7.5 MB 8.1 MB/s eta 0:00:01\n",
      "   ------------ --------------------------- 2.3/7.5 MB 10.2 MB/s eta 0:00:01\n",
      "   ----------------- ---------------------- 3.4/7.5 MB 13.4 MB/s eta 0:00:01\n",
      "   ----------------------------- ---------- 5.6/7.5 MB 18.8 MB/s eta 0:00:01\n",
      "   ------------------------------------- -- 7.1/7.5 MB 20.6 MB/s eta 0:00:01\n",
      "   ---------------------------------------  7.5/7.5 MB 20.9 MB/s eta 0:00:01\n",
      "   ---------------------------------------  7.5/7.5 MB 20.9 MB/s eta 0:00:01\n",
      "   ---------------------------------------- 7.5/7.5 MB 16.0 MB/s eta 0:00:00\n",
      "Downloading contourpy-1.1.0-cp310-cp310-win_amd64.whl (470 kB)\n",
      "   ---------------------------------------- 0.0/470.4 kB ? eta -:--:--\n",
      "   ---------- ----------------------------- 122.9/470.4 kB ? eta -:--:--\n",
      "   ---------------------------- ----------- 337.9/470.4 kB 4.2 MB/s eta 0:00:01\n",
      "   ---------------------------- ----------- 337.9/470.4 kB 4.2 MB/s eta 0:00:01\n",
      "   ---------------------------------------- 470.4/470.4 kB 2.7 MB/s eta 0:00:00\n",
      "Downloading fonttools-4.42.1-cp310-cp310-win_amd64.whl (2.1 MB)\n",
      "   ---------------------------------------- 0.0/2.1 MB ? eta -:--:--\n",
      "   ------------------- -------------------- 1.0/2.1 MB 21.8 MB/s eta 0:00:01\n",
      "   ---------------------------------------  2.1/2.1 MB 26.9 MB/s eta 0:00:01\n",
      "   ---------------------------------------  2.1/2.1 MB 26.9 MB/s eta 0:00:01\n",
      "   ---------------------------------------- 2.1/2.1 MB 13.5 MB/s eta 0:00:00\n",
      "Downloading kiwisolver-1.4.5-cp310-cp310-win_amd64.whl (56 kB)\n",
      "   ---------------------------------------- 0.0/56.1 kB ? eta -:--:--\n",
      "   ------------------------------------ --- 51.2/56.1 kB ? eta -:--:--\n",
      "   ---------------------------------------- 56.1/56.1 kB 727.9 kB/s eta 0:00:00\n",
      "Downloading Pillow-10.0.0-cp310-cp310-win_amd64.whl (2.5 MB)\n",
      "   ---------------------------------------- 0.0/2.5 MB ? eta -:--:--\n",
      "   ------------- -------------------------- 0.8/2.5 MB 27.1 MB/s eta 0:00:01\n",
      "   ------------------------ --------------- 1.5/2.5 MB 19.7 MB/s eta 0:00:01\n",
      "   ---------------------------------------  2.5/2.5 MB 19.6 MB/s eta 0:00:01\n",
      "   ---------------------------------------  2.5/2.5 MB 17.8 MB/s eta 0:00:01\n",
      "   ---------------------------------------- 2.5/2.5 MB 12.3 MB/s eta 0:00:00\n",
      "Installing collected packages: pyparsing, pillow, kiwisolver, fonttools, cycler, contourpy, matplotlib\n",
      "Successfully installed contourpy-1.1.0 cycler-0.11.0 fonttools-4.42.1 kiwisolver-1.4.5 matplotlib-3.7.2 pillow-10.0.0 pyparsing-3.0.9\n"
     ]
    }
   ],
   "source": [
    "!pip install matplotlib"
   ]
  },
  {
   "cell_type": "code",
   "execution_count": null,
   "metadata": {},
   "outputs": [],
   "source": []
  }
 ],
 "metadata": {
  "kernelspec": {
   "display_name": ".venv",
   "language": "python",
   "name": "python3"
  },
  "language_info": {
   "codemirror_mode": {
    "name": "ipython",
    "version": 3
   },
   "file_extension": ".py",
   "mimetype": "text/x-python",
   "name": "python",
   "nbconvert_exporter": "python",
   "pygments_lexer": "ipython3",
   "version": "3.10.10"
  },
  "orig_nbformat": 4
 },
 "nbformat": 4,
 "nbformat_minor": 2
}
