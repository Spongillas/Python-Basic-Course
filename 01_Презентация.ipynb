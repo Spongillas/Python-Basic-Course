{
 "cells": [
  {
   "cell_type": "markdown",
   "metadata": {},
   "source": [
    "# 01.  Python (базовый). Типы данных\n",
    "\n",
    "Ноутбук к презентации \"01_Введение, типы данных.pptx\" курса Python (basic)"
   ]
  },
  {
   "cell_type": "markdown",
   "metadata": {},
   "source": [
    "## 01.01. Введение"
   ]
  },
  {
   "cell_type": "markdown",
   "metadata": {},
   "source": [
    "Пример кода функции:"
   ]
  },
  {
   "cell_type": "code",
   "execution_count": 1,
   "metadata": {},
   "outputs": [],
   "source": [
    "import random\n",
    "\n",
    "class Person:\n",
    "\n",
    "    def __init__(\n",
    "            self, \n",
    "            name,\n",
    "            gender, \n",
    "            age, \n",
    "            favorite_things, \n",
    "            happyness_level=50\n",
    "            ):\n",
    "        \n",
    "        self.name = name\n",
    "        self.gender = gender\n",
    "        self.age = age\n",
    "        self.favorite_things = favorite_things\n",
    "        self.happyness_level = happyness_level\n",
    "\n",
    "    def make_happier(self):\n",
    "        if self.favorite_things:\n",
    "            thing = random.choice(self.favorite_things)\n",
    "            self.buy_thing(thing)\n",
    "\n",
    "            self.happyness_level = self.happyness_level + 10\n",
    "\n",
    "            if self.gender == 'М':\n",
    "                verb = \"стал\"\n",
    "            else:\n",
    "                verb = \"стала\"\n",
    "\n",
    "            print(f\"{self.name} {verb} счастливее, уровень счастья: {self.happyness_level}\")\n",
    "\n",
    "    def buy_thing(self, thing):\n",
    "        if self.gender == 'М':\n",
    "            verb = \"купил\"\n",
    "        else:\n",
    "            verb = \"купила\"\n",
    "\n",
    "        print(f\"{self.name} {verb} {thing}\")"
   ]
  },
  {
   "cell_type": "code",
   "execution_count": 2,
   "metadata": {},
   "outputs": [
    {
     "name": "stdout",
     "output_type": "stream",
     "text": [
      "Алена купила шоколад\n",
      "Алена стала счастливее, уровень счастья: 60\n"
     ]
    }
   ],
   "source": [
    "person1 = Person('Алена', 'Ж', '30', [\"духи\", \"цветы\", \"шоколад\"])\n",
    "person1.make_happier()"
   ]
  },
  {
   "cell_type": "markdown",
   "metadata": {},
   "source": [
    "## 01.02. Библиотеки (модули, пакеты)"
   ]
  },
  {
   "cell_type": "code",
   "execution_count": 3,
   "metadata": {},
   "outputs": [
    {
     "name": "stdout",
     "output_type": "stream",
     "text": [
      "Текущее время:  2023-09-07 21:06:10.760909\n",
      "Год:  2023\n",
      "Месяц:  9\n",
      "День:  7\n",
      "10 дней назад:  2023-08-28 21:06:10.762862\n"
     ]
    }
   ],
   "source": [
    "import datetime\n",
    "\n",
    "print('Текущее время: ', datetime.datetime.now())\n",
    "print('Год: ', datetime.datetime.now().year)\n",
    "print('Месяц: ', datetime.datetime.now().month)\n",
    "print('День: ', datetime.datetime.now().day)\n",
    "print('10 дней назад: ', datetime.datetime.now() - datetime.timedelta(days=10))"
   ]
  },
  {
   "cell_type": "code",
   "execution_count": 4,
   "metadata": {},
   "outputs": [
    {
     "name": "stdout",
     "output_type": "stream",
     "text": [
      "randint:  7\n",
      "choice:  32\n",
      "random:  0.5438225348073612\n",
      "uniform:  162.58133564034563\n"
     ]
    }
   ],
   "source": [
    "import random\n",
    "\n",
    "print('randint: ', random.randint(1, 10))\n",
    "print('choice: ', random.choice([10, 21, 32, 41, 5, 6, 7]))\n",
    "print('random: ', random.random())\n",
    "print('uniform: ', random.uniform(100,200))"
   ]
  },
  {
   "cell_type": "code",
   "execution_count": 5,
   "metadata": {},
   "outputs": [
    {
     "name": "stdout",
     "output_type": "stream",
     "text": [
      "cos:  0.8775825618903728\n",
      "exp:  7.38905609893065\n",
      "sqrt:  11.0\n",
      "e:  2.718281828459045\n"
     ]
    }
   ],
   "source": [
    "import math\n",
    "\n",
    "print('cos: ', math.cos(0.5))\n",
    "print('exp: ', math.exp(2))\n",
    "print('sqrt: ', math.sqrt(121))\n",
    "print('e: ', math.e)"
   ]
  },
  {
   "cell_type": "code",
   "execution_count": 6,
   "metadata": {},
   "outputs": [
    {
     "data": {
      "text/html": [
       "<div>\n",
       "<style scoped>\n",
       "    .dataframe tbody tr th:only-of-type {\n",
       "        vertical-align: middle;\n",
       "    }\n",
       "\n",
       "    .dataframe tbody tr th {\n",
       "        vertical-align: top;\n",
       "    }\n",
       "\n",
       "    .dataframe thead th {\n",
       "        text-align: right;\n",
       "    }\n",
       "</style>\n",
       "<table border=\"1\" class=\"dataframe\">\n",
       "  <thead>\n",
       "    <tr style=\"text-align: right;\">\n",
       "      <th></th>\n",
       "      <th>Ограничение</th>\n",
       "      <th>Локация</th>\n",
       "    </tr>\n",
       "  </thead>\n",
       "  <tbody>\n",
       "    <tr>\n",
       "      <th>0</th>\n",
       "      <td>60</td>\n",
       "      <td>Город</td>\n",
       "    </tr>\n",
       "    <tr>\n",
       "      <th>1</th>\n",
       "      <td>90</td>\n",
       "      <td>Трасса</td>\n",
       "    </tr>\n",
       "    <tr>\n",
       "      <th>2</th>\n",
       "      <td>40</td>\n",
       "      <td>Ямы</td>\n",
       "    </tr>\n",
       "    <tr>\n",
       "      <th>3</th>\n",
       "      <td>20</td>\n",
       "      <td>Лежачий полицейский</td>\n",
       "    </tr>\n",
       "  </tbody>\n",
       "</table>\n",
       "</div>"
      ],
      "text/plain": [
       "   Ограничение              Локация\n",
       "0           60                Город\n",
       "1           90               Трасса\n",
       "2           40                  Ямы\n",
       "3           20  Лежачий полицейский"
      ]
     },
     "execution_count": 6,
     "metadata": {},
     "output_type": "execute_result"
    }
   ],
   "source": [
    "import pandas\n",
    "\n",
    "data = {\n",
    "  \"Ограничение\": [60, 90, 40, 20],\n",
    "  \"Локация\": ['Город', 'Трасса', 'Ямы', 'Лежачий полицейский']\n",
    "}\n",
    "\n",
    "df = pandas.DataFrame(data)\n",
    "df"
   ]
  },
  {
   "cell_type": "markdown",
   "metadata": {
    "tags": []
   },
   "source": [
    "## 01.03. Структуры и типы данных"
   ]
  },
  {
   "cell_type": "markdown",
   "metadata": {},
   "source": [
    "### 01.03.01. Динамическая типизация"
   ]
  },
  {
   "cell_type": "markdown",
   "metadata": {},
   "source": [
    "- Можно менять типы данных в процессе выполнения программы\n",
    "- Все в Python - объекты, имена переменных содержат ссылки на эти объекты\n",
    "- Для получения типа данных объекта необходимо выполнить команду type(<объект>)\n",
    "- при отсутствии ссылок на объект (переменных, ссылающихся на объект), объект будет удален из памяти"
   ]
  },
  {
   "cell_type": "code",
   "execution_count": 9,
   "metadata": {},
   "outputs": [
    {
     "name": "stdout",
     "output_type": "stream",
     "text": [
      "13 <class 'int'> 0x20eba506ab0\n",
      "24 <class 'int'> 0x20eba506c10\n",
      "some_string <class 'str'> 0x20ec22a51b0\n"
     ]
    }
   ],
   "source": [
    "var1 = 13\n",
    "print(var1, type(var1), hex(id(var1)))\n",
    "\n",
    "var1 = 24\n",
    "print(var1, type(var1), hex(id(var1)))\n",
    "\n",
    "var1 = 'some_string'\n",
    "print(var1, type(var1), hex(id(var1)))\n"
   ]
  },
  {
   "cell_type": "code",
   "execution_count": 10,
   "metadata": {},
   "outputs": [
    {
     "name": "stdout",
     "output_type": "stream",
     "text": [
      "0x20eba506ab0\n",
      "0x20eba506c10\n",
      "0x20ec22a51b0\n"
     ]
    }
   ],
   "source": [
    "print(hex(id(13)))\n",
    "print(hex(id(24)))\n",
    "print(hex(id('some_string')))"
   ]
  },
  {
   "cell_type": "markdown",
   "metadata": {},
   "source": [
    "### 01.03.02. Преобразования типов"
   ]
  },
  {
   "cell_type": "code",
   "execution_count": 11,
   "metadata": {},
   "outputs": [
    {
     "data": {
      "text/plain": [
       "(5.1, float)"
      ]
     },
     "execution_count": 11,
     "metadata": {},
     "output_type": "execute_result"
    }
   ],
   "source": [
    "a = 2\n",
    "b = 3.1\n",
    "c = a + b\n",
    "\n",
    "c, type(c)"
   ]
  },
  {
   "cell_type": "code",
   "execution_count": 12,
   "metadata": {},
   "outputs": [
    {
     "ename": "TypeError",
     "evalue": "unsupported operand type(s) for +: 'int' and 'str'",
     "output_type": "error",
     "traceback": [
      "\u001b[1;31m---------------------------------------------------------------------------\u001b[0m",
      "\u001b[1;31mTypeError\u001b[0m                                 Traceback (most recent call last)",
      "\u001b[1;32mC:\\Users\\ASKORO~1\\AppData\\Local\\Temp/ipykernel_62848/1450308203.py\u001b[0m in \u001b[0;36m<module>\u001b[1;34m\u001b[0m\n\u001b[0;32m      1\u001b[0m \u001b[0mb\u001b[0m \u001b[1;33m=\u001b[0m \u001b[1;34m'3.1'\u001b[0m\u001b[1;33m\u001b[0m\u001b[1;33m\u001b[0m\u001b[0m\n\u001b[1;32m----> 2\u001b[1;33m \u001b[0mc\u001b[0m \u001b[1;33m=\u001b[0m \u001b[0ma\u001b[0m \u001b[1;33m+\u001b[0m \u001b[0mb\u001b[0m\u001b[1;33m\u001b[0m\u001b[1;33m\u001b[0m\u001b[0m\n\u001b[0m",
      "\u001b[1;31mTypeError\u001b[0m: unsupported operand type(s) for +: 'int' and 'str'"
     ]
    }
   ],
   "source": [
    "b = '3.1'\n",
    "c = a + b"
   ]
  },
  {
   "cell_type": "code",
   "execution_count": 15,
   "metadata": {},
   "outputs": [
    {
     "data": {
      "text/plain": [
       "(3.1, 5.1)"
      ]
     },
     "execution_count": 15,
     "metadata": {},
     "output_type": "execute_result"
    }
   ],
   "source": [
    "b = float(b)\n",
    "c = a + b\n",
    "\n",
    "b, c"
   ]
  },
  {
   "cell_type": "code",
   "execution_count": 18,
   "metadata": {},
   "outputs": [
    {
     "data": {
      "text/plain": [
       "3"
      ]
     },
     "execution_count": 18,
     "metadata": {},
     "output_type": "execute_result"
    }
   ],
   "source": [
    "a = int(b)\n",
    "\n",
    "a"
   ]
  },
  {
   "cell_type": "code",
   "execution_count": 21,
   "metadata": {},
   "outputs": [
    {
     "ename": "ValueError",
     "evalue": "invalid literal for int() with base 10: '3.1x'",
     "output_type": "error",
     "traceback": [
      "\u001b[1;31m---------------------------------------------------------------------------\u001b[0m",
      "\u001b[1;31mValueError\u001b[0m                                Traceback (most recent call last)",
      "\u001b[1;32mC:\\Users\\ASKORO~1\\AppData\\Local\\Temp/ipykernel_62848/3769115242.py\u001b[0m in \u001b[0;36m<module>\u001b[1;34m\u001b[0m\n\u001b[1;32m----> 1\u001b[1;33m \u001b[0mb\u001b[0m \u001b[1;33m=\u001b[0m \u001b[0mint\u001b[0m\u001b[1;33m(\u001b[0m\u001b[1;34m\"3.1x\"\u001b[0m\u001b[1;33m)\u001b[0m\u001b[1;33m\u001b[0m\u001b[1;33m\u001b[0m\u001b[0m\n\u001b[0m",
      "\u001b[1;31mValueError\u001b[0m: invalid literal for int() with base 10: '3.1x'"
     ]
    }
   ],
   "source": [
    "b = int(\"3.1x\")"
   ]
  },
  {
   "cell_type": "code",
   "execution_count": 22,
   "metadata": {},
   "outputs": [
    {
     "data": {
      "text/plain": [
       "(1, 0, 1.0, 0.0)"
      ]
     },
     "execution_count": 22,
     "metadata": {},
     "output_type": "execute_result"
    }
   ],
   "source": [
    "int(True), int(False), float(True), float(False)"
   ]
  },
  {
   "cell_type": "code",
   "execution_count": 23,
   "metadata": {},
   "outputs": [
    {
     "ename": "TypeError",
     "evalue": "can only concatenate str (not \"int\") to str",
     "output_type": "error",
     "traceback": [
      "\u001b[1;31m---------------------------------------------------------------------------\u001b[0m",
      "\u001b[1;31mTypeError\u001b[0m                                 Traceback (most recent call last)",
      "\u001b[1;32mC:\\Users\\ASKORO~1\\AppData\\Local\\Temp/ipykernel_62848/3717153303.py\u001b[0m in \u001b[0;36m<module>\u001b[1;34m\u001b[0m\n\u001b[1;32m----> 1\u001b[1;33m \u001b[1;34m\"a\"\u001b[0m \u001b[1;33m+\u001b[0m \u001b[1;36m2\u001b[0m\u001b[1;33m\u001b[0m\u001b[1;33m\u001b[0m\u001b[0m\n\u001b[0m",
      "\u001b[1;31mTypeError\u001b[0m: can only concatenate str (not \"int\") to str"
     ]
    }
   ],
   "source": [
    "\"a\" + 2"
   ]
  },
  {
   "cell_type": "code",
   "execution_count": 24,
   "metadata": {},
   "outputs": [
    {
     "data": {
      "text/plain": [
       "'a2'"
      ]
     },
     "execution_count": 24,
     "metadata": {},
     "output_type": "execute_result"
    }
   ],
   "source": [
    "\"a\" + str(2)"
   ]
  },
  {
   "cell_type": "markdown",
   "metadata": {},
   "source": [
    "### 01.03.03. Изменяемые и неизменяемые объекты"
   ]
  },
  {
   "cell_type": "markdown",
   "metadata": {},
   "source": [
    "Незменяемые"
   ]
  },
  {
   "cell_type": "code",
   "execution_count": 45,
   "metadata": {},
   "outputs": [
    {
     "name": "stdout",
     "output_type": "stream",
     "text": [
      "1 0x20eba506930 1 0x20eba506930\n",
      "2 0x20eba506950 1 0x20eba506930\n",
      "0x20eba506950 0x20eba506930\n"
     ]
    }
   ],
   "source": [
    "x = 1\n",
    "y = x\n",
    "\n",
    "print(x, hex(id(x)), y, hex(id(y)))\n",
    "\n",
    "x = x + 1\n",
    "\n",
    "print(x, hex(id(x)), y, hex(id(y)))\n",
    "\n",
    "print(hex(id(2)), hex(id(1)))\n"
   ]
  },
  {
   "cell_type": "markdown",
   "metadata": {},
   "source": [
    "Изменяемые (List, dict)"
   ]
  },
  {
   "cell_type": "code",
   "execution_count": 47,
   "metadata": {},
   "outputs": [
    {
     "name": "stdout",
     "output_type": "stream",
     "text": [
      "[1, 2, 3] 0x20ec22ad980 [1, 2, 3] 0x20ec22ad980 [1, 2, 3] 0x20ec22945c0\n",
      "[1, 2, 3, 4] 0x20ec22ad980 [1, 2, 3, 4] 0x20ec22ad980 [1, 2, 3] 0x20ec22945c0\n"
     ]
    }
   ],
   "source": [
    "x = list([1, 2, 3])\n",
    "y = x\n",
    "z = x.copy()\n",
    "\n",
    "print(x, hex(id(x)), y, hex(id(y)), z, hex(id(z)))\n",
    "\n",
    "x.append(4)\n",
    "\n",
    "print(x, hex(id(x)), y, hex(id(y)), z, hex(id(z)))\n"
   ]
  },
  {
   "cell_type": "markdown",
   "metadata": {},
   "source": [
    "### 01.03.04 Списки (list)"
   ]
  },
  {
   "cell_type": "code",
   "execution_count": 48,
   "metadata": {},
   "outputs": [
    {
     "data": {
      "text/plain": [
       "[1, 2, 3]"
      ]
     },
     "execution_count": 48,
     "metadata": {},
     "output_type": "execute_result"
    }
   ],
   "source": [
    "lst = [1, 2, 3]\n",
    "\n",
    "lst"
   ]
  },
  {
   "cell_type": "code",
   "execution_count": 50,
   "metadata": {},
   "outputs": [
    {
     "data": {
      "text/plain": [
       "[1, 2, 3]"
      ]
     },
     "execution_count": 50,
     "metadata": {},
     "output_type": "execute_result"
    }
   ],
   "source": [
    "lst = list((1, 2, 3))\n",
    "\n",
    "lst"
   ]
  },
  {
   "cell_type": "code",
   "execution_count": 53,
   "metadata": {},
   "outputs": [
    {
     "data": {
      "text/plain": [
       "[1, 2, 'one', ['three', 'four', 'five'], 'two']"
      ]
     },
     "execution_count": 53,
     "metadata": {},
     "output_type": "execute_result"
    }
   ],
   "source": [
    "lst = [1, 2, 'one', ['three', 'four', 'five'], 'two']\n",
    "lst"
   ]
  },
  {
   "cell_type": "code",
   "execution_count": 61,
   "metadata": {},
   "outputs": [
    {
     "data": {
      "text/plain": [
       "1"
      ]
     },
     "execution_count": 61,
     "metadata": {},
     "output_type": "execute_result"
    }
   ],
   "source": [
    "lst[0]"
   ]
  },
  {
   "cell_type": "code",
   "execution_count": 62,
   "metadata": {},
   "outputs": [
    {
     "data": {
      "text/plain": [
       "'two'"
      ]
     },
     "execution_count": 62,
     "metadata": {},
     "output_type": "execute_result"
    }
   ],
   "source": [
    "lst[-1]"
   ]
  },
  {
   "cell_type": "code",
   "execution_count": 63,
   "metadata": {},
   "outputs": [
    {
     "data": {
      "text/plain": [
       "['three', 'four', 'five']"
      ]
     },
     "execution_count": 63,
     "metadata": {},
     "output_type": "execute_result"
    }
   ],
   "source": [
    "lst[3]"
   ]
  },
  {
   "cell_type": "code",
   "execution_count": 64,
   "metadata": {},
   "outputs": [
    {
     "data": {
      "text/plain": [
       "'one'"
      ]
     },
     "execution_count": 64,
     "metadata": {},
     "output_type": "execute_result"
    }
   ],
   "source": [
    "lst[-3]"
   ]
  },
  {
   "cell_type": "code",
   "execution_count": 66,
   "metadata": {},
   "outputs": [
    {
     "data": {
      "text/plain": [
       "[1, 2]"
      ]
     },
     "execution_count": 66,
     "metadata": {},
     "output_type": "execute_result"
    }
   ],
   "source": [
    "lst[:2] # =lst[0:2]"
   ]
  },
  {
   "cell_type": "code",
   "execution_count": 68,
   "metadata": {},
   "outputs": [
    {
     "data": {
      "text/plain": [
       "[['three', 'four', 'five'], 'two']"
      ]
     },
     "execution_count": 68,
     "metadata": {},
     "output_type": "execute_result"
    }
   ],
   "source": [
    "lst[-2:] # =lst[-2:len(lst)]"
   ]
  },
  {
   "cell_type": "code",
   "execution_count": 69,
   "metadata": {},
   "outputs": [
    {
     "data": {
      "text/plain": [
       "[1, 'one', 'two']"
      ]
     },
     "execution_count": 69,
     "metadata": {},
     "output_type": "execute_result"
    }
   ],
   "source": [
    "lst[::2]"
   ]
  },
  {
   "cell_type": "code",
   "execution_count": 65,
   "metadata": {},
   "outputs": [
    {
     "data": {
      "text/plain": [
       "['one', ['three', 'four', 'five']]"
      ]
     },
     "execution_count": 65,
     "metadata": {},
     "output_type": "execute_result"
    }
   ],
   "source": [
    "lst[2:4]"
   ]
  },
  {
   "cell_type": "code",
   "execution_count": 70,
   "metadata": {},
   "outputs": [
    {
     "data": {
      "text/plain": [
       "['two', ['three', 'four', 'five'], 'one', 2, 1]"
      ]
     },
     "execution_count": 70,
     "metadata": {},
     "output_type": "execute_result"
    }
   ],
   "source": [
    "lst[::-1]"
   ]
  },
  {
   "cell_type": "code",
   "execution_count": 71,
   "metadata": {},
   "outputs": [
    {
     "data": {
      "text/plain": [
       "'атапол'"
      ]
     },
     "execution_count": 71,
     "metadata": {},
     "output_type": "execute_result"
    }
   ],
   "source": [
    "'лопата'[::-1]"
   ]
  },
  {
   "cell_type": "code",
   "execution_count": 83,
   "metadata": {},
   "outputs": [
    {
     "data": {
      "text/plain": [
       "('0x20ec23c2a00', '0x20ec23c2a00', '0x20ec2391bc0', '0x20ec23b8840')"
      ]
     },
     "execution_count": 83,
     "metadata": {},
     "output_type": "execute_result"
    }
   ],
   "source": [
    "lst1 = [1, 1, 1]\n",
    "lst2 = lst1\n",
    "lst3 = lst1.copy()\n",
    "lst4 = lst1[:] # = копировать\n",
    "\n",
    "hex(id(lst1)), hex(id(lst2)), hex(id(lst3)), hex(id(lst4))"
   ]
  },
  {
   "cell_type": "code",
   "execution_count": 84,
   "metadata": {},
   "outputs": [
    {
     "name": "stdout",
     "output_type": "stream",
     "text": [
      "[1, 1, 1]\n",
      "[1, 1, 1, '99']\n"
     ]
    }
   ],
   "source": [
    "print(lst1)\n",
    "\n",
    "lst1.append('99')\n",
    "\n",
    "print(lst1)"
   ]
  },
  {
   "cell_type": "code",
   "execution_count": 85,
   "metadata": {},
   "outputs": [
    {
     "data": {
      "text/plain": [
       "[1, 2, 3, 'a', 'b', 'c']"
      ]
     },
     "execution_count": 85,
     "metadata": {},
     "output_type": "execute_result"
    }
   ],
   "source": [
    "lst1 = [1, 2, 3]\n",
    "lst2 = ['a', 'b', 'c']\n",
    "\n",
    "lst1.extend(lst2)\n",
    "lst1"
   ]
  },
  {
   "cell_type": "code",
   "execution_count": 86,
   "metadata": {},
   "outputs": [
    {
     "data": {
      "text/plain": [
       "[1, 2, 3, 'a', 'b', 'c', 'a', 'b', 'c']"
      ]
     },
     "execution_count": 86,
     "metadata": {},
     "output_type": "execute_result"
    }
   ],
   "source": [
    "lst1 + lst2"
   ]
  },
  {
   "cell_type": "code",
   "execution_count": 87,
   "metadata": {},
   "outputs": [
    {
     "data": {
      "text/plain": [
       "[1, 2, 3, 'работа insert', 'a', 'b', 'c']"
      ]
     },
     "execution_count": 87,
     "metadata": {},
     "output_type": "execute_result"
    }
   ],
   "source": [
    "lst1.insert(3, 'работа insert')\n",
    "lst1 "
   ]
  },
  {
   "cell_type": "code",
   "execution_count": 88,
   "metadata": {},
   "outputs": [
    {
     "data": {
      "text/plain": [
       "[1, 3, 'работа insert', 'a', 'b', 'c']"
      ]
     },
     "execution_count": 88,
     "metadata": {},
     "output_type": "execute_result"
    }
   ],
   "source": [
    "lst1.remove(2)\n",
    "lst1"
   ]
  },
  {
   "cell_type": "code",
   "execution_count": 89,
   "metadata": {},
   "outputs": [
    {
     "data": {
      "text/plain": [
       "('работа insert', [1, 3, 'a', 'b', 'c'])"
      ]
     },
     "execution_count": 89,
     "metadata": {},
     "output_type": "execute_result"
    }
   ],
   "source": [
    "t = lst1.pop(2)\n",
    "t, lst1"
   ]
  },
  {
   "cell_type": "code",
   "execution_count": 91,
   "metadata": {},
   "outputs": [
    {
     "data": {
      "text/plain": [
       "2"
      ]
     },
     "execution_count": 91,
     "metadata": {},
     "output_type": "execute_result"
    }
   ],
   "source": [
    "lst1.index('a')"
   ]
  },
  {
   "cell_type": "code",
   "execution_count": 92,
   "metadata": {},
   "outputs": [
    {
     "data": {
      "text/plain": [
       "1"
      ]
     },
     "execution_count": 92,
     "metadata": {},
     "output_type": "execute_result"
    }
   ],
   "source": [
    "lst1.count('a')"
   ]
  },
  {
   "cell_type": "code",
   "execution_count": 93,
   "metadata": {},
   "outputs": [
    {
     "ename": "TypeError",
     "evalue": "'<' not supported between instances of 'str' and 'int'",
     "output_type": "error",
     "traceback": [
      "\u001b[1;31m---------------------------------------------------------------------------\u001b[0m",
      "\u001b[1;31mTypeError\u001b[0m                                 Traceback (most recent call last)",
      "\u001b[1;32mC:\\Users\\ASKORO~1\\AppData\\Local\\Temp/ipykernel_62848/3639686397.py\u001b[0m in \u001b[0;36m<module>\u001b[1;34m\u001b[0m\n\u001b[1;32m----> 1\u001b[1;33m \u001b[0mlst1\u001b[0m\u001b[1;33m.\u001b[0m\u001b[0msort\u001b[0m\u001b[1;33m(\u001b[0m\u001b[1;33m)\u001b[0m\u001b[1;33m\u001b[0m\u001b[1;33m\u001b[0m\u001b[0m\n\u001b[0m",
      "\u001b[1;31mTypeError\u001b[0m: '<' not supported between instances of 'str' and 'int'"
     ]
    }
   ],
   "source": [
    "lst1.sort()"
   ]
  },
  {
   "cell_type": "code",
   "execution_count": 95,
   "metadata": {},
   "outputs": [
    {
     "data": {
      "text/plain": [
       "[1, 1, 2, 3, 4]"
      ]
     },
     "execution_count": 95,
     "metadata": {},
     "output_type": "execute_result"
    }
   ],
   "source": [
    "lst3 = [1, 4, 3, 2, 1]\n",
    "lst3.sort()\n",
    "lst3"
   ]
  },
  {
   "cell_type": "code",
   "execution_count": 96,
   "metadata": {},
   "outputs": [
    {
     "data": {
      "text/plain": [
       "[4, 3, 2, 1, 1]"
      ]
     },
     "execution_count": 96,
     "metadata": {},
     "output_type": "execute_result"
    }
   ],
   "source": [
    "lst3.reverse()\n",
    "lst3"
   ]
  },
  {
   "cell_type": "markdown",
   "metadata": {},
   "source": [
    "### 01.03.05. Кортежи (tuple)"
   ]
  },
  {
   "cell_type": "code",
   "execution_count": 10,
   "metadata": {},
   "outputs": [
    {
     "data": {
      "text/plain": [
       "(1, 2, 'one', ['three', 'four', 'five'], 'two')"
      ]
     },
     "execution_count": 10,
     "metadata": {},
     "output_type": "execute_result"
    }
   ],
   "source": [
    "tpl = (1, 2, 'one', ['three', 'four', 'five'], 'two')\n",
    "tpl"
   ]
  },
  {
   "cell_type": "code",
   "execution_count": 11,
   "metadata": {},
   "outputs": [
    {
     "data": {
      "text/plain": [
       "2"
      ]
     },
     "execution_count": 11,
     "metadata": {},
     "output_type": "execute_result"
    }
   ],
   "source": [
    "tpl[1]"
   ]
  },
  {
   "cell_type": "code",
   "execution_count": 12,
   "metadata": {},
   "outputs": [
    {
     "data": {
      "text/plain": [
       "(1,\n",
       " 2,\n",
       " 'one',\n",
       " ['three', 'four', 'five'],\n",
       " 'two',\n",
       " 1,\n",
       " 2,\n",
       " 'one',\n",
       " ['three', 'four', 'five'],\n",
       " 'two')"
      ]
     },
     "execution_count": 12,
     "metadata": {},
     "output_type": "execute_result"
    }
   ],
   "source": [
    "tpl * 2"
   ]
  },
  {
   "cell_type": "code",
   "execution_count": 13,
   "metadata": {},
   "outputs": [
    {
     "data": {
      "text/plain": [
       "(1,\n",
       " 2,\n",
       " 'one',\n",
       " ['three', 'four', 'five'],\n",
       " 'two',\n",
       " 1,\n",
       " 2,\n",
       " 'one',\n",
       " ['three', 'four', 'five'],\n",
       " 'two')"
      ]
     },
     "execution_count": 13,
     "metadata": {},
     "output_type": "execute_result"
    }
   ],
   "source": [
    "tpl + tpl"
   ]
  },
  {
   "cell_type": "code",
   "execution_count": 14,
   "metadata": {},
   "outputs": [
    {
     "name": "stdout",
     "output_type": "stream",
     "text": [
      "['three', 'four', 'five']\n"
     ]
    },
    {
     "data": {
      "text/plain": [
       "(1, 2, 'one', [11111111, 'four', 'five'], 'two')"
      ]
     },
     "execution_count": 14,
     "metadata": {},
     "output_type": "execute_result"
    }
   ],
   "source": [
    "print(tpl[-2])\n",
    "tpl[-2][0] = 11111111\n",
    "tpl"
   ]
  },
  {
   "cell_type": "code",
   "execution_count": 15,
   "metadata": {},
   "outputs": [
    {
     "name": "stdout",
     "output_type": "stream",
     "text": [
      "2\n"
     ]
    },
    {
     "ename": "TypeError",
     "evalue": "'tuple' object does not support item assignment",
     "output_type": "error",
     "traceback": [
      "\u001b[1;31m---------------------------------------------------------------------------\u001b[0m",
      "\u001b[1;31mTypeError\u001b[0m                                 Traceback (most recent call last)",
      "\u001b[1;32mC:\\Users\\ASKORO~1\\AppData\\Local\\Temp/ipykernel_57832/4171039018.py\u001b[0m in \u001b[0;36m<module>\u001b[1;34m\u001b[0m\n\u001b[0;32m      1\u001b[0m \u001b[0mprint\u001b[0m\u001b[1;33m(\u001b[0m\u001b[0mtpl\u001b[0m\u001b[1;33m[\u001b[0m\u001b[1;36m1\u001b[0m\u001b[1;33m]\u001b[0m\u001b[1;33m)\u001b[0m\u001b[1;33m\u001b[0m\u001b[1;33m\u001b[0m\u001b[0m\n\u001b[1;32m----> 2\u001b[1;33m \u001b[0mtpl\u001b[0m\u001b[1;33m[\u001b[0m\u001b[1;36m1\u001b[0m\u001b[1;33m]\u001b[0m \u001b[1;33m=\u001b[0m \u001b[1;36m5\u001b[0m\u001b[1;33m\u001b[0m\u001b[1;33m\u001b[0m\u001b[0m\n\u001b[0m",
      "\u001b[1;31mTypeError\u001b[0m: 'tuple' object does not support item assignment"
     ]
    }
   ],
   "source": [
    "print(tpl[1])\n",
    "tpl[1] = 5"
   ]
  },
  {
   "cell_type": "markdown",
   "metadata": {},
   "source": [
    "### 01.03.06. Операции над строками"
   ]
  },
  {
   "cell_type": "code",
   "execution_count": 19,
   "metadata": {},
   "outputs": [
    {
     "name": "stdout",
     "output_type": "stream",
     "text": [
      "<class 'str'>\n",
      "1. Пример строки\n",
      "2. Можно использовать одинарные кавычки\n",
      "3. Если текст длинный, можно использовать\n",
      "вариант с тремя кавычками и переносом строки\n"
     ]
    }
   ],
   "source": [
    "s = \"1. Пример строки\"\n",
    "print(type(s))\n",
    "print(s)\n",
    "\n",
    "s = '2. Можно использовать одинарные кавычки'\n",
    "print(s)\n",
    "\n",
    "s = '''3. Если текст длинный, можно использовать\n",
    "вариант с тремя кавычками и переносом строки'''\n",
    "print(s)"
   ]
  },
  {
   "cell_type": "code",
   "execution_count": 20,
   "metadata": {},
   "outputs": [
    {
     "name": "stdout",
     "output_type": "stream",
     "text": [
      "4. Можно вычислять длину строки: 86\n",
      "5. Строки можно складывать\n",
      "6. И даже умножать умножать умножать\n"
     ]
    }
   ],
   "source": [
    "print('4. Можно вычислять длину строки:', len(s))\n",
    "print('5. Строки' + ' можно' + ' складывать')\n",
    "print('6. И даже' + ' умножать'*3)"
   ]
  },
  {
   "cell_type": "code",
   "execution_count": 24,
   "metadata": {},
   "outputs": [
    {
     "name": "stdout",
     "output_type": "stream",
     "text": [
      "7. Можно искать вхождение подстроки: True\n",
      "8. Если подстрока не найдена, то возвращается False: False\n",
      "9. Строки можно разделять в списки: ['3.', 'Если', 'текст', 'длинный,', 'можно', 'использовать', 'вариант', 'с', 'тремя', 'кавычками', 'и', 'переносом', 'строки']\n",
      "10. И, наоборот, соединять список в строку: 3. Если текст длинный, можно использовать вариант с тремя кавычками и переносом строки\n"
     ]
    }
   ],
   "source": [
    "print('7. Можно искать вхождение подстроки:', 'Если' in s)\n",
    "print('8. Если подстрока не найдена, то возвращается False:', '999' in s)\n",
    "print('9. Строки можно разделять в списки:', s.split())\n",
    "print('10. И, наоборот, соединять список в строку:', ' '.join(s.split()))"
   ]
  },
  {
   "cell_type": "code",
   "execution_count": 27,
   "metadata": {},
   "outputs": [
    {
     "name": "stdout",
     "output_type": "stream",
     "text": [
      "11. Можно все сделать заглавными буквами: 3. ЕСЛИ ТЕКСТ ДЛИННЫЙ, МОЖНО ИСПОЛЬЗОВАТЬ\n",
      "ВАРИАНТ С ТРЕМЯ КАВЫЧКАМИ И ПЕРЕНОСОМ СТРОКИ\n",
      "12. Или, наоборот, маленькими: 3. если текст длинный, можно использовать\n",
      "вариант с тремя кавычками и переносом строки\n",
      "13. Или как в предложении: 3. если текст длинный, можно использовать\n",
      "вариант с тремя кавычками и переносом строки\n"
     ]
    }
   ],
   "source": [
    "print('11. Можно все сделать заглавными буквами:', s.upper())\n",
    "print('12. Или, наоборот, маленькими:', s.lower())\n",
    "print('13. Или как в предложении:', s.capitalize())"
   ]
  },
  {
   "cell_type": "markdown",
   "metadata": {},
   "source": [
    "Строка - итерируемый объект"
   ]
  },
  {
   "cell_type": "code",
   "execution_count": 28,
   "metadata": {},
   "outputs": [
    {
     "data": {
      "text/plain": [
       "'Е'"
      ]
     },
     "execution_count": 28,
     "metadata": {},
     "output_type": "execute_result"
    }
   ],
   "source": [
    "s[3]"
   ]
  },
  {
   "cell_type": "code",
   "execution_count": 29,
   "metadata": {},
   "outputs": [
    {
     "data": {
      "text/plain": [
       "'3. Если те'"
      ]
     },
     "execution_count": 29,
     "metadata": {},
     "output_type": "execute_result"
    }
   ],
   "source": [
    "s[:10]"
   ]
  },
  {
   "cell_type": "code",
   "execution_count": 31,
   "metadata": {},
   "outputs": [
    {
     "data": {
      "text/plain": [
       "'сом строки'"
      ]
     },
     "execution_count": 31,
     "metadata": {},
     "output_type": "execute_result"
    }
   ],
   "source": [
    "s[-10:]"
   ]
  },
  {
   "cell_type": "code",
   "execution_count": 32,
   "metadata": {},
   "outputs": [
    {
     "data": {
      "text/plain": [
       "'3 ситктдинй он соьоаьвратстеяквчаиипрнсмсрк'"
      ]
     },
     "execution_count": 32,
     "metadata": {},
     "output_type": "execute_result"
    }
   ],
   "source": [
    "s[::2]"
   ]
  },
  {
   "cell_type": "code",
   "execution_count": 33,
   "metadata": {},
   "outputs": [
    {
     "name": "stdout",
     "output_type": "stream",
     "text": [
      "К\n",
      "а\n",
      "к\n",
      "а\n",
      "я\n",
      "-\n",
      "т\n",
      "о\n",
      " \n",
      "с\n",
      "т\n",
      "р\n",
      "о\n",
      "к\n",
      "а\n"
     ]
    }
   ],
   "source": [
    "for element in 'Какая-то строка':\n",
    "    print(element)"
   ]
  },
  {
   "cell_type": "code",
   "execution_count": 34,
   "metadata": {},
   "outputs": [
    {
     "data": {
      "text/plain": [
       "'*bcd*f'"
      ]
     },
     "execution_count": 34,
     "metadata": {},
     "output_type": "execute_result"
    }
   ],
   "source": [
    "s = 'abcdaf'\n",
    "s.replace('a', '*')"
   ]
  },
  {
   "cell_type": "code",
   "execution_count": 42,
   "metadata": {},
   "outputs": [
    {
     "data": {
      "text/plain": [
       "(False, True)"
      ]
     },
     "execution_count": 42,
     "metadata": {},
     "output_type": "execute_result"
    }
   ],
   "source": [
    "s = 'Примерстроки'\n",
    "s.isdigit(), s.isalpha()"
   ]
  },
  {
   "cell_type": "code",
   "execution_count": 45,
   "metadata": {},
   "outputs": [
    {
     "data": {
      "text/plain": [
       "(3, -1)"
      ]
     },
     "execution_count": 45,
     "metadata": {},
     "output_type": "execute_result"
    }
   ],
   "source": [
    "s.find('мер'), s.find('9')"
   ]
  },
  {
   "cell_type": "code",
   "execution_count": 49,
   "metadata": {},
   "outputs": [
    {
     "data": {
      "text/plain": [
       "True"
      ]
     },
     "execution_count": 49,
     "metadata": {},
     "output_type": "execute_result"
    }
   ],
   "source": [
    "s.startswith('П')"
   ]
  },
  {
   "cell_type": "code",
   "execution_count": 52,
   "metadata": {},
   "outputs": [
    {
     "data": {
      "text/plain": [
       "'Удалили лишние пробелы'"
      ]
     },
     "execution_count": 52,
     "metadata": {},
     "output_type": "execute_result"
    }
   ],
   "source": [
    "\"      Удалили лишние пробелы         \".strip()"
   ]
  },
  {
   "cell_type": "markdown",
   "metadata": {},
   "source": [
    "Форматирование строк"
   ]
  },
  {
   "cell_type": "code",
   "execution_count": 157,
   "metadata": {},
   "outputs": [],
   "source": [
    "dist = 99 # км\n",
    "speed = 10.8 # км/ч\n",
    "name = 'Alex'"
   ]
  },
  {
   "cell_type": "code",
   "execution_count": 155,
   "metadata": {},
   "outputs": [
    {
     "name": "stdout",
     "output_type": "stream",
     "text": [
      "Alex : 99 км 10.8 км/ч\n"
     ]
    }
   ],
   "source": [
    "print(c, \":\", a, \"км\", b, \"км/ч\") # вариант 1"
   ]
  },
  {
   "cell_type": "code",
   "execution_count": 162,
   "metadata": {},
   "outputs": [
    {
     "data": {
      "text/plain": [
       "'Alex: 99 км, 10.8 км/ч'"
      ]
     },
     "execution_count": 162,
     "metadata": {},
     "output_type": "execute_result"
    }
   ],
   "source": [
    "\"%s: %d км, %.1f км/ч\" % (name, dist, speed) # вариант 2"
   ]
  },
  {
   "cell_type": "code",
   "execution_count": 163,
   "metadata": {},
   "outputs": [
    {
     "data": {
      "text/plain": [
       "'Alex: 99 км, 10.8 км/ч'"
      ]
     },
     "execution_count": 163,
     "metadata": {},
     "output_type": "execute_result"
    }
   ],
   "source": [
    "\"{}: {} км, {} км/ч\".format(name, dist, speed) # вариант 3"
   ]
  },
  {
   "cell_type": "code",
   "execution_count": 172,
   "metadata": {},
   "outputs": [
    {
     "data": {
      "text/plain": [
       "'Alex: 099 км, 10.800 км/ч'"
      ]
     },
     "execution_count": 172,
     "metadata": {},
     "output_type": "execute_result"
    }
   ],
   "source": [
    "f\"{name}: {dist:03d} км, {speed:2.3f} км/ч\" # вариант 4"
   ]
  },
  {
   "cell_type": "markdown",
   "metadata": {},
   "source": [
    "### 01.03.07 Множества (set)"
   ]
  },
  {
   "cell_type": "code",
   "execution_count": 53,
   "metadata": {},
   "outputs": [],
   "source": [
    "st1 = {1, 2, 3, 4}\n",
    "st2 = {4, 5, 6, 7, 8}"
   ]
  },
  {
   "cell_type": "code",
   "execution_count": 55,
   "metadata": {},
   "outputs": [
    {
     "data": {
      "text/plain": [
       "{1, 2}"
      ]
     },
     "execution_count": 55,
     "metadata": {},
     "output_type": "execute_result"
    }
   ],
   "source": [
    "st3 = {1, 2, 2, 2, 2}\n",
    "st3"
   ]
  },
  {
   "cell_type": "code",
   "execution_count": 54,
   "metadata": {},
   "outputs": [
    {
     "data": {
      "text/plain": [
       "4"
      ]
     },
     "execution_count": 54,
     "metadata": {},
     "output_type": "execute_result"
    }
   ],
   "source": [
    "len(st1)"
   ]
  },
  {
   "cell_type": "code",
   "execution_count": 56,
   "metadata": {},
   "outputs": [
    {
     "data": {
      "text/plain": [
       "True"
      ]
     },
     "execution_count": 56,
     "metadata": {},
     "output_type": "execute_result"
    }
   ],
   "source": [
    "7 in st2"
   ]
  },
  {
   "cell_type": "code",
   "execution_count": 57,
   "metadata": {},
   "outputs": [
    {
     "data": {
      "text/plain": [
       "{1, 2, 3, 4, 5, 6, 7, 8}"
      ]
     },
     "execution_count": 57,
     "metadata": {},
     "output_type": "execute_result"
    }
   ],
   "source": [
    "# объединение (union)\n",
    "st1 | st2"
   ]
  },
  {
   "cell_type": "code",
   "execution_count": 58,
   "metadata": {},
   "outputs": [
    {
     "data": {
      "text/plain": [
       "{4}"
      ]
     },
     "execution_count": 58,
     "metadata": {},
     "output_type": "execute_result"
    }
   ],
   "source": [
    "# пересечение (intersection)\n",
    "st1 & st2"
   ]
  },
  {
   "cell_type": "code",
   "execution_count": 59,
   "metadata": {},
   "outputs": [
    {
     "data": {
      "text/plain": [
       "{1, 2, 3}"
      ]
     },
     "execution_count": 59,
     "metadata": {},
     "output_type": "execute_result"
    }
   ],
   "source": [
    "# есть в st1, но нет в st2\n",
    "st1 - st2"
   ]
  },
  {
   "cell_type": "code",
   "execution_count": 60,
   "metadata": {},
   "outputs": [
    {
     "data": {
      "text/plain": [
       "{1, 2, 3, 5, 6, 7, 8}"
      ]
     },
     "execution_count": 60,
     "metadata": {},
     "output_type": "execute_result"
    }
   ],
   "source": [
    "# есть только в st1 или только  в st2\n",
    "st1 ^ st2"
   ]
  },
  {
   "cell_type": "code",
   "execution_count": 62,
   "metadata": {},
   "outputs": [
    {
     "data": {
      "text/plain": [
       "{1, 2, 3, 4, 10}"
      ]
     },
     "execution_count": 62,
     "metadata": {},
     "output_type": "execute_result"
    }
   ],
   "source": [
    "st1.add(10)\n",
    "st1"
   ]
  },
  {
   "cell_type": "code",
   "execution_count": 65,
   "metadata": {},
   "outputs": [
    {
     "ename": "TypeError",
     "evalue": "'set' object is not subscriptable",
     "output_type": "error",
     "traceback": [
      "\u001b[1;31m---------------------------------------------------------------------------\u001b[0m",
      "\u001b[1;31mTypeError\u001b[0m                                 Traceback (most recent call last)",
      "\u001b[1;32mC:\\Users\\ASKORO~1\\AppData\\Local\\Temp/ipykernel_57832/2094024645.py\u001b[0m in \u001b[0;36m<module>\u001b[1;34m\u001b[0m\n\u001b[1;32m----> 1\u001b[1;33m \u001b[0mst1\u001b[0m\u001b[1;33m[\u001b[0m\u001b[1;36m0\u001b[0m\u001b[1;33m]\u001b[0m \u001b[1;31m# неупорядоченная коллекция\u001b[0m\u001b[1;33m\u001b[0m\u001b[1;33m\u001b[0m\u001b[0m\n\u001b[0m",
      "\u001b[1;31mTypeError\u001b[0m: 'set' object is not subscriptable"
     ]
    }
   ],
   "source": [
    "st1[0] # неупорядоченная коллекция"
   ]
  },
  {
   "cell_type": "markdown",
   "metadata": {},
   "source": [
    "### 01.03.08 Словари (dict)"
   ]
  },
  {
   "cell_type": "code",
   "execution_count": 67,
   "metadata": {},
   "outputs": [
    {
     "data": {
      "text/plain": [
       "dict"
      ]
     },
     "execution_count": 67,
     "metadata": {},
     "output_type": "execute_result"
    }
   ],
   "source": [
    "d = {\"Вася\": 5, \"Алена\": 10, \"Петя\": 28}\n",
    "type(d)"
   ]
  },
  {
   "cell_type": "code",
   "execution_count": 68,
   "metadata": {},
   "outputs": [
    {
     "data": {
      "text/plain": [
       "dict_keys(['Вася', 'Алена', 'Петя'])"
      ]
     },
     "execution_count": 68,
     "metadata": {},
     "output_type": "execute_result"
    }
   ],
   "source": [
    "d.keys()"
   ]
  },
  {
   "cell_type": "code",
   "execution_count": 69,
   "metadata": {},
   "outputs": [
    {
     "data": {
      "text/plain": [
       "dict_values([5, 10, 28])"
      ]
     },
     "execution_count": 69,
     "metadata": {},
     "output_type": "execute_result"
    }
   ],
   "source": [
    "d.values()"
   ]
  },
  {
   "cell_type": "code",
   "execution_count": 70,
   "metadata": {},
   "outputs": [
    {
     "data": {
      "text/plain": [
       "dict_items([('Вася', 5), ('Алена', 10), ('Петя', 28)])"
      ]
     },
     "execution_count": 70,
     "metadata": {},
     "output_type": "execute_result"
    }
   ],
   "source": [
    "d.items()"
   ]
  },
  {
   "cell_type": "code",
   "execution_count": 71,
   "metadata": {},
   "outputs": [
    {
     "data": {
      "text/plain": [
       "28"
      ]
     },
     "execution_count": 71,
     "metadata": {},
     "output_type": "execute_result"
    }
   ],
   "source": [
    "petya = d.pop('Петя')\n",
    "petya"
   ]
  },
  {
   "cell_type": "code",
   "execution_count": 72,
   "metadata": {},
   "outputs": [
    {
     "data": {
      "text/plain": [
       "{'Вася': 5, 'Алена': 10, 'Марина': 29}"
      ]
     },
     "execution_count": 72,
     "metadata": {},
     "output_type": "execute_result"
    }
   ],
   "source": [
    "d[\"Марина\"] = 29\n",
    "d"
   ]
  },
  {
   "cell_type": "code",
   "execution_count": 73,
   "metadata": {},
   "outputs": [
    {
     "data": {
      "text/plain": [
       "{'Вася': 55, 'Алена': 15, 'Марина': 29, 'Сергей': 0}"
      ]
     },
     "execution_count": 73,
     "metadata": {},
     "output_type": "execute_result"
    }
   ],
   "source": [
    "d.update({\"Вася\": 55, \"Алена\": 15, \"Сергей\": 0})\n",
    "d"
   ]
  },
  {
   "cell_type": "code",
   "execution_count": 74,
   "metadata": {},
   "outputs": [
    {
     "data": {
      "text/plain": [
       "55"
      ]
     },
     "execution_count": 74,
     "metadata": {},
     "output_type": "execute_result"
    }
   ],
   "source": [
    "d[\"Вася\"]"
   ]
  },
  {
   "cell_type": "code",
   "execution_count": 75,
   "metadata": {},
   "outputs": [
    {
     "ename": "KeyError",
     "evalue": "'Кто-то'",
     "output_type": "error",
     "traceback": [
      "\u001b[1;31m---------------------------------------------------------------------------\u001b[0m",
      "\u001b[1;31mKeyError\u001b[0m                                  Traceback (most recent call last)",
      "\u001b[1;32mC:\\Users\\ASKORO~1\\AppData\\Local\\Temp/ipykernel_57832/1575178425.py\u001b[0m in \u001b[0;36m<module>\u001b[1;34m\u001b[0m\n\u001b[1;32m----> 1\u001b[1;33m \u001b[0md\u001b[0m\u001b[1;33m[\u001b[0m\u001b[1;34m'Кто-то'\u001b[0m\u001b[1;33m]\u001b[0m\u001b[1;33m\u001b[0m\u001b[1;33m\u001b[0m\u001b[0m\n\u001b[0m",
      "\u001b[1;31mKeyError\u001b[0m: 'Кто-то'"
     ]
    }
   ],
   "source": [
    "d['Кто-то']"
   ]
  },
  {
   "cell_type": "code",
   "execution_count": 76,
   "metadata": {},
   "outputs": [
    {
     "data": {
      "text/plain": [
       "' Нет такого'"
      ]
     },
     "execution_count": 76,
     "metadata": {},
     "output_type": "execute_result"
    }
   ],
   "source": [
    "d.get('Кто-то', \" Нет такого\")"
   ]
  },
  {
   "cell_type": "code",
   "execution_count": 78,
   "metadata": {},
   "outputs": [
    {
     "data": {
      "text/plain": [
       "{'Вася': 55, 'Алена': 15, 'Марина': 29, 'Сергей': 0, 'Владимир': '!!!'}"
      ]
     },
     "execution_count": 78,
     "metadata": {},
     "output_type": "execute_result"
    }
   ],
   "source": [
    "d.setdefault(\"Владимир\", \"!!!\")\n",
    "d"
   ]
  },
  {
   "cell_type": "markdown",
   "metadata": {},
   "source": [
    "## 01.04. Условные выражения и циклы\n",
    "### 01.04.01 Условные выражения"
   ]
  },
  {
   "cell_type": "code",
   "execution_count": 83,
   "metadata": {},
   "outputs": [
    {
     "name": "stdout",
     "output_type": "stream",
     "text": [
      "True\n",
      "True\n",
      "True\n",
      "True\n",
      "True\n",
      "False\n",
      "False\n",
      "False\n",
      "False\n"
     ]
    }
   ],
   "source": [
    "# TRUE\n",
    "print(1==1)\n",
    "print(bool([0,0]))\n",
    "print(bool('слово'))\n",
    "print('a' in ['a', 'b', 'c'])\n",
    "a = 1; b = 1; print(a is b)\n",
    "\n",
    "# FALSE\n",
    "print(1=='1')\n",
    "print(bool(0))\n",
    "print(bool([]))\n",
    "a = 1; b = 2; print(a is b)"
   ]
  },
  {
   "cell_type": "code",
   "execution_count": 5,
   "metadata": {},
   "outputs": [
    {
     "name": "stdout",
     "output_type": "stream",
     "text": [
      "98\n",
      "Условие elif\n"
     ]
    }
   ],
   "source": [
    "from random import randint, choice\n",
    "\n",
    "a = randint(50,100)\n",
    "print(a)\n",
    "\n",
    "if a > 100:\n",
    "    print('Условие if')\n",
    "elif a > 90:\n",
    "    print('Условие elif')\n",
    "elif a > 80:\n",
    "    print('Условие elif')\n",
    "else:\n",
    "    print('Не выполнилось ни одно условие')"
   ]
  },
  {
   "cell_type": "code",
   "execution_count": 11,
   "metadata": {},
   "outputs": [
    {
     "name": "stdout",
     "output_type": "stream",
     "text": [
      "ничего нет\n"
     ]
    }
   ],
   "source": [
    "match choice(['a', 'c', 'e', 'f']):\n",
    "    case 'a':\n",
    "        print('a')\n",
    "    case 'c':\n",
    "        print('с')\n",
    "    case _:\n",
    "        print('ничего нет')"
   ]
  },
  {
   "cell_type": "markdown",
   "metadata": {},
   "source": [
    "### 01.04.02. Циклы"
   ]
  },
  {
   "cell_type": "code",
   "execution_count": 12,
   "metadata": {},
   "outputs": [
    {
     "name": "stdout",
     "output_type": "stream",
     "text": [
      "0\n",
      "1\n",
      "2\n",
      "3\n",
      "4\n"
     ]
    }
   ],
   "source": [
    "for i in range(5):\n",
    "    print(i)"
   ]
  },
  {
   "cell_type": "code",
   "execution_count": 13,
   "metadata": {},
   "outputs": [
    {
     "name": "stdout",
     "output_type": "stream",
     "text": [
      "0\n",
      "1\n",
      "2\n",
      "3\n",
      "4\n"
     ]
    }
   ],
   "source": [
    "i = 0\n",
    "\n",
    "while i < 5:\n",
    "    print(i)\n",
    "    i += 1"
   ]
  },
  {
   "cell_type": "code",
   "execution_count": 15,
   "metadata": {},
   "outputs": [
    {
     "name": "stdout",
     "output_type": "stream",
     "text": [
      "100\n",
      "80\n",
      "67\n",
      "55\n",
      "51\n",
      "31\n",
      "13\n"
     ]
    }
   ],
   "source": [
    "i = 100\n",
    "\n",
    "while i > 0:\n",
    "    print(i)\n",
    "    i -= randint(0,20)\n"
   ]
  },
  {
   "cell_type": "code",
   "execution_count": 17,
   "metadata": {},
   "outputs": [
    {
     "name": "stdout",
     "output_type": "stream",
     "text": [
      "dog\n",
      "table - лишнее слово, continue\n",
      "cat\n",
      "лошадь мы не ожидали, break\n"
     ]
    }
   ],
   "source": [
    "for word in ['dog', 'table', 'cat', 'horse', 'tiger']:\n",
    "\n",
    "    if word=='table':\n",
    "        print(\"table - лишнее слово, continue\")\n",
    "        continue\n",
    "\n",
    "    if word=='horse':\n",
    "        print(\"лошадь мы не ожидали, break\")\n",
    "        break\n",
    "\n",
    "    print(word)"
   ]
  },
  {
   "cell_type": "code",
   "execution_count": 18,
   "metadata": {},
   "outputs": [
    {
     "name": "stdout",
     "output_type": "stream",
     "text": [
      "1 dog\n",
      "2 table\n",
      "3 cat\n",
      "4 horse\n",
      "5 tiger\n"
     ]
    }
   ],
   "source": [
    "for i, word in enumerate(['dog', 'table', 'cat', 'horse', 'tiger']):\n",
    "    print(i+1, word)"
   ]
  },
  {
   "cell_type": "code",
   "execution_count": 19,
   "metadata": {},
   "outputs": [
    {
     "name": "stdout",
     "output_type": "stream",
     "text": [
      "A =  range(0, 5)\n",
      "B =  range(10, 15)\n",
      "a = 0, b = 10\n",
      "a = 1, b = 11\n",
      "a = 2, b = 12\n",
      "a = 3, b = 13\n",
      "a = 4, b = 14\n"
     ]
    }
   ],
   "source": [
    "A = range(5)\n",
    "print('A = ', A)\n",
    "B = range(10,15)\n",
    "print('B = ', B)\n",
    "\n",
    "for a, b in zip(A, B):\n",
    "    print(f\"a = {a}, b = {b}\")"
   ]
  },
  {
   "cell_type": "code",
   "execution_count": 22,
   "metadata": {},
   "outputs": [
    {
     "name": "stdout",
     "output_type": "stream",
     "text": [
      "1 3 5\n",
      "1 3 6\n",
      "1 4 5\n",
      "1 4 6\n",
      "2 3 5\n",
      "2 3 6\n",
      "2 4 5\n",
      "2 4 6\n"
     ]
    }
   ],
   "source": [
    "A = [1, 2]\n",
    "B = [3, 4]\n",
    "C = [5, 6]\n",
    "\n",
    "for a in A:\n",
    "    for b in B:\n",
    "        for c in C:\n",
    "            print(f\"{a} {b} {c}\")"
   ]
  },
  {
   "cell_type": "markdown",
   "metadata": {},
   "source": [
    "### 01.04.03 List/Dict Comprehension"
   ]
  },
  {
   "cell_type": "code",
   "execution_count": 23,
   "metadata": {},
   "outputs": [
    {
     "name": "stdout",
     "output_type": "stream",
     "text": [
      "CPU times: total: 1.47 s\n",
      "Wall time: 1.52 s\n"
     ]
    }
   ],
   "source": [
    "%%time\n",
    "lst_1 = []\n",
    "\n",
    "for i in range(10_000_000):\n",
    "    if i%2==0:\n",
    "        lst_1.append(i)"
   ]
  },
  {
   "cell_type": "code",
   "execution_count": 25,
   "metadata": {},
   "outputs": [
    {
     "name": "stdout",
     "output_type": "stream",
     "text": [
      "CPU times: total: 875 ms\n",
      "Wall time: 889 ms\n"
     ]
    }
   ],
   "source": [
    "%%time\n",
    "lst_2 = [i for i in range(10_000_000) if i%2==0]"
   ]
  },
  {
   "cell_type": "code",
   "execution_count": 27,
   "metadata": {},
   "outputs": [
    {
     "name": "stdout",
     "output_type": "stream",
     "text": [
      "CPU times: total: 3.84 s\n",
      "Wall time: 3.99 s\n"
     ]
    }
   ],
   "source": [
    "%%time\n",
    "dict1 = {}\n",
    "\n",
    "for i in range(10_000_000):\n",
    "    if i%2==0:\n",
    "        dict1[str(i)] = i"
   ]
  },
  {
   "cell_type": "code",
   "execution_count": 28,
   "metadata": {},
   "outputs": [
    {
     "name": "stdout",
     "output_type": "stream",
     "text": [
      "CPU times: total: 3.02 s\n",
      "Wall time: 3.13 s\n"
     ]
    },
    {
     "data": {
      "text/plain": [
       "{'0': 0,\n",
       " '2': 2,\n",
       " '4': 4,\n",
       " '6': 6,\n",
       " '8': 8,\n",
       " '10': 10,\n",
       " '12': 12,\n",
       " '14': 14,\n",
       " '16': 16,\n",
       " '18': 18,\n",
       " '20': 20,\n",
       " '22': 22,\n",
       " '24': 24,\n",
       " '26': 26,\n",
       " '28': 28,\n",
       " '30': 30,\n",
       " '32': 32,\n",
       " '34': 34,\n",
       " '36': 36,\n",
       " '38': 38,\n",
       " '40': 40,\n",
       " '42': 42,\n",
       " '44': 44,\n",
       " '46': 46,\n",
       " '48': 48,\n",
       " '50': 50,\n",
       " '52': 52,\n",
       " '54': 54,\n",
       " '56': 56,\n",
       " '58': 58,\n",
       " '60': 60,\n",
       " '62': 62,\n",
       " '64': 64,\n",
       " '66': 66,\n",
       " '68': 68,\n",
       " '70': 70,\n",
       " '72': 72,\n",
       " '74': 74,\n",
       " '76': 76,\n",
       " '78': 78,\n",
       " '80': 80,\n",
       " '82': 82,\n",
       " '84': 84,\n",
       " '86': 86,\n",
       " '88': 88,\n",
       " '90': 90,\n",
       " '92': 92,\n",
       " '94': 94,\n",
       " '96': 96,\n",
       " '98': 98,\n",
       " '100': 100,\n",
       " '102': 102,\n",
       " '104': 104,\n",
       " '106': 106,\n",
       " '108': 108,\n",
       " '110': 110,\n",
       " '112': 112,\n",
       " '114': 114,\n",
       " '116': 116,\n",
       " '118': 118,\n",
       " '120': 120,\n",
       " '122': 122,\n",
       " '124': 124,\n",
       " '126': 126,\n",
       " '128': 128,\n",
       " '130': 130,\n",
       " '132': 132,\n",
       " '134': 134,\n",
       " '136': 136,\n",
       " '138': 138,\n",
       " '140': 140,\n",
       " '142': 142,\n",
       " '144': 144,\n",
       " '146': 146,\n",
       " '148': 148,\n",
       " '150': 150,\n",
       " '152': 152,\n",
       " '154': 154,\n",
       " '156': 156,\n",
       " '158': 158,\n",
       " '160': 160,\n",
       " '162': 162,\n",
       " '164': 164,\n",
       " '166': 166,\n",
       " '168': 168,\n",
       " '170': 170,\n",
       " '172': 172,\n",
       " '174': 174,\n",
       " '176': 176,\n",
       " '178': 178,\n",
       " '180': 180,\n",
       " '182': 182,\n",
       " '184': 184,\n",
       " '186': 186,\n",
       " '188': 188,\n",
       " '190': 190,\n",
       " '192': 192,\n",
       " '194': 194,\n",
       " '196': 196,\n",
       " '198': 198,\n",
       " '200': 200,\n",
       " '202': 202,\n",
       " '204': 204,\n",
       " '206': 206,\n",
       " '208': 208,\n",
       " '210': 210,\n",
       " '212': 212,\n",
       " '214': 214,\n",
       " '216': 216,\n",
       " '218': 218,\n",
       " '220': 220,\n",
       " '222': 222,\n",
       " '224': 224,\n",
       " '226': 226,\n",
       " '228': 228,\n",
       " '230': 230,\n",
       " '232': 232,\n",
       " '234': 234,\n",
       " '236': 236,\n",
       " '238': 238,\n",
       " '240': 240,\n",
       " '242': 242,\n",
       " '244': 244,\n",
       " '246': 246,\n",
       " '248': 248,\n",
       " '250': 250,\n",
       " '252': 252,\n",
       " '254': 254,\n",
       " '256': 256,\n",
       " '258': 258,\n",
       " '260': 260,\n",
       " '262': 262,\n",
       " '264': 264,\n",
       " '266': 266,\n",
       " '268': 268,\n",
       " '270': 270,\n",
       " '272': 272,\n",
       " '274': 274,\n",
       " '276': 276,\n",
       " '278': 278,\n",
       " '280': 280,\n",
       " '282': 282,\n",
       " '284': 284,\n",
       " '286': 286,\n",
       " '288': 288,\n",
       " '290': 290,\n",
       " '292': 292,\n",
       " '294': 294,\n",
       " '296': 296,\n",
       " '298': 298,\n",
       " '300': 300,\n",
       " '302': 302,\n",
       " '304': 304,\n",
       " '306': 306,\n",
       " '308': 308,\n",
       " '310': 310,\n",
       " '312': 312,\n",
       " '314': 314,\n",
       " '316': 316,\n",
       " '318': 318,\n",
       " '320': 320,\n",
       " '322': 322,\n",
       " '324': 324,\n",
       " '326': 326,\n",
       " '328': 328,\n",
       " '330': 330,\n",
       " '332': 332,\n",
       " '334': 334,\n",
       " '336': 336,\n",
       " '338': 338,\n",
       " '340': 340,\n",
       " '342': 342,\n",
       " '344': 344,\n",
       " '346': 346,\n",
       " '348': 348,\n",
       " '350': 350,\n",
       " '352': 352,\n",
       " '354': 354,\n",
       " '356': 356,\n",
       " '358': 358,\n",
       " '360': 360,\n",
       " '362': 362,\n",
       " '364': 364,\n",
       " '366': 366,\n",
       " '368': 368,\n",
       " '370': 370,\n",
       " '372': 372,\n",
       " '374': 374,\n",
       " '376': 376,\n",
       " '378': 378,\n",
       " '380': 380,\n",
       " '382': 382,\n",
       " '384': 384,\n",
       " '386': 386,\n",
       " '388': 388,\n",
       " '390': 390,\n",
       " '392': 392,\n",
       " '394': 394,\n",
       " '396': 396,\n",
       " '398': 398,\n",
       " '400': 400,\n",
       " '402': 402,\n",
       " '404': 404,\n",
       " '406': 406,\n",
       " '408': 408,\n",
       " '410': 410,\n",
       " '412': 412,\n",
       " '414': 414,\n",
       " '416': 416,\n",
       " '418': 418,\n",
       " '420': 420,\n",
       " '422': 422,\n",
       " '424': 424,\n",
       " '426': 426,\n",
       " '428': 428,\n",
       " '430': 430,\n",
       " '432': 432,\n",
       " '434': 434,\n",
       " '436': 436,\n",
       " '438': 438,\n",
       " '440': 440,\n",
       " '442': 442,\n",
       " '444': 444,\n",
       " '446': 446,\n",
       " '448': 448,\n",
       " '450': 450,\n",
       " '452': 452,\n",
       " '454': 454,\n",
       " '456': 456,\n",
       " '458': 458,\n",
       " '460': 460,\n",
       " '462': 462,\n",
       " '464': 464,\n",
       " '466': 466,\n",
       " '468': 468,\n",
       " '470': 470,\n",
       " '472': 472,\n",
       " '474': 474,\n",
       " '476': 476,\n",
       " '478': 478,\n",
       " '480': 480,\n",
       " '482': 482,\n",
       " '484': 484,\n",
       " '486': 486,\n",
       " '488': 488,\n",
       " '490': 490,\n",
       " '492': 492,\n",
       " '494': 494,\n",
       " '496': 496,\n",
       " '498': 498,\n",
       " '500': 500,\n",
       " '502': 502,\n",
       " '504': 504,\n",
       " '506': 506,\n",
       " '508': 508,\n",
       " '510': 510,\n",
       " '512': 512,\n",
       " '514': 514,\n",
       " '516': 516,\n",
       " '518': 518,\n",
       " '520': 520,\n",
       " '522': 522,\n",
       " '524': 524,\n",
       " '526': 526,\n",
       " '528': 528,\n",
       " '530': 530,\n",
       " '532': 532,\n",
       " '534': 534,\n",
       " '536': 536,\n",
       " '538': 538,\n",
       " '540': 540,\n",
       " '542': 542,\n",
       " '544': 544,\n",
       " '546': 546,\n",
       " '548': 548,\n",
       " '550': 550,\n",
       " '552': 552,\n",
       " '554': 554,\n",
       " '556': 556,\n",
       " '558': 558,\n",
       " '560': 560,\n",
       " '562': 562,\n",
       " '564': 564,\n",
       " '566': 566,\n",
       " '568': 568,\n",
       " '570': 570,\n",
       " '572': 572,\n",
       " '574': 574,\n",
       " '576': 576,\n",
       " '578': 578,\n",
       " '580': 580,\n",
       " '582': 582,\n",
       " '584': 584,\n",
       " '586': 586,\n",
       " '588': 588,\n",
       " '590': 590,\n",
       " '592': 592,\n",
       " '594': 594,\n",
       " '596': 596,\n",
       " '598': 598,\n",
       " '600': 600,\n",
       " '602': 602,\n",
       " '604': 604,\n",
       " '606': 606,\n",
       " '608': 608,\n",
       " '610': 610,\n",
       " '612': 612,\n",
       " '614': 614,\n",
       " '616': 616,\n",
       " '618': 618,\n",
       " '620': 620,\n",
       " '622': 622,\n",
       " '624': 624,\n",
       " '626': 626,\n",
       " '628': 628,\n",
       " '630': 630,\n",
       " '632': 632,\n",
       " '634': 634,\n",
       " '636': 636,\n",
       " '638': 638,\n",
       " '640': 640,\n",
       " '642': 642,\n",
       " '644': 644,\n",
       " '646': 646,\n",
       " '648': 648,\n",
       " '650': 650,\n",
       " '652': 652,\n",
       " '654': 654,\n",
       " '656': 656,\n",
       " '658': 658,\n",
       " '660': 660,\n",
       " '662': 662,\n",
       " '664': 664,\n",
       " '666': 666,\n",
       " '668': 668,\n",
       " '670': 670,\n",
       " '672': 672,\n",
       " '674': 674,\n",
       " '676': 676,\n",
       " '678': 678,\n",
       " '680': 680,\n",
       " '682': 682,\n",
       " '684': 684,\n",
       " '686': 686,\n",
       " '688': 688,\n",
       " '690': 690,\n",
       " '692': 692,\n",
       " '694': 694,\n",
       " '696': 696,\n",
       " '698': 698,\n",
       " '700': 700,\n",
       " '702': 702,\n",
       " '704': 704,\n",
       " '706': 706,\n",
       " '708': 708,\n",
       " '710': 710,\n",
       " '712': 712,\n",
       " '714': 714,\n",
       " '716': 716,\n",
       " '718': 718,\n",
       " '720': 720,\n",
       " '722': 722,\n",
       " '724': 724,\n",
       " '726': 726,\n",
       " '728': 728,\n",
       " '730': 730,\n",
       " '732': 732,\n",
       " '734': 734,\n",
       " '736': 736,\n",
       " '738': 738,\n",
       " '740': 740,\n",
       " '742': 742,\n",
       " '744': 744,\n",
       " '746': 746,\n",
       " '748': 748,\n",
       " '750': 750,\n",
       " '752': 752,\n",
       " '754': 754,\n",
       " '756': 756,\n",
       " '758': 758,\n",
       " '760': 760,\n",
       " '762': 762,\n",
       " '764': 764,\n",
       " '766': 766,\n",
       " '768': 768,\n",
       " '770': 770,\n",
       " '772': 772,\n",
       " '774': 774,\n",
       " '776': 776,\n",
       " '778': 778,\n",
       " '780': 780,\n",
       " '782': 782,\n",
       " '784': 784,\n",
       " '786': 786,\n",
       " '788': 788,\n",
       " '790': 790,\n",
       " '792': 792,\n",
       " '794': 794,\n",
       " '796': 796,\n",
       " '798': 798,\n",
       " '800': 800,\n",
       " '802': 802,\n",
       " '804': 804,\n",
       " '806': 806,\n",
       " '808': 808,\n",
       " '810': 810,\n",
       " '812': 812,\n",
       " '814': 814,\n",
       " '816': 816,\n",
       " '818': 818,\n",
       " '820': 820,\n",
       " '822': 822,\n",
       " '824': 824,\n",
       " '826': 826,\n",
       " '828': 828,\n",
       " '830': 830,\n",
       " '832': 832,\n",
       " '834': 834,\n",
       " '836': 836,\n",
       " '838': 838,\n",
       " '840': 840,\n",
       " '842': 842,\n",
       " '844': 844,\n",
       " '846': 846,\n",
       " '848': 848,\n",
       " '850': 850,\n",
       " '852': 852,\n",
       " '854': 854,\n",
       " '856': 856,\n",
       " '858': 858,\n",
       " '860': 860,\n",
       " '862': 862,\n",
       " '864': 864,\n",
       " '866': 866,\n",
       " '868': 868,\n",
       " '870': 870,\n",
       " '872': 872,\n",
       " '874': 874,\n",
       " '876': 876,\n",
       " '878': 878,\n",
       " '880': 880,\n",
       " '882': 882,\n",
       " '884': 884,\n",
       " '886': 886,\n",
       " '888': 888,\n",
       " '890': 890,\n",
       " '892': 892,\n",
       " '894': 894,\n",
       " '896': 896,\n",
       " '898': 898,\n",
       " '900': 900,\n",
       " '902': 902,\n",
       " '904': 904,\n",
       " '906': 906,\n",
       " '908': 908,\n",
       " '910': 910,\n",
       " '912': 912,\n",
       " '914': 914,\n",
       " '916': 916,\n",
       " '918': 918,\n",
       " '920': 920,\n",
       " '922': 922,\n",
       " '924': 924,\n",
       " '926': 926,\n",
       " '928': 928,\n",
       " '930': 930,\n",
       " '932': 932,\n",
       " '934': 934,\n",
       " '936': 936,\n",
       " '938': 938,\n",
       " '940': 940,\n",
       " '942': 942,\n",
       " '944': 944,\n",
       " '946': 946,\n",
       " '948': 948,\n",
       " '950': 950,\n",
       " '952': 952,\n",
       " '954': 954,\n",
       " '956': 956,\n",
       " '958': 958,\n",
       " '960': 960,\n",
       " '962': 962,\n",
       " '964': 964,\n",
       " '966': 966,\n",
       " '968': 968,\n",
       " '970': 970,\n",
       " '972': 972,\n",
       " '974': 974,\n",
       " '976': 976,\n",
       " '978': 978,\n",
       " '980': 980,\n",
       " '982': 982,\n",
       " '984': 984,\n",
       " '986': 986,\n",
       " '988': 988,\n",
       " '990': 990,\n",
       " '992': 992,\n",
       " '994': 994,\n",
       " '996': 996,\n",
       " '998': 998,\n",
       " '1000': 1000,\n",
       " '1002': 1002,\n",
       " '1004': 1004,\n",
       " '1006': 1006,\n",
       " '1008': 1008,\n",
       " '1010': 1010,\n",
       " '1012': 1012,\n",
       " '1014': 1014,\n",
       " '1016': 1016,\n",
       " '1018': 1018,\n",
       " '1020': 1020,\n",
       " '1022': 1022,\n",
       " '1024': 1024,\n",
       " '1026': 1026,\n",
       " '1028': 1028,\n",
       " '1030': 1030,\n",
       " '1032': 1032,\n",
       " '1034': 1034,\n",
       " '1036': 1036,\n",
       " '1038': 1038,\n",
       " '1040': 1040,\n",
       " '1042': 1042,\n",
       " '1044': 1044,\n",
       " '1046': 1046,\n",
       " '1048': 1048,\n",
       " '1050': 1050,\n",
       " '1052': 1052,\n",
       " '1054': 1054,\n",
       " '1056': 1056,\n",
       " '1058': 1058,\n",
       " '1060': 1060,\n",
       " '1062': 1062,\n",
       " '1064': 1064,\n",
       " '1066': 1066,\n",
       " '1068': 1068,\n",
       " '1070': 1070,\n",
       " '1072': 1072,\n",
       " '1074': 1074,\n",
       " '1076': 1076,\n",
       " '1078': 1078,\n",
       " '1080': 1080,\n",
       " '1082': 1082,\n",
       " '1084': 1084,\n",
       " '1086': 1086,\n",
       " '1088': 1088,\n",
       " '1090': 1090,\n",
       " '1092': 1092,\n",
       " '1094': 1094,\n",
       " '1096': 1096,\n",
       " '1098': 1098,\n",
       " '1100': 1100,\n",
       " '1102': 1102,\n",
       " '1104': 1104,\n",
       " '1106': 1106,\n",
       " '1108': 1108,\n",
       " '1110': 1110,\n",
       " '1112': 1112,\n",
       " '1114': 1114,\n",
       " '1116': 1116,\n",
       " '1118': 1118,\n",
       " '1120': 1120,\n",
       " '1122': 1122,\n",
       " '1124': 1124,\n",
       " '1126': 1126,\n",
       " '1128': 1128,\n",
       " '1130': 1130,\n",
       " '1132': 1132,\n",
       " '1134': 1134,\n",
       " '1136': 1136,\n",
       " '1138': 1138,\n",
       " '1140': 1140,\n",
       " '1142': 1142,\n",
       " '1144': 1144,\n",
       " '1146': 1146,\n",
       " '1148': 1148,\n",
       " '1150': 1150,\n",
       " '1152': 1152,\n",
       " '1154': 1154,\n",
       " '1156': 1156,\n",
       " '1158': 1158,\n",
       " '1160': 1160,\n",
       " '1162': 1162,\n",
       " '1164': 1164,\n",
       " '1166': 1166,\n",
       " '1168': 1168,\n",
       " '1170': 1170,\n",
       " '1172': 1172,\n",
       " '1174': 1174,\n",
       " '1176': 1176,\n",
       " '1178': 1178,\n",
       " '1180': 1180,\n",
       " '1182': 1182,\n",
       " '1184': 1184,\n",
       " '1186': 1186,\n",
       " '1188': 1188,\n",
       " '1190': 1190,\n",
       " '1192': 1192,\n",
       " '1194': 1194,\n",
       " '1196': 1196,\n",
       " '1198': 1198,\n",
       " '1200': 1200,\n",
       " '1202': 1202,\n",
       " '1204': 1204,\n",
       " '1206': 1206,\n",
       " '1208': 1208,\n",
       " '1210': 1210,\n",
       " '1212': 1212,\n",
       " '1214': 1214,\n",
       " '1216': 1216,\n",
       " '1218': 1218,\n",
       " '1220': 1220,\n",
       " '1222': 1222,\n",
       " '1224': 1224,\n",
       " '1226': 1226,\n",
       " '1228': 1228,\n",
       " '1230': 1230,\n",
       " '1232': 1232,\n",
       " '1234': 1234,\n",
       " '1236': 1236,\n",
       " '1238': 1238,\n",
       " '1240': 1240,\n",
       " '1242': 1242,\n",
       " '1244': 1244,\n",
       " '1246': 1246,\n",
       " '1248': 1248,\n",
       " '1250': 1250,\n",
       " '1252': 1252,\n",
       " '1254': 1254,\n",
       " '1256': 1256,\n",
       " '1258': 1258,\n",
       " '1260': 1260,\n",
       " '1262': 1262,\n",
       " '1264': 1264,\n",
       " '1266': 1266,\n",
       " '1268': 1268,\n",
       " '1270': 1270,\n",
       " '1272': 1272,\n",
       " '1274': 1274,\n",
       " '1276': 1276,\n",
       " '1278': 1278,\n",
       " '1280': 1280,\n",
       " '1282': 1282,\n",
       " '1284': 1284,\n",
       " '1286': 1286,\n",
       " '1288': 1288,\n",
       " '1290': 1290,\n",
       " '1292': 1292,\n",
       " '1294': 1294,\n",
       " '1296': 1296,\n",
       " '1298': 1298,\n",
       " '1300': 1300,\n",
       " '1302': 1302,\n",
       " '1304': 1304,\n",
       " '1306': 1306,\n",
       " '1308': 1308,\n",
       " '1310': 1310,\n",
       " '1312': 1312,\n",
       " '1314': 1314,\n",
       " '1316': 1316,\n",
       " '1318': 1318,\n",
       " '1320': 1320,\n",
       " '1322': 1322,\n",
       " '1324': 1324,\n",
       " '1326': 1326,\n",
       " '1328': 1328,\n",
       " '1330': 1330,\n",
       " '1332': 1332,\n",
       " '1334': 1334,\n",
       " '1336': 1336,\n",
       " '1338': 1338,\n",
       " '1340': 1340,\n",
       " '1342': 1342,\n",
       " '1344': 1344,\n",
       " '1346': 1346,\n",
       " '1348': 1348,\n",
       " '1350': 1350,\n",
       " '1352': 1352,\n",
       " '1354': 1354,\n",
       " '1356': 1356,\n",
       " '1358': 1358,\n",
       " '1360': 1360,\n",
       " '1362': 1362,\n",
       " '1364': 1364,\n",
       " '1366': 1366,\n",
       " '1368': 1368,\n",
       " '1370': 1370,\n",
       " '1372': 1372,\n",
       " '1374': 1374,\n",
       " '1376': 1376,\n",
       " '1378': 1378,\n",
       " '1380': 1380,\n",
       " '1382': 1382,\n",
       " '1384': 1384,\n",
       " '1386': 1386,\n",
       " '1388': 1388,\n",
       " '1390': 1390,\n",
       " '1392': 1392,\n",
       " '1394': 1394,\n",
       " '1396': 1396,\n",
       " '1398': 1398,\n",
       " '1400': 1400,\n",
       " '1402': 1402,\n",
       " '1404': 1404,\n",
       " '1406': 1406,\n",
       " '1408': 1408,\n",
       " '1410': 1410,\n",
       " '1412': 1412,\n",
       " '1414': 1414,\n",
       " '1416': 1416,\n",
       " '1418': 1418,\n",
       " '1420': 1420,\n",
       " '1422': 1422,\n",
       " '1424': 1424,\n",
       " '1426': 1426,\n",
       " '1428': 1428,\n",
       " '1430': 1430,\n",
       " '1432': 1432,\n",
       " '1434': 1434,\n",
       " '1436': 1436,\n",
       " '1438': 1438,\n",
       " '1440': 1440,\n",
       " '1442': 1442,\n",
       " '1444': 1444,\n",
       " '1446': 1446,\n",
       " '1448': 1448,\n",
       " '1450': 1450,\n",
       " '1452': 1452,\n",
       " '1454': 1454,\n",
       " '1456': 1456,\n",
       " '1458': 1458,\n",
       " '1460': 1460,\n",
       " '1462': 1462,\n",
       " '1464': 1464,\n",
       " '1466': 1466,\n",
       " '1468': 1468,\n",
       " '1470': 1470,\n",
       " '1472': 1472,\n",
       " '1474': 1474,\n",
       " '1476': 1476,\n",
       " '1478': 1478,\n",
       " '1480': 1480,\n",
       " '1482': 1482,\n",
       " '1484': 1484,\n",
       " '1486': 1486,\n",
       " '1488': 1488,\n",
       " '1490': 1490,\n",
       " '1492': 1492,\n",
       " '1494': 1494,\n",
       " '1496': 1496,\n",
       " '1498': 1498,\n",
       " '1500': 1500,\n",
       " '1502': 1502,\n",
       " '1504': 1504,\n",
       " '1506': 1506,\n",
       " '1508': 1508,\n",
       " '1510': 1510,\n",
       " '1512': 1512,\n",
       " '1514': 1514,\n",
       " '1516': 1516,\n",
       " '1518': 1518,\n",
       " '1520': 1520,\n",
       " '1522': 1522,\n",
       " '1524': 1524,\n",
       " '1526': 1526,\n",
       " '1528': 1528,\n",
       " '1530': 1530,\n",
       " '1532': 1532,\n",
       " '1534': 1534,\n",
       " '1536': 1536,\n",
       " '1538': 1538,\n",
       " '1540': 1540,\n",
       " '1542': 1542,\n",
       " '1544': 1544,\n",
       " '1546': 1546,\n",
       " '1548': 1548,\n",
       " '1550': 1550,\n",
       " '1552': 1552,\n",
       " '1554': 1554,\n",
       " '1556': 1556,\n",
       " '1558': 1558,\n",
       " '1560': 1560,\n",
       " '1562': 1562,\n",
       " '1564': 1564,\n",
       " '1566': 1566,\n",
       " '1568': 1568,\n",
       " '1570': 1570,\n",
       " '1572': 1572,\n",
       " '1574': 1574,\n",
       " '1576': 1576,\n",
       " '1578': 1578,\n",
       " '1580': 1580,\n",
       " '1582': 1582,\n",
       " '1584': 1584,\n",
       " '1586': 1586,\n",
       " '1588': 1588,\n",
       " '1590': 1590,\n",
       " '1592': 1592,\n",
       " '1594': 1594,\n",
       " '1596': 1596,\n",
       " '1598': 1598,\n",
       " '1600': 1600,\n",
       " '1602': 1602,\n",
       " '1604': 1604,\n",
       " '1606': 1606,\n",
       " '1608': 1608,\n",
       " '1610': 1610,\n",
       " '1612': 1612,\n",
       " '1614': 1614,\n",
       " '1616': 1616,\n",
       " '1618': 1618,\n",
       " '1620': 1620,\n",
       " '1622': 1622,\n",
       " '1624': 1624,\n",
       " '1626': 1626,\n",
       " '1628': 1628,\n",
       " '1630': 1630,\n",
       " '1632': 1632,\n",
       " '1634': 1634,\n",
       " '1636': 1636,\n",
       " '1638': 1638,\n",
       " '1640': 1640,\n",
       " '1642': 1642,\n",
       " '1644': 1644,\n",
       " '1646': 1646,\n",
       " '1648': 1648,\n",
       " '1650': 1650,\n",
       " '1652': 1652,\n",
       " '1654': 1654,\n",
       " '1656': 1656,\n",
       " '1658': 1658,\n",
       " '1660': 1660,\n",
       " '1662': 1662,\n",
       " '1664': 1664,\n",
       " '1666': 1666,\n",
       " '1668': 1668,\n",
       " '1670': 1670,\n",
       " '1672': 1672,\n",
       " '1674': 1674,\n",
       " '1676': 1676,\n",
       " '1678': 1678,\n",
       " '1680': 1680,\n",
       " '1682': 1682,\n",
       " '1684': 1684,\n",
       " '1686': 1686,\n",
       " '1688': 1688,\n",
       " '1690': 1690,\n",
       " '1692': 1692,\n",
       " '1694': 1694,\n",
       " '1696': 1696,\n",
       " '1698': 1698,\n",
       " '1700': 1700,\n",
       " '1702': 1702,\n",
       " '1704': 1704,\n",
       " '1706': 1706,\n",
       " '1708': 1708,\n",
       " '1710': 1710,\n",
       " '1712': 1712,\n",
       " '1714': 1714,\n",
       " '1716': 1716,\n",
       " '1718': 1718,\n",
       " '1720': 1720,\n",
       " '1722': 1722,\n",
       " '1724': 1724,\n",
       " '1726': 1726,\n",
       " '1728': 1728,\n",
       " '1730': 1730,\n",
       " '1732': 1732,\n",
       " '1734': 1734,\n",
       " '1736': 1736,\n",
       " '1738': 1738,\n",
       " '1740': 1740,\n",
       " '1742': 1742,\n",
       " '1744': 1744,\n",
       " '1746': 1746,\n",
       " '1748': 1748,\n",
       " '1750': 1750,\n",
       " '1752': 1752,\n",
       " '1754': 1754,\n",
       " '1756': 1756,\n",
       " '1758': 1758,\n",
       " '1760': 1760,\n",
       " '1762': 1762,\n",
       " '1764': 1764,\n",
       " '1766': 1766,\n",
       " '1768': 1768,\n",
       " '1770': 1770,\n",
       " '1772': 1772,\n",
       " '1774': 1774,\n",
       " '1776': 1776,\n",
       " '1778': 1778,\n",
       " '1780': 1780,\n",
       " '1782': 1782,\n",
       " '1784': 1784,\n",
       " '1786': 1786,\n",
       " '1788': 1788,\n",
       " '1790': 1790,\n",
       " '1792': 1792,\n",
       " '1794': 1794,\n",
       " '1796': 1796,\n",
       " '1798': 1798,\n",
       " '1800': 1800,\n",
       " '1802': 1802,\n",
       " '1804': 1804,\n",
       " '1806': 1806,\n",
       " '1808': 1808,\n",
       " '1810': 1810,\n",
       " '1812': 1812,\n",
       " '1814': 1814,\n",
       " '1816': 1816,\n",
       " '1818': 1818,\n",
       " '1820': 1820,\n",
       " '1822': 1822,\n",
       " '1824': 1824,\n",
       " '1826': 1826,\n",
       " '1828': 1828,\n",
       " '1830': 1830,\n",
       " '1832': 1832,\n",
       " '1834': 1834,\n",
       " '1836': 1836,\n",
       " '1838': 1838,\n",
       " '1840': 1840,\n",
       " '1842': 1842,\n",
       " '1844': 1844,\n",
       " '1846': 1846,\n",
       " '1848': 1848,\n",
       " '1850': 1850,\n",
       " '1852': 1852,\n",
       " '1854': 1854,\n",
       " '1856': 1856,\n",
       " '1858': 1858,\n",
       " '1860': 1860,\n",
       " '1862': 1862,\n",
       " '1864': 1864,\n",
       " '1866': 1866,\n",
       " '1868': 1868,\n",
       " '1870': 1870,\n",
       " '1872': 1872,\n",
       " '1874': 1874,\n",
       " '1876': 1876,\n",
       " '1878': 1878,\n",
       " '1880': 1880,\n",
       " '1882': 1882,\n",
       " '1884': 1884,\n",
       " '1886': 1886,\n",
       " '1888': 1888,\n",
       " '1890': 1890,\n",
       " '1892': 1892,\n",
       " '1894': 1894,\n",
       " '1896': 1896,\n",
       " '1898': 1898,\n",
       " '1900': 1900,\n",
       " '1902': 1902,\n",
       " '1904': 1904,\n",
       " '1906': 1906,\n",
       " '1908': 1908,\n",
       " '1910': 1910,\n",
       " '1912': 1912,\n",
       " '1914': 1914,\n",
       " '1916': 1916,\n",
       " '1918': 1918,\n",
       " '1920': 1920,\n",
       " '1922': 1922,\n",
       " '1924': 1924,\n",
       " '1926': 1926,\n",
       " '1928': 1928,\n",
       " '1930': 1930,\n",
       " '1932': 1932,\n",
       " '1934': 1934,\n",
       " '1936': 1936,\n",
       " '1938': 1938,\n",
       " '1940': 1940,\n",
       " '1942': 1942,\n",
       " '1944': 1944,\n",
       " '1946': 1946,\n",
       " '1948': 1948,\n",
       " '1950': 1950,\n",
       " '1952': 1952,\n",
       " '1954': 1954,\n",
       " '1956': 1956,\n",
       " '1958': 1958,\n",
       " '1960': 1960,\n",
       " '1962': 1962,\n",
       " '1964': 1964,\n",
       " '1966': 1966,\n",
       " '1968': 1968,\n",
       " '1970': 1970,\n",
       " '1972': 1972,\n",
       " '1974': 1974,\n",
       " '1976': 1976,\n",
       " '1978': 1978,\n",
       " '1980': 1980,\n",
       " '1982': 1982,\n",
       " '1984': 1984,\n",
       " '1986': 1986,\n",
       " '1988': 1988,\n",
       " '1990': 1990,\n",
       " '1992': 1992,\n",
       " '1994': 1994,\n",
       " '1996': 1996,\n",
       " '1998': 1998,\n",
       " ...}"
      ]
     },
     "execution_count": 28,
     "metadata": {},
     "output_type": "execute_result"
    }
   ],
   "source": [
    "%%time\n",
    "\n",
    "{str(i): i for i in range(10_000_000) if i%2==0}"
   ]
  },
  {
   "cell_type": "code",
   "execution_count": null,
   "metadata": {},
   "outputs": [],
   "source": []
  }
 ],
 "metadata": {
  "kernelspec": {
   "display_name": "Python 3 (ipykernel)",
   "language": "python",
   "name": "python3"
  },
  "language_info": {
   "codemirror_mode": {
    "name": "ipython",
    "version": 3
   },
   "file_extension": ".py",
   "mimetype": "text/x-python",
   "name": "python",
   "nbconvert_exporter": "python",
   "pygments_lexer": "ipython3",
   "version": "3.9.7"
  }
 },
 "nbformat": 4,
 "nbformat_minor": 4
}
