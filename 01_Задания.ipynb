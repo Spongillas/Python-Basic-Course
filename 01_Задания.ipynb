{
  "cells": [
    {
      "cell_type": "markdown",
      "metadata": {},
      "source": [
        "# Python (базовый). 01. Типы данных\n",
        "\n",
        "Задания к презентации \"01_Введение, типы данных.pptx\" курса Python (basic)"
      ]
    },
    {
      "cell_type": "markdown",
      "metadata": {},
      "source": [
        "## Задание 3"
      ]
    },
    {
      "cell_type": "markdown",
      "metadata": {},
      "source": [
        "1. Создайте целочисленную переменную a, равную десяти, выведите в консоль ее значение и тип.\n",
        "2. Создайте переменную с плавающей запятой b, также равную десяти, выведите в консоль ее значение и тип. \n",
        "3. Создайте строковую переменную с, равную восьми, выведите в консоль ее значение и тип. \n",
        "4. Возведите в квадрат переменную a и сложите ее с переменной b, и из полученного значения извлеките квадратный корень. Присвойте значение этого выражения переменной x.\n",
        "6. Сложите переменную x с переменной c, найдите остаток от деления на 2 и присвойте это значение переменной y.\n",
        "7. Выведите идентификаторы полученных переменных (id()) и сравните их\n",
        "8. Выполните шаги 1..6, но предварительно преобразуйте переменную b в int."
      ]
    },
    {
      "cell_type": "code",
      "execution_count": 25,
      "metadata": {},
      "outputs": [
        {
          "data": {
            "text/plain": [
              "(10, int)"
            ]
          },
          "execution_count": 25,
          "metadata": {},
          "output_type": "execute_result"
        }
      ],
      "source": [
        "a = 10\n",
        "\n",
        "a, type(a)"
      ]
    },
    {
      "cell_type": "code",
      "execution_count": 34,
      "metadata": {},
      "outputs": [
        {
          "data": {
            "text/plain": [
              "(10.0, float)"
            ]
          },
          "execution_count": 34,
          "metadata": {},
          "output_type": "execute_result"
        }
      ],
      "source": [
        "b = 10.0\n",
        "\n",
        "b, type(b)"
      ]
    },
    {
      "cell_type": "code",
      "execution_count": 35,
      "metadata": {},
      "outputs": [
        {
          "data": {
            "text/plain": [
              "10.488088481701515"
            ]
          },
          "execution_count": 35,
          "metadata": {},
          "output_type": "execute_result"
        }
      ],
      "source": [
        "x = (a**2 + b)**0.5\n",
        "\n",
        "x"
      ]
    },
    {
      "cell_type": "code",
      "execution_count": 36,
      "metadata": {},
      "outputs": [
        {
          "data": {
            "text/plain": [
              "1.588088481701515"
            ]
          },
          "execution_count": 36,
          "metadata": {},
          "output_type": "execute_result"
        }
      ],
      "source": [
        "y = (x + c) % 2\n",
        "\n",
        "y"
      ]
    },
    {
      "cell_type": "code",
      "execution_count": 37,
      "metadata": {},
      "outputs": [
        {
          "data": {
            "text/plain": [
              "(2262409952560, 2262409950960, 2262278629968, 2262409952688)"
            ]
          },
          "execution_count": 37,
          "metadata": {},
          "output_type": "execute_result"
        }
      ],
      "source": [
        "id(x), id(y), id(a), id(b)"
      ]
    },
    {
      "cell_type": "code",
      "execution_count": 41,
      "metadata": {},
      "outputs": [
        {
          "data": {
            "text/plain": [
              "(10, 10, 10.488088481701515, 1.588088481701515)"
            ]
          },
          "execution_count": 41,
          "metadata": {},
          "output_type": "execute_result"
        }
      ],
      "source": [
        "a = 10\n",
        "b = int(10.0)\n",
        "x = (a**2 + b)**0.5\n",
        "y = (x + c) % 2\n",
        "\n",
        "a, b, x, y"
      ]
    },
    {
      "cell_type": "code",
      "execution_count": 39,
      "metadata": {},
      "outputs": [
        {
          "data": {
            "text/plain": [
              "(2262409952048, 2262411371056, 2262278629968, 2262278629968)"
            ]
          },
          "execution_count": 39,
          "metadata": {},
          "output_type": "execute_result"
        }
      ],
      "source": [
        "id(x), id(y), id(a), id(b)"
      ]
    },
    {
      "cell_type": "markdown",
      "metadata": {},
      "source": [
        "## Задание 4\n",
        "\n",
        "1. Создайте список employees, в котором будут содержаться кортежи сотрудников в формате (имя, фамилия, возраст, должность). Инициализируйте его произвольными пятью сотрудниками.\n",
        "2. Добавьте в список нового сотрудника\n",
        "3. Выведите в консоль должность нового сотрудника\n",
        "4. Измените должность нового сотрудника на «руководитель»\n",
        "5. Выведите в консоль данные произвольного сотрудника (модуль random)"
      ]
    },
    {
      "cell_type": "code",
      "execution_count": 8,
      "metadata": {
        "trusted": true
      },
      "outputs": [
        {
          "data": {
            "text/plain": [
              "[('иван', 'иванов', 35, 'сотрудник'),\n",
              " ('иван1', 'иванов1', 36, 'сотрудник'),\n",
              " ('иван2', 'иванов2', 37, 'сотрудник'),\n",
              " ('иван3', 'иванов3', 38, 'сотрудник')]"
            ]
          },
          "execution_count": 8,
          "metadata": {},
          "output_type": "execute_result"
        }
      ],
      "source": [
        "employees = [\n",
        "    ('иван', 'иванов', 35, 'сотрудник'),\n",
        "    ('иван1', 'иванов1', 36, 'сотрудник'),\n",
        "    ('иван2', 'иванов2', 37, 'сотрудник'),\n",
        "    ('иван3', 'иванов3', 38, 'сотрудник'),\n",
        "]\n",
        "\n",
        "employees"
      ]
    },
    {
      "cell_type": "code",
      "execution_count": 9,
      "metadata": {
        "trusted": true
      },
      "outputs": [
        {
          "data": {
            "text/plain": [
              "[('иван', 'иванов', 35, 'сотрудник'),\n",
              " ('иван1', 'иванов1', 36, 'сотрудник'),\n",
              " ('иван2', 'иванов2', 37, 'сотрудник'),\n",
              " ('иван3', 'иванов3', 38, 'сотрудник'),\n",
              " ('олег', 'петров', 44, 'инженер')]"
            ]
          },
          "execution_count": 9,
          "metadata": {},
          "output_type": "execute_result"
        }
      ],
      "source": [
        "employees.append(('олег', 'петров', 44, 'инженер'))\n",
        "employees"
      ]
    },
    {
      "cell_type": "code",
      "execution_count": 10,
      "metadata": {
        "trusted": true
      },
      "outputs": [
        {
          "data": {
            "text/plain": [
              "'инженер'"
            ]
          },
          "execution_count": 10,
          "metadata": {},
          "output_type": "execute_result"
        }
      ],
      "source": [
        "employees[-1][-1]"
      ]
    },
    {
      "cell_type": "code",
      "execution_count": 11,
      "metadata": {},
      "outputs": [
        {
          "ename": "TypeError",
          "evalue": "'tuple' object does not support item assignment",
          "output_type": "error",
          "traceback": [
            "\u001b[1;31m---------------------------------------------------------------------------\u001b[0m",
            "\u001b[1;31mTypeError\u001b[0m                                 Traceback (most recent call last)",
            "\u001b[1;32mC:\\Users\\ASKORO~1\\AppData\\Local\\Temp/ipykernel_39944/877747146.py\u001b[0m in \u001b[0;36m<module>\u001b[1;34m\u001b[0m\n\u001b[1;32m----> 1\u001b[1;33m \u001b[0memployees\u001b[0m\u001b[1;33m[\u001b[0m\u001b[1;33m-\u001b[0m\u001b[1;36m1\u001b[0m\u001b[1;33m]\u001b[0m\u001b[1;33m[\u001b[0m\u001b[1;33m-\u001b[0m\u001b[1;36m1\u001b[0m\u001b[1;33m]\u001b[0m \u001b[1;33m=\u001b[0m \u001b[1;34m'руководитель'\u001b[0m\u001b[1;33m\u001b[0m\u001b[1;33m\u001b[0m\u001b[0m\n\u001b[0m",
            "\u001b[1;31mTypeError\u001b[0m: 'tuple' object does not support item assignment"
          ]
        }
      ],
      "source": [
        "employees[-1][-1] = 'руководитель'"
      ]
    },
    {
      "cell_type": "code",
      "execution_count": 12,
      "metadata": {
        "trusted": true
      },
      "outputs": [
        {
          "data": {
            "text/plain": [
              "('иван3', 'иванов3', 38, 'сотрудник')"
            ]
          },
          "execution_count": 12,
          "metadata": {},
          "output_type": "execute_result"
        }
      ],
      "source": [
        "import random\n",
        "\n",
        "random.choice(employees)"
      ]
    },
    {
      "cell_type": "markdown",
      "metadata": {},
      "source": [
        "## Задание 5\n",
        "\n",
        "1. Присвойте строковой переменной s любой текст из нескольких (>2) предложений длиной не менее 20 символов.\n",
        "2. Выведите на экран длину переменной s.\n",
        "3. Приведите весь текст к нижнему регистру, выведите на экран.\n",
        "4. Замените все пробелы в переменной на знак @, выведите на экран.\n",
        "5. Разбейте ваш текст на предложения и выведите их на экран в виде списка\n",
        "6. Проверьте, состоит ли ваше первое предложение только из букв. Выведите результат на экран.\n",
        "7. Выведите на экран второе слово первого предложения вашего текста в обратном порядке.\n",
        "8. Разбейте ваше второе предложение и выведите на экран слова с первого по пятое включительно, через одно."
      ]
    },
    {
      "cell_type": "code",
      "execution_count": 21,
      "metadata": {
        "trusted": true
      },
      "outputs": [],
      "source": [
        "s = '''\n",
        "Присвойте строковой переменной s любой текст из нескольких (>2) предложений длиной не менее 20 символов.\n",
        "Выведите на экран длину переменной s.\n",
        "Приведите весь текст к нижнему регистру, выведите на экран.\n",
        "Замените все пробелы в переменной на знак @, выведите на экран.\n",
        "Разбейте ваш текст на предложения и выведите их на экран в виде списка\n",
        "Проверьте, состоит ли ваше первое предложение только из букв. Выведите результат на экран.\n",
        "Выведите на экран второе слово первой строки вашего текста в обратном порядке.\n",
        "Разбейте ваше второе предложение и выведите на экран слова с первого по пятое включительно, через одно.\n",
        "\n",
        "'''"
      ]
    },
    {
      "cell_type": "code",
      "execution_count": 22,
      "metadata": {
        "trusted": true
      },
      "outputs": [
        {
          "data": {
            "text/plain": [
              "614"
            ]
          },
          "execution_count": 22,
          "metadata": {},
          "output_type": "execute_result"
        }
      ],
      "source": [
        "len(s)"
      ]
    },
    {
      "cell_type": "code",
      "execution_count": 23,
      "metadata": {
        "trusted": true
      },
      "outputs": [
        {
          "data": {
            "text/plain": [
              "'\\nприсвойте строковой переменной s любой текст из нескольких (>2) предложений длиной не менее 20 символов.\\nвыведите на экран длину переменной s.\\nприведите весь текст к нижнему регистру, выведите на экран.\\nзамените все пробелы в переменной на знак @, выведите на экран.\\nразбейте ваш текст на предложения и выведите их на экран в виде списка\\nпроверьте, состоит ли ваше первое предложение только из букв. выведите результат на экран.\\nвыведите на экран второе слово первой строки вашего текста в обратном порядке.\\nразбейте ваше второе предложение и выведите на экран слова с первого по пятое включительно, через одно.\\n\\n'"
            ]
          },
          "execution_count": 23,
          "metadata": {},
          "output_type": "execute_result"
        }
      ],
      "source": [
        "s.lower()"
      ]
    },
    {
      "cell_type": "code",
      "execution_count": 24,
      "metadata": {
        "trusted": true
      },
      "outputs": [
        {
          "data": {
            "text/plain": [
              "'Присвойте строковой переменной s любой текст из нескольких (>2) предложений длиной не менее 20 символов.Выведите на экран длину переменной s.Приведите весь текст к нижнему регистру, выведите на экран.Замените все пробелы в переменной на знак @, выведите на экран.Разбейте ваш текст на предложения и выведите их на экран в виде спискаПроверьте, состоит ли ваше первое предложение только из букв. Выведите результат на экран.Выведите на экран второе слово первой строки вашего текста в обратном порядке.Разбейте ваше второе предложение и выведите на экран слова с первого по пятое включительно, через одно.'"
            ]
          },
          "execution_count": 24,
          "metadata": {},
          "output_type": "execute_result"
        }
      ],
      "source": [
        "s.replace('\\n','')"
      ]
    },
    {
      "cell_type": "code",
      "execution_count": 25,
      "metadata": {
        "trusted": true
      },
      "outputs": [
        {
          "data": {
            "text/plain": [
              "'\\nПрисвойте@строковой@переменной@s@любой@текст@из@нескольких@(>2)@предложений@длиной@не@менее@20@символов.\\nВыведите@на@экран@длину@переменной@s.\\nПриведите@весь@текст@к@нижнему@регистру,@выведите@на@экран.\\nЗамените@все@пробелы@в@переменной@на@знак@@,@выведите@на@экран.\\nРазбейте@ваш@текст@на@предложения@и@выведите@их@на@экран@в@виде@списка\\nПроверьте,@состоит@ли@ваше@первое@предложение@только@из@букв.@Выведите@результат@на@экран.\\nВыведите@на@экран@второе@слово@первой@строки@вашего@текста@в@обратном@порядке.\\nРазбейте@ваше@второе@предложение@и@выведите@на@экран@слова@с@первого@по@пятое@включительно,@через@одно.\\n\\n'"
            ]
          },
          "execution_count": 25,
          "metadata": {},
          "output_type": "execute_result"
        }
      ],
      "source": [
        "s.replace(' ','@')"
      ]
    },
    {
      "cell_type": "code",
      "execution_count": 27,
      "metadata": {},
      "outputs": [
        {
          "data": {
            "text/plain": [
              "['\\nПрисвойте строковой переменной s любой текст из нескольких (>2) предложений длиной не менее 20 символов',\n",
              " '\\nВыведите на экран длину переменной s',\n",
              " '\\nПриведите весь текст к нижнему регистру, выведите на экран',\n",
              " '\\nЗамените все пробелы в переменной на знак @, выведите на экран',\n",
              " '\\nРазбейте ваш текст на предложения и выведите их на экран в виде списка\\nПроверьте, состоит ли ваше первое предложение только из букв',\n",
              " ' Выведите результат на экран',\n",
              " '\\nВыведите на экран второе слово первой строки вашего текста в обратном порядке',\n",
              " '\\nРазбейте ваше второе предложение и выведите на экран слова с первого по пятое включительно, через одно',\n",
              " '\\n\\n']"
            ]
          },
          "execution_count": 27,
          "metadata": {},
          "output_type": "execute_result"
        }
      ],
      "source": [
        "s.split('.')"
      ]
    },
    {
      "cell_type": "code",
      "execution_count": 18,
      "metadata": {
        "trusted": true
      },
      "outputs": [
        {
          "data": {
            "text/plain": [
              "False"
            ]
          },
          "execution_count": 18,
          "metadata": {},
          "output_type": "execute_result"
        }
      ],
      "source": [
        "s.replace('@','').isalpha()"
      ]
    },
    {
      "cell_type": "code",
      "execution_count": 19,
      "metadata": {
        "trusted": true
      },
      "outputs": [
        {
          "data": {
            "text/plain": [
              "False"
            ]
          },
          "execution_count": 19,
          "metadata": {},
          "output_type": "execute_result"
        }
      ],
      "source": [
        "s.replace('\\n','').replace('@','').replace('>','').isalnum()"
      ]
    },
    {
      "cell_type": "code",
      "execution_count": 20,
      "metadata": {
        "trusted": true
      },
      "outputs": [
        {
          "data": {
            "text/plain": [
              "'Присвойте строковой переменной s любой текст из нескольких (>2) предложений длиной не менее 20 символов'"
            ]
          },
          "execution_count": 20,
          "metadata": {},
          "output_type": "execute_result"
        }
      ],
      "source": [
        "s.replace('\\n','').split('.')[0]"
      ]
    },
    {
      "cell_type": "code",
      "execution_count": 28,
      "metadata": {
        "trusted": true
      },
      "outputs": [
        {
          "data": {
            "text/plain": [
              "'йовокортс'"
            ]
          },
          "execution_count": 28,
          "metadata": {},
          "output_type": "execute_result"
        }
      ],
      "source": [
        "s.replace('\\n','').split('.')[0].split()[1][::-1]"
      ]
    },
    {
      "cell_type": "code",
      "execution_count": 89,
      "metadata": {
        "trusted": true
      },
      "outputs": [
        {
          "data": {
            "text/plain": [
              "'Выведите на экран длину переменной s'"
            ]
          },
          "execution_count": 89,
          "metadata": {},
          "output_type": "execute_result"
        }
      ],
      "source": [
        "s.replace('\\n','').split('.')[1]"
      ]
    },
    {
      "cell_type": "code",
      "execution_count": 90,
      "metadata": {
        "trusted": true
      },
      "outputs": [
        {
          "data": {
            "text/plain": [
              "['на', 'длину', 's']"
            ]
          },
          "execution_count": 90,
          "metadata": {},
          "output_type": "execute_result"
        }
      ],
      "source": [
        "s.replace('\\n','').split('.')[1].split()[1:6:2]"
      ]
    },
    {
      "cell_type": "code",
      "execution_count": 29,
      "metadata": {
        "trusted": true
      },
      "outputs": [
        {
          "data": {
            "text/plain": [
              "104"
            ]
          },
          "execution_count": 29,
          "metadata": {},
          "output_type": "execute_result"
        }
      ],
      "source": [
        "len(list(s.split('.')[0])) # количество символов в предложении"
      ]
    },
    {
      "cell_type": "code",
      "execution_count": 30,
      "metadata": {
        "trusted": true
      },
      "outputs": [
        {
          "data": {
            "text/plain": [
              "29"
            ]
          },
          "execution_count": 30,
          "metadata": {},
          "output_type": "execute_result"
        }
      ],
      "source": [
        "len(set(list(s.split('.')[0]))) # количество уникальных символов в предложении"
      ]
    },
    {
      "cell_type": "markdown",
      "metadata": {},
      "source": [
        "## Задание 6\n",
        "\n",
        "1. Преобразуйте ваш список employees из задания 4 в словарь, где ключом будет выступать кортеж из имени и фамилии сотрудника, а значениями – словарь из возраста (‘age’) и должности (‘position’)\n",
        "2. Добавьте еще одного сотрудника в словарь\n",
        "3. Выведите на экран запрос несуществующего сотрудника, чтобы запрос вернул (None)\n",
        "4. Выведите на экран всех сотрудников\n"
      ]
    },
    {
      "cell_type": "code",
      "execution_count": 32,
      "metadata": {
        "trusted": true
      },
      "outputs": [
        {
          "data": {
            "text/plain": [
              "{('иван', 'иванов'): {'age': 35, 'position': 'сотрудник'},\n",
              " ('иван1', 'иванов1'): {'age': 36, 'position': 'сотрудник'},\n",
              " ('иван2', 'иванов2'): {'age': 37, 'position': 'сотрудник'},\n",
              " ('иван3', 'иванов3'): {'age': 38, 'position': 'сотрудник'}}"
            ]
          },
          "execution_count": 32,
          "metadata": {},
          "output_type": "execute_result"
        }
      ],
      "source": [
        "employees = {\n",
        "    ('иван', 'иванов'): {'age': 35, 'position': 'сотрудник'},\n",
        "    ('иван1', 'иванов1'): {'age': 36, 'position': 'сотрудник'},\n",
        "    ('иван2', 'иванов2'): {'age': 37, 'position': 'сотрудник'},\n",
        "    ('иван3', 'иванов3'): {'age': 38, 'position': 'сотрудник'},\n",
        "}\n",
        "\n",
        "employees"
      ]
    },
    {
      "cell_type": "code",
      "execution_count": 33,
      "metadata": {
        "trusted": true
      },
      "outputs": [
        {
          "data": {
            "text/plain": [
              "{'age': 35, 'position': 'сотрудник'}"
            ]
          },
          "execution_count": 33,
          "metadata": {},
          "output_type": "execute_result"
        }
      ],
      "source": [
        "employees[('иван', 'иванов')]"
      ]
    },
    {
      "cell_type": "code",
      "execution_count": 34,
      "metadata": {
        "trusted": true
      },
      "outputs": [],
      "source": [
        "employees.update({('Алексей', 'Петров'): {'age': 40, 'position': 'сотрудник1'}})"
      ]
    },
    {
      "cell_type": "code",
      "execution_count": 35,
      "metadata": {
        "trusted": true
      },
      "outputs": [
        {
          "data": {
            "text/plain": [
              "{('иван', 'иванов'): {'age': 35, 'position': 'сотрудник'},\n",
              " ('иван1', 'иванов1'): {'age': 36, 'position': 'сотрудник'},\n",
              " ('иван2', 'иванов2'): {'age': 37, 'position': 'сотрудник'},\n",
              " ('иван3', 'иванов3'): {'age': 38, 'position': 'сотрудник'},\n",
              " ('Алексей', 'Петров'): {'age': 40, 'position': 'сотрудник1'}}"
            ]
          },
          "execution_count": 35,
          "metadata": {},
          "output_type": "execute_result"
        }
      ],
      "source": [
        "employees"
      ]
    },
    {
      "cell_type": "code",
      "execution_count": 36,
      "metadata": {},
      "outputs": [
        {
          "ename": "KeyError",
          "evalue": "('иван', 'иван9999999ов')",
          "output_type": "error",
          "traceback": [
            "\u001b[1;31m---------------------------------------------------------------------------\u001b[0m",
            "\u001b[1;31mKeyError\u001b[0m                                  Traceback (most recent call last)",
            "\u001b[1;32mC:\\Users\\ASKORO~1\\AppData\\Local\\Temp/ipykernel_39944/722999618.py\u001b[0m in \u001b[0;36m<module>\u001b[1;34m\u001b[0m\n\u001b[1;32m----> 1\u001b[1;33m \u001b[0memployees\u001b[0m\u001b[1;33m[\u001b[0m\u001b[1;33m(\u001b[0m\u001b[1;34m'иван'\u001b[0m\u001b[1;33m,\u001b[0m \u001b[1;34m'иван9999999ов'\u001b[0m\u001b[1;33m)\u001b[0m\u001b[1;33m]\u001b[0m\u001b[1;33m\u001b[0m\u001b[1;33m\u001b[0m\u001b[0m\n\u001b[0m",
            "\u001b[1;31mKeyError\u001b[0m: ('иван', 'иван9999999ов')"
          ]
        }
      ],
      "source": [
        "employees[('иван', 'иван9999999ов')]"
      ]
    },
    {
      "cell_type": "code",
      "execution_count": 37,
      "metadata": {},
      "outputs": [
        {
          "name": "stdout",
          "output_type": "stream",
          "text": [
            "иван иванов\n",
            "иван1 иванов1\n",
            "иван2 иванов2\n",
            "иван3 иванов3\n",
            "Алексей Петров\n"
          ]
        }
      ],
      "source": [
        "for key in employees.keys():\n",
        "    print(\" \".join(key))"
      ]
    },
    {
      "cell_type": "markdown",
      "metadata": {},
      "source": [
        "## Задание 7\n",
        "\n",
        "1. Используйте ваш словарь employees из задания 6, добавьте каждому сотруднику в словарь его параметров параметр «зарплата» (‘salary’) с произвольными целочисленными значениями.\n",
        "2. Найдите (for) самого низкооплачиваемого и высокооплачиваемого сотрудника, выведите на экран (например, “Петров получает 100000, а Сидоров 10000”). Для форматирования можно воспользоваться f-string:\n",
        "3. Повышайте зарплату самому низкооплачиваемому сотруднику до тех пор, пока (while) она не сравняется или не станет выше зарплаты самого высокооплачиваемого сотрудника. Шаг повышения зарплаты должен быть равен одной десятой разницы между зарплатами указанных сотрудников. После каждого повышения выводите на экран новую зарплату, а в конце – увольте сотрудника путем удаления его из словаря.\n"
      ]
    },
    {
      "cell_type": "code",
      "execution_count": 38,
      "metadata": {
        "trusted": true
      },
      "outputs": [
        {
          "data": {
            "text/plain": [
              "{('иван', 'иванов'): {'age': 35, 'position': 'сотрудник'},\n",
              " ('иван1', 'иванов1'): {'age': 36, 'position': 'сотрудник'},\n",
              " ('иван2', 'иванов2'): {'age': 37, 'position': 'сотрудник'},\n",
              " ('иван3', 'иванов3'): {'age': 38, 'position': 'сотрудник'},\n",
              " ('Алексей', 'Петров'): {'age': 40, 'position': 'сотрудник1'}}"
            ]
          },
          "execution_count": 38,
          "metadata": {},
          "output_type": "execute_result"
        }
      ],
      "source": [
        "employees"
      ]
    },
    {
      "cell_type": "code",
      "execution_count": 39,
      "metadata": {
        "trusted": true
      },
      "outputs": [
        {
          "data": {
            "text/plain": [
              "{('иван', 'иванов'): {'age': 35, 'position': 'сотрудник', 'salary': 59984},\n",
              " ('иван1', 'иванов1'): {'age': 36, 'position': 'сотрудник', 'salary': 79110},\n",
              " ('иван2', 'иванов2'): {'age': 37, 'position': 'сотрудник', 'salary': 73764},\n",
              " ('иван3', 'иванов3'): {'age': 38, 'position': 'сотрудник', 'salary': 66740},\n",
              " ('Алексей', 'Петров'): {'age': 40, 'position': 'сотрудник1', 'salary': 90029}}"
            ]
          },
          "execution_count": 39,
          "metadata": {},
          "output_type": "execute_result"
        }
      ],
      "source": [
        "import random\n",
        "\n",
        "for key, value in employees.items():\n",
        "    employees[key]['salary'] = random.randint(50_000, 100_000)\n",
        "    \n",
        "employees"
      ]
    },
    {
      "cell_type": "code",
      "execution_count": 40,
      "metadata": {
        "trusted": true
      },
      "outputs": [
        {
          "name": "stdout",
          "output_type": "stream",
          "text": [
            "Петров получает 90029 р, а иванов получает 59984!\n"
          ]
        }
      ],
      "source": [
        "key_max = None\n",
        "key_min = None\n",
        "\n",
        "salary_min = 100_000\n",
        "salary_max = 0\n",
        "\n",
        "for key, value in employees.items():\n",
        "    \n",
        "    if value['salary'] > salary_max:\n",
        "        key_max = key\n",
        "        salary_max = value['salary']\n",
        "        \n",
        "\n",
        "    if value['salary'] < salary_min:\n",
        "        key_min = key\n",
        "        salary_min = value['salary']\n",
        "        \n",
        "print(f\"{key_max[1]} получает {salary_max} р, а {key_min[1]} получает \"\n",
        "      f\"{employees[key_min]['salary']}!\")        "
      ]
    },
    {
      "cell_type": "code",
      "execution_count": 41,
      "metadata": {
        "trusted": true
      },
      "outputs": [
        {
          "name": "stdout",
          "output_type": "stream",
          "text": [
            "шаг повышения ЗП: 3004\n",
            "62988\n",
            "65992\n",
            "68996\n",
            "72000\n",
            "75004\n",
            "78008\n",
            "81012\n",
            "84016\n",
            "87020\n",
            "90024\n",
            "93028\n"
          ]
        },
        {
          "data": {
            "text/plain": [
              "{('иван1', 'иванов1'): {'age': 36, 'position': 'сотрудник', 'salary': 79110},\n",
              " ('иван2', 'иванов2'): {'age': 37, 'position': 'сотрудник', 'salary': 73764},\n",
              " ('иван3', 'иванов3'): {'age': 38, 'position': 'сотрудник', 'salary': 66740},\n",
              " ('Алексей', 'Петров'): {'age': 40, 'position': 'сотрудник1', 'salary': 90029}}"
            ]
          },
          "execution_count": 41,
          "metadata": {},
          "output_type": "execute_result"
        }
      ],
      "source": [
        "delta = round(0.1 * (salary_max - salary_min))\n",
        "print('шаг повышения ЗП:', delta)\n",
        "\n",
        "while employees[key_min]['salary'] < employees[key_max]['salary']:\n",
        "    employees[key_min]['salary'] = employees[key_min]['salary'] + delta\n",
        "    print(employees[key_min]['salary'])\n",
        "    \n",
        "employees.pop(key_min)\n",
        "employees"
      ]
    },
    {
      "cell_type": "markdown",
      "metadata": {},
      "source": [
        "## Задание 8\n",
        "\n",
        "1. При помощи list comprehension создайте список из целочисленных значений от 1 до 20.\n",
        "2. При помощи list comprehension создайте список из целочисленных значений от 1 до 20, но только нечетные числа.\n",
        "3. При помощи dict comprehension создайте новый словарь из словаря employees, где ключом будет фамилия, а значением – должность сотрудника.\n",
        "4. При помощи dict comprehension создайте новый словарь из словаря employees, где ключом будет фамилия, а значением – должность сотрудника, если его зарплата больше 50000.\n"
      ]
    },
    {
      "cell_type": "code",
      "execution_count": 42,
      "metadata": {},
      "outputs": [
        {
          "data": {
            "text/plain": [
              "[1, 2, 3, 4, 5, 6, 7, 8, 9, 10, 11, 12, 13, 14, 15, 16, 17, 18, 19, 20]"
            ]
          },
          "execution_count": 42,
          "metadata": {},
          "output_type": "execute_result"
        }
      ],
      "source": [
        "[i for i in range(1,21)]"
      ]
    },
    {
      "cell_type": "code",
      "execution_count": 44,
      "metadata": {},
      "outputs": [
        {
          "data": {
            "text/plain": [
              "[1, 3, 5, 7, 9, 11, 13, 15, 17, 19]"
            ]
          },
          "execution_count": 44,
          "metadata": {},
          "output_type": "execute_result"
        }
      ],
      "source": [
        "[i for i in range(1,21) if i%2==1]"
      ]
    },
    {
      "cell_type": "code",
      "execution_count": 50,
      "metadata": {},
      "outputs": [
        {
          "data": {
            "text/plain": [
              "{('иван1', 'иванов1'): {'age': 36, 'position': 'сотрудник', 'salary': 79110},\n",
              " ('иван2', 'иванов2'): {'age': 37, 'position': 'сотрудник', 'salary': 73764},\n",
              " ('иван3', 'иванов3'): {'age': 38, 'position': 'сотрудник', 'salary': 66740},\n",
              " ('Алексей', 'Петров'): {'age': 40, 'position': 'сотрудник1', 'salary': 90029}}"
            ]
          },
          "execution_count": 50,
          "metadata": {},
          "output_type": "execute_result"
        }
      ],
      "source": [
        "employees"
      ]
    },
    {
      "cell_type": "code",
      "execution_count": 48,
      "metadata": {},
      "outputs": [
        {
          "data": {
            "text/plain": [
              "{'иванов1': 'сотрудник',\n",
              " 'иванов2': 'сотрудник',\n",
              " 'иванов3': 'сотрудник',\n",
              " 'Петров': 'сотрудник1'}"
            ]
          },
          "execution_count": 48,
          "metadata": {},
          "output_type": "execute_result"
        }
      ],
      "source": [
        "{key[1]: value['position'] for key, value in employees.items()}"
      ]
    },
    {
      "cell_type": "code",
      "execution_count": 49,
      "metadata": {
        "trusted": true
      },
      "outputs": [
        {
          "data": {
            "text/plain": [
              "{'иванов1': 'сотрудник',\n",
              " 'иванов2': 'сотрудник',\n",
              " 'иванов3': 'сотрудник',\n",
              " 'Петров': 'сотрудник1'}"
            ]
          },
          "execution_count": 49,
          "metadata": {},
          "output_type": "execute_result"
        }
      ],
      "source": [
        "{key[1]: value['position'] for key, value in employees.items() if value['salary']>50000}"
      ]
    },
    {
      "cell_type": "code",
      "execution_count": null,
      "metadata": {},
      "outputs": [],
      "source": []
    }
  ],
  "metadata": {
    "kernelspec": {
      "display_name": ".venv",
      "language": "python",
      "name": "python3"
    },
    "language_info": {
      "codemirror_mode": {
        "name": "ipython",
        "version": 3
      },
      "file_extension": ".py",
      "mimetype": "text/x-python",
      "name": "python",
      "nbconvert_exporter": "python",
      "pygments_lexer": "ipython3",
      "version": "3.9.7"
    }
  },
  "nbformat": 4,
  "nbformat_minor": 4
}
